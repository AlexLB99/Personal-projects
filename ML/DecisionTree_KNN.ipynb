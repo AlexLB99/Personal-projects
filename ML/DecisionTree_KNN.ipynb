{
  "nbformat": 4,
  "nbformat_minor": 0,
  "metadata": {
    "kernelspec": {
      "display_name": "Python 3",
      "language": "python",
      "name": "python3"
    },
    "language_info": {
      "codemirror_mode": {
        "name": "ipython",
        "version": 3
      },
      "file_extension": ".py",
      "mimetype": "text/x-python",
      "name": "python",
      "nbconvert_exporter": "python",
      "pygments_lexer": "ipython3",
      "version": "3.8.5"
    },
    "colab": {
      "name": "MP1_DecisionTree_KNN_20200205.ipynb",
      "provenance": [],
      "collapsed_sections": [
        "z_z4Qs8092UY",
        "Gbsp5yvB92Ul",
        "bAZdSNN392Ut"
      ],
      "machine_shape": "hm"
    }
  },
  "cells": [
    {
      "cell_type": "markdown",
      "metadata": {
        "id": "Cb1hgpq992UR"
      },
      "source": [
        "[![Open In Colab](https://colab.research.google.com/assets/colab-badge.svg)](https://colab.research.google.com/github/mravanba/comp551-notebooks/blob/master/DecisionTree.ipynb)\n",
        "\n",
        "# Decision tree \n",
        "We want implement a decision tree for classification from scratch. For this, first we define a data-structure to represent nodes, then we define a function to pick the best *test* for a node based on a *cost function*. Starting from the root node, we use this test function recursively to find the best split until a *max-depth* is reached. Procedures closely follow our presentation in the class. This implementation is rather involved. You may find it  more difficult to follow compared to KNN implementation. "
      ]
    },
    {
      "cell_type": "markdown",
      "metadata": {
        "id": "9czgntjHFFTg"
      },
      "source": [
        "##Initialization"
      ]
    },
    {
      "cell_type": "code",
      "metadata": {
        "id": "tvP8QXcn92US"
      },
      "source": [
        "import numpy as np\n",
        "#%matplotlib notebook\n",
        "%matplotlib inline\n",
        "import matplotlib.pyplot as plt\n",
        "from IPython.core.debugger import set_trace\n",
        "np.random.seed(1234)\n",
        "\n",
        "import pandas as pd\n",
        "import copy\n",
        "pd.set_option('max_colwidth', None)"
      ],
      "execution_count": null,
      "outputs": []
    },
    {
      "cell_type": "code",
      "metadata": {
        "colab": {
          "base_uri": "https://localhost:8080/"
        },
        "id": "ivVFkjFM150N",
        "outputId": "a301e547-1e23-40a4-b48a-3c4851c4a8a6"
      },
      "source": [
        "from google.colab import drive\r\n",
        "drive.mount('/content/drive')"
      ],
      "execution_count": null,
      "outputs": [
        {
          "output_type": "stream",
          "text": [
            "Drive already mounted at /content/drive; to attempt to forcibly remount, call drive.mount(\"/content/drive\", force_remount=True).\n"
          ],
          "name": "stdout"
        }
      ]
    },
    {
      "cell_type": "code",
      "metadata": {
        "id": "NBTu8JCv2B0Q"
      },
      "source": [
        "BCW_prepro = pd.read_csv('drive//My Drive/breast_cancer_wisconsin.csv') \r\n",
        "\r\n",
        "#Split into train and test\r\n",
        "num_instances_preprocessing = BCW_prepro.shape[0]\r\n",
        "\r\n",
        "test_prop = 0.15\r\n",
        "n_test = int(test_prop*num_instances_preprocessing) \r\n",
        "inds = np.random.permutation(num_instances_preprocessing)\r\n",
        "BCW_prepro_TEST = BCW_prepro.loc[inds[:n_test]]\r\n",
        "BCW_prepro_TRAINING = BCW_prepro.loc[inds[n_test:]]"
      ],
      "execution_count": null,
      "outputs": []
    },
    {
      "cell_type": "code",
      "metadata": {
        "id": "xS_ToctRMTBY"
      },
      "source": [
        "#BCW_prepro.shape[0]\r\n",
        "np.savetxt(\"index_test.csv\", inds[:n_test], delimiter=\",\")\r\n",
        "BCW_prepro_TEST.to_csv('BCW_prepro_TEST.csv')\r\n",
        "BCW_prepro_TRAINING.to_csv('BCW_prepro_TRAINING.csv')\r\n",
        "#jokes=pd.read_csv('drive//My Drive/jokes_processed_20201110.csv', index_col=0, "
      ],
      "execution_count": null,
      "outputs": []
    },
    {
      "cell_type": "code",
      "metadata": {
        "colab": {
          "base_uri": "https://localhost:8080/"
        },
        "id": "M0_9erR_SxF1",
        "outputId": "2b477b67-8865-4213-ce2c-6ea85427b4d0"
      },
      "source": [
        "type(inds)"
      ],
      "execution_count": null,
      "outputs": [
        {
          "output_type": "execute_result",
          "data": {
            "text/plain": [
              "numpy.ndarray"
            ]
          },
          "metadata": {
            "tags": []
          },
          "execution_count": 82
        }
      ]
    },
    {
      "cell_type": "code",
      "metadata": {
        "id": "cpytRtI4QY7a"
      },
      "source": [
        "BCW = pd.read_csv('drive//My Drive/breast_cancer_wisconsin.csv') \r\n",
        "BCW_TEST = pd.read_csv('drive//My Drive/BCW_prepro_TEST.csv', index_col=0)\r\n",
        "BCW_TRAINING = pd.read_csv('drive//My Drive/BCW_prepro_TRAINING.csv', index_col=0)"
      ],
      "execution_count": null,
      "outputs": []
    },
    {
      "cell_type": "code",
      "metadata": {
        "colab": {
          "base_uri": "https://localhost:8080/",
          "height": 415
        },
        "id": "k_aLIcU3Ro74",
        "outputId": "afb6eedb-dcff-448b-9f66-b0f5443c8d29"
      },
      "source": [
        "BCW_TEST"
      ],
      "execution_count": null,
      "outputs": [
        {
          "output_type": "execute_result",
          "data": {
            "text/html": [
              "<div>\n",
              "<style scoped>\n",
              "    .dataframe tbody tr th:only-of-type {\n",
              "        vertical-align: middle;\n",
              "    }\n",
              "\n",
              "    .dataframe tbody tr th {\n",
              "        vertical-align: top;\n",
              "    }\n",
              "\n",
              "    .dataframe thead th {\n",
              "        text-align: right;\n",
              "    }\n",
              "</style>\n",
              "<table border=\"1\" class=\"dataframe\">\n",
              "  <thead>\n",
              "    <tr style=\"text-align: right;\">\n",
              "      <th></th>\n",
              "      <th>id</th>\n",
              "      <th>Clump_Thickness</th>\n",
              "      <th>Uniformity_of_Cell_Size</th>\n",
              "      <th>Uniformity_of_Cell_Shape</th>\n",
              "      <th>Marginal_Adhesion</th>\n",
              "      <th>Single_Epithelial_Cell_Size</th>\n",
              "      <th>Bare_Nuclei</th>\n",
              "      <th>Bland_Chromatin</th>\n",
              "      <th>Normal_Nucleoli</th>\n",
              "      <th>Mitoses</th>\n",
              "      <th>Class</th>\n",
              "    </tr>\n",
              "  </thead>\n",
              "  <tbody>\n",
              "    <tr>\n",
              "      <th>629</th>\n",
              "      <td>1218982</td>\n",
              "      <td>4</td>\n",
              "      <td>1</td>\n",
              "      <td>1</td>\n",
              "      <td>1</td>\n",
              "      <td>2</td>\n",
              "      <td>1</td>\n",
              "      <td>1</td>\n",
              "      <td>1</td>\n",
              "      <td>1</td>\n",
              "      <td>2</td>\n",
              "    </tr>\n",
              "    <tr>\n",
              "      <th>259</th>\n",
              "      <td>242970</td>\n",
              "      <td>5</td>\n",
              "      <td>7</td>\n",
              "      <td>7</td>\n",
              "      <td>1</td>\n",
              "      <td>5</td>\n",
              "      <td>8</td>\n",
              "      <td>3</td>\n",
              "      <td>4</td>\n",
              "      <td>1</td>\n",
              "      <td>2</td>\n",
              "    </tr>\n",
              "    <tr>\n",
              "      <th>108</th>\n",
              "      <td>1171710</td>\n",
              "      <td>1</td>\n",
              "      <td>1</td>\n",
              "      <td>1</td>\n",
              "      <td>1</td>\n",
              "      <td>2</td>\n",
              "      <td>1</td>\n",
              "      <td>2</td>\n",
              "      <td>3</td>\n",
              "      <td>1</td>\n",
              "      <td>2</td>\n",
              "    </tr>\n",
              "    <tr>\n",
              "      <th>142</th>\n",
              "      <td>1183983</td>\n",
              "      <td>9</td>\n",
              "      <td>5</td>\n",
              "      <td>5</td>\n",
              "      <td>4</td>\n",
              "      <td>4</td>\n",
              "      <td>5</td>\n",
              "      <td>4</td>\n",
              "      <td>3</td>\n",
              "      <td>3</td>\n",
              "      <td>4</td>\n",
              "    </tr>\n",
              "    <tr>\n",
              "      <th>664</th>\n",
              "      <td>1345593</td>\n",
              "      <td>3</td>\n",
              "      <td>1</td>\n",
              "      <td>1</td>\n",
              "      <td>3</td>\n",
              "      <td>2</td>\n",
              "      <td>1</td>\n",
              "      <td>2</td>\n",
              "      <td>1</td>\n",
              "      <td>1</td>\n",
              "      <td>2</td>\n",
              "    </tr>\n",
              "    <tr>\n",
              "      <th>...</th>\n",
              "      <td>...</td>\n",
              "      <td>...</td>\n",
              "      <td>...</td>\n",
              "      <td>...</td>\n",
              "      <td>...</td>\n",
              "      <td>...</td>\n",
              "      <td>...</td>\n",
              "      <td>...</td>\n",
              "      <td>...</td>\n",
              "      <td>...</td>\n",
              "      <td>...</td>\n",
              "    </tr>\n",
              "    <tr>\n",
              "      <th>402</th>\n",
              "      <td>1223003</td>\n",
              "      <td>5</td>\n",
              "      <td>3</td>\n",
              "      <td>3</td>\n",
              "      <td>1</td>\n",
              "      <td>2</td>\n",
              "      <td>1</td>\n",
              "      <td>2</td>\n",
              "      <td>1</td>\n",
              "      <td>1</td>\n",
              "      <td>2</td>\n",
              "    </tr>\n",
              "    <tr>\n",
              "      <th>586</th>\n",
              "      <td>1254538</td>\n",
              "      <td>8</td>\n",
              "      <td>10</td>\n",
              "      <td>10</td>\n",
              "      <td>10</td>\n",
              "      <td>6</td>\n",
              "      <td>10</td>\n",
              "      <td>10</td>\n",
              "      <td>10</td>\n",
              "      <td>1</td>\n",
              "      <td>4</td>\n",
              "    </tr>\n",
              "    <tr>\n",
              "      <th>406</th>\n",
              "      <td>1231853</td>\n",
              "      <td>4</td>\n",
              "      <td>2</td>\n",
              "      <td>2</td>\n",
              "      <td>1</td>\n",
              "      <td>2</td>\n",
              "      <td>1</td>\n",
              "      <td>2</td>\n",
              "      <td>1</td>\n",
              "      <td>1</td>\n",
              "      <td>2</td>\n",
              "    </tr>\n",
              "    <tr>\n",
              "      <th>127</th>\n",
              "      <td>1177027</td>\n",
              "      <td>3</td>\n",
              "      <td>1</td>\n",
              "      <td>1</td>\n",
              "      <td>1</td>\n",
              "      <td>2</td>\n",
              "      <td>1</td>\n",
              "      <td>3</td>\n",
              "      <td>1</td>\n",
              "      <td>1</td>\n",
              "      <td>2</td>\n",
              "    </tr>\n",
              "    <tr>\n",
              "      <th>81</th>\n",
              "      <td>1143978</td>\n",
              "      <td>4</td>\n",
              "      <td>1</td>\n",
              "      <td>1</td>\n",
              "      <td>2</td>\n",
              "      <td>2</td>\n",
              "      <td>1</td>\n",
              "      <td>2</td>\n",
              "      <td>1</td>\n",
              "      <td>1</td>\n",
              "      <td>2</td>\n",
              "    </tr>\n",
              "  </tbody>\n",
              "</table>\n",
              "<p>102 rows × 11 columns</p>\n",
              "</div>"
            ],
            "text/plain": [
              "          id  Clump_Thickness  ...  Mitoses  Class\n",
              "629  1218982                4  ...        1      2\n",
              "259   242970                5  ...        1      2\n",
              "108  1171710                1  ...        1      2\n",
              "142  1183983                9  ...        3      4\n",
              "664  1345593                3  ...        1      2\n",
              "..       ...              ...  ...      ...    ...\n",
              "402  1223003                5  ...        1      2\n",
              "586  1254538                8  ...        1      4\n",
              "406  1231853                4  ...        1      2\n",
              "127  1177027                3  ...        1      2\n",
              "81   1143978                4  ...        1      2\n",
              "\n",
              "[102 rows x 11 columns]"
            ]
          },
          "metadata": {
            "tags": []
          },
          "execution_count": 84
        }
      ]
    },
    {
      "cell_type": "code",
      "metadata": {
        "id": "JS4FgdMBKc_a"
      },
      "source": [
        ""
      ],
      "execution_count": null,
      "outputs": []
    },
    {
      "cell_type": "code",
      "metadata": {
        "id": "iBHJatICMK3o"
      },
      "source": [
        "BCW = pd.read_csv('drive//My Drive/breast_cancer_wisconsin.csv') \r\n",
        "BCW_TEST = pd.read_csv('drive//My Drive/BCW_prepro_TEST.csv', index_col=0)\r\n",
        "BCW_TRAINING = pd.read_csv('drive//My Drive/BCW_prepro_TRAINING.csv', index_col=0)\r\n",
        "\r\n",
        "cleanup_target = {\"Class\":     {2: 0, 4: 1} }\r\n",
        "BCW = BCW.replace(cleanup_target)\r\n",
        "BCW_TEST = BCW_TEST.replace(cleanup_target)\r\n",
        "BCW_TRAINING = BCW_TRAINING.replace(cleanup_target)"
      ],
      "execution_count": null,
      "outputs": []
    },
    {
      "cell_type": "code",
      "metadata": {
        "colab": {
          "base_uri": "https://localhost:8080/",
          "height": 202
        },
        "id": "k2fCFk3z9nIw",
        "outputId": "24464eab-5f08-4ae5-8ffc-e21ab3cd99eb"
      },
      "source": [
        "BCW_TRAINING.head()"
      ],
      "execution_count": null,
      "outputs": [
        {
          "output_type": "execute_result",
          "data": {
            "text/html": [
              "<div>\n",
              "<style scoped>\n",
              "    .dataframe tbody tr th:only-of-type {\n",
              "        vertical-align: middle;\n",
              "    }\n",
              "\n",
              "    .dataframe tbody tr th {\n",
              "        vertical-align: top;\n",
              "    }\n",
              "\n",
              "    .dataframe thead th {\n",
              "        text-align: right;\n",
              "    }\n",
              "</style>\n",
              "<table border=\"1\" class=\"dataframe\">\n",
              "  <thead>\n",
              "    <tr style=\"text-align: right;\">\n",
              "      <th></th>\n",
              "      <th>id</th>\n",
              "      <th>Clump_Thickness</th>\n",
              "      <th>Uniformity_of_Cell_Size</th>\n",
              "      <th>Uniformity_of_Cell_Shape</th>\n",
              "      <th>Marginal_Adhesion</th>\n",
              "      <th>Single_Epithelial_Cell_Size</th>\n",
              "      <th>Bare_Nuclei</th>\n",
              "      <th>Bland_Chromatin</th>\n",
              "      <th>Normal_Nucleoli</th>\n",
              "      <th>Mitoses</th>\n",
              "      <th>Class</th>\n",
              "    </tr>\n",
              "  </thead>\n",
              "  <tbody>\n",
              "    <tr>\n",
              "      <th>352</th>\n",
              "      <td>846832</td>\n",
              "      <td>3</td>\n",
              "      <td>4</td>\n",
              "      <td>5</td>\n",
              "      <td>3</td>\n",
              "      <td>7</td>\n",
              "      <td>3</td>\n",
              "      <td>4</td>\n",
              "      <td>6</td>\n",
              "      <td>1</td>\n",
              "      <td>0</td>\n",
              "    </tr>\n",
              "    <tr>\n",
              "      <th>646</th>\n",
              "      <td>1311033</td>\n",
              "      <td>1</td>\n",
              "      <td>2</td>\n",
              "      <td>2</td>\n",
              "      <td>1</td>\n",
              "      <td>2</td>\n",
              "      <td>1</td>\n",
              "      <td>1</td>\n",
              "      <td>1</td>\n",
              "      <td>1</td>\n",
              "      <td>0</td>\n",
              "    </tr>\n",
              "    <tr>\n",
              "      <th>347</th>\n",
              "      <td>831268</td>\n",
              "      <td>1</td>\n",
              "      <td>1</td>\n",
              "      <td>1</td>\n",
              "      <td>1</td>\n",
              "      <td>1</td>\n",
              "      <td>1</td>\n",
              "      <td>1</td>\n",
              "      <td>3</td>\n",
              "      <td>1</td>\n",
              "      <td>0</td>\n",
              "    </tr>\n",
              "    <tr>\n",
              "      <th>203</th>\n",
              "      <td>1217051</td>\n",
              "      <td>5</td>\n",
              "      <td>1</td>\n",
              "      <td>1</td>\n",
              "      <td>1</td>\n",
              "      <td>2</td>\n",
              "      <td>1</td>\n",
              "      <td>3</td>\n",
              "      <td>1</td>\n",
              "      <td>1</td>\n",
              "      <td>0</td>\n",
              "    </tr>\n",
              "    <tr>\n",
              "      <th>288</th>\n",
              "      <td>543558</td>\n",
              "      <td>6</td>\n",
              "      <td>1</td>\n",
              "      <td>3</td>\n",
              "      <td>1</td>\n",
              "      <td>4</td>\n",
              "      <td>5</td>\n",
              "      <td>5</td>\n",
              "      <td>10</td>\n",
              "      <td>1</td>\n",
              "      <td>1</td>\n",
              "    </tr>\n",
              "  </tbody>\n",
              "</table>\n",
              "</div>"
            ],
            "text/plain": [
              "          id  Clump_Thickness  ...  Mitoses  Class\n",
              "352   846832                3  ...        1      0\n",
              "646  1311033                1  ...        1      0\n",
              "347   831268                1  ...        1      0\n",
              "203  1217051                5  ...        1      0\n",
              "288   543558                6  ...        1      1\n",
              "\n",
              "[5 rows x 11 columns]"
            ]
          },
          "metadata": {
            "tags": []
          },
          "execution_count": 86
        }
      ]
    },
    {
      "cell_type": "code",
      "metadata": {
        "colab": {
          "base_uri": "https://localhost:8080/",
          "height": 294
        },
        "id": "cHQe_ZCe2kZA",
        "outputId": "fbd6554f-f7b1-45cb-844f-2511b77c6d71"
      },
      "source": [
        "BCW.describe()"
      ],
      "execution_count": null,
      "outputs": [
        {
          "output_type": "execute_result",
          "data": {
            "text/html": [
              "<div>\n",
              "<style scoped>\n",
              "    .dataframe tbody tr th:only-of-type {\n",
              "        vertical-align: middle;\n",
              "    }\n",
              "\n",
              "    .dataframe tbody tr th {\n",
              "        vertical-align: top;\n",
              "    }\n",
              "\n",
              "    .dataframe thead th {\n",
              "        text-align: right;\n",
              "    }\n",
              "</style>\n",
              "<table border=\"1\" class=\"dataframe\">\n",
              "  <thead>\n",
              "    <tr style=\"text-align: right;\">\n",
              "      <th></th>\n",
              "      <th>id</th>\n",
              "      <th>Clump_Thickness</th>\n",
              "      <th>Uniformity_of_Cell_Size</th>\n",
              "      <th>Uniformity_of_Cell_Shape</th>\n",
              "      <th>Marginal_Adhesion</th>\n",
              "      <th>Single_Epithelial_Cell_Size</th>\n",
              "      <th>Bland_Chromatin</th>\n",
              "      <th>Normal_Nucleoli</th>\n",
              "      <th>Mitoses</th>\n",
              "      <th>Class</th>\n",
              "    </tr>\n",
              "  </thead>\n",
              "  <tbody>\n",
              "    <tr>\n",
              "      <th>count</th>\n",
              "      <td>6.990000e+02</td>\n",
              "      <td>699.000000</td>\n",
              "      <td>699.000000</td>\n",
              "      <td>699.000000</td>\n",
              "      <td>699.000000</td>\n",
              "      <td>699.000000</td>\n",
              "      <td>699.000000</td>\n",
              "      <td>699.000000</td>\n",
              "      <td>699.000000</td>\n",
              "      <td>699.000000</td>\n",
              "    </tr>\n",
              "    <tr>\n",
              "      <th>mean</th>\n",
              "      <td>1.071704e+06</td>\n",
              "      <td>4.417740</td>\n",
              "      <td>3.134478</td>\n",
              "      <td>3.207439</td>\n",
              "      <td>2.806867</td>\n",
              "      <td>3.216023</td>\n",
              "      <td>3.437768</td>\n",
              "      <td>2.866953</td>\n",
              "      <td>1.589413</td>\n",
              "      <td>0.344778</td>\n",
              "    </tr>\n",
              "    <tr>\n",
              "      <th>std</th>\n",
              "      <td>6.170957e+05</td>\n",
              "      <td>2.815741</td>\n",
              "      <td>3.051459</td>\n",
              "      <td>2.971913</td>\n",
              "      <td>2.855379</td>\n",
              "      <td>2.214300</td>\n",
              "      <td>2.438364</td>\n",
              "      <td>3.053634</td>\n",
              "      <td>1.715078</td>\n",
              "      <td>0.475636</td>\n",
              "    </tr>\n",
              "    <tr>\n",
              "      <th>min</th>\n",
              "      <td>6.163400e+04</td>\n",
              "      <td>1.000000</td>\n",
              "      <td>1.000000</td>\n",
              "      <td>1.000000</td>\n",
              "      <td>1.000000</td>\n",
              "      <td>1.000000</td>\n",
              "      <td>1.000000</td>\n",
              "      <td>1.000000</td>\n",
              "      <td>1.000000</td>\n",
              "      <td>0.000000</td>\n",
              "    </tr>\n",
              "    <tr>\n",
              "      <th>25%</th>\n",
              "      <td>8.706885e+05</td>\n",
              "      <td>2.000000</td>\n",
              "      <td>1.000000</td>\n",
              "      <td>1.000000</td>\n",
              "      <td>1.000000</td>\n",
              "      <td>2.000000</td>\n",
              "      <td>2.000000</td>\n",
              "      <td>1.000000</td>\n",
              "      <td>1.000000</td>\n",
              "      <td>0.000000</td>\n",
              "    </tr>\n",
              "    <tr>\n",
              "      <th>50%</th>\n",
              "      <td>1.171710e+06</td>\n",
              "      <td>4.000000</td>\n",
              "      <td>1.000000</td>\n",
              "      <td>1.000000</td>\n",
              "      <td>1.000000</td>\n",
              "      <td>2.000000</td>\n",
              "      <td>3.000000</td>\n",
              "      <td>1.000000</td>\n",
              "      <td>1.000000</td>\n",
              "      <td>0.000000</td>\n",
              "    </tr>\n",
              "    <tr>\n",
              "      <th>75%</th>\n",
              "      <td>1.238298e+06</td>\n",
              "      <td>6.000000</td>\n",
              "      <td>5.000000</td>\n",
              "      <td>5.000000</td>\n",
              "      <td>4.000000</td>\n",
              "      <td>4.000000</td>\n",
              "      <td>5.000000</td>\n",
              "      <td>4.000000</td>\n",
              "      <td>1.000000</td>\n",
              "      <td>1.000000</td>\n",
              "    </tr>\n",
              "    <tr>\n",
              "      <th>max</th>\n",
              "      <td>1.345435e+07</td>\n",
              "      <td>10.000000</td>\n",
              "      <td>10.000000</td>\n",
              "      <td>10.000000</td>\n",
              "      <td>10.000000</td>\n",
              "      <td>10.000000</td>\n",
              "      <td>10.000000</td>\n",
              "      <td>10.000000</td>\n",
              "      <td>10.000000</td>\n",
              "      <td>1.000000</td>\n",
              "    </tr>\n",
              "  </tbody>\n",
              "</table>\n",
              "</div>"
            ],
            "text/plain": [
              "                 id  Clump_Thickness  ...     Mitoses       Class\n",
              "count  6.990000e+02       699.000000  ...  699.000000  699.000000\n",
              "mean   1.071704e+06         4.417740  ...    1.589413    0.344778\n",
              "std    6.170957e+05         2.815741  ...    1.715078    0.475636\n",
              "min    6.163400e+04         1.000000  ...    1.000000    0.000000\n",
              "25%    8.706885e+05         2.000000  ...    1.000000    0.000000\n",
              "50%    1.171710e+06         4.000000  ...    1.000000    0.000000\n",
              "75%    1.238298e+06         6.000000  ...    1.000000    1.000000\n",
              "max    1.345435e+07        10.000000  ...   10.000000    1.000000\n",
              "\n",
              "[8 rows x 10 columns]"
            ]
          },
          "metadata": {
            "tags": []
          },
          "execution_count": 87
        }
      ]
    },
    {
      "cell_type": "code",
      "metadata": {
        "colab": {
          "base_uri": "https://localhost:8080/",
          "height": 141
        },
        "id": "dFcTBvFE6m5x",
        "outputId": "64bdab0a-04a0-4038-9301-d0318f2e548e"
      },
      "source": [
        "BCW[BCW.eq('?').any(1)].groupby('Class').count()"
      ],
      "execution_count": null,
      "outputs": [
        {
          "output_type": "execute_result",
          "data": {
            "text/html": [
              "<div>\n",
              "<style scoped>\n",
              "    .dataframe tbody tr th:only-of-type {\n",
              "        vertical-align: middle;\n",
              "    }\n",
              "\n",
              "    .dataframe tbody tr th {\n",
              "        vertical-align: top;\n",
              "    }\n",
              "\n",
              "    .dataframe thead th {\n",
              "        text-align: right;\n",
              "    }\n",
              "</style>\n",
              "<table border=\"1\" class=\"dataframe\">\n",
              "  <thead>\n",
              "    <tr style=\"text-align: right;\">\n",
              "      <th></th>\n",
              "      <th>id</th>\n",
              "      <th>Clump_Thickness</th>\n",
              "      <th>Uniformity_of_Cell_Size</th>\n",
              "      <th>Uniformity_of_Cell_Shape</th>\n",
              "      <th>Marginal_Adhesion</th>\n",
              "      <th>Single_Epithelial_Cell_Size</th>\n",
              "      <th>Bare_Nuclei</th>\n",
              "      <th>Bland_Chromatin</th>\n",
              "      <th>Normal_Nucleoli</th>\n",
              "      <th>Mitoses</th>\n",
              "    </tr>\n",
              "    <tr>\n",
              "      <th>Class</th>\n",
              "      <th></th>\n",
              "      <th></th>\n",
              "      <th></th>\n",
              "      <th></th>\n",
              "      <th></th>\n",
              "      <th></th>\n",
              "      <th></th>\n",
              "      <th></th>\n",
              "      <th></th>\n",
              "      <th></th>\n",
              "    </tr>\n",
              "  </thead>\n",
              "  <tbody>\n",
              "    <tr>\n",
              "      <th>0</th>\n",
              "      <td>14</td>\n",
              "      <td>14</td>\n",
              "      <td>14</td>\n",
              "      <td>14</td>\n",
              "      <td>14</td>\n",
              "      <td>14</td>\n",
              "      <td>14</td>\n",
              "      <td>14</td>\n",
              "      <td>14</td>\n",
              "      <td>14</td>\n",
              "    </tr>\n",
              "    <tr>\n",
              "      <th>1</th>\n",
              "      <td>2</td>\n",
              "      <td>2</td>\n",
              "      <td>2</td>\n",
              "      <td>2</td>\n",
              "      <td>2</td>\n",
              "      <td>2</td>\n",
              "      <td>2</td>\n",
              "      <td>2</td>\n",
              "      <td>2</td>\n",
              "      <td>2</td>\n",
              "    </tr>\n",
              "  </tbody>\n",
              "</table>\n",
              "</div>"
            ],
            "text/plain": [
              "       id  Clump_Thickness  ...  Normal_Nucleoli  Mitoses\n",
              "Class                       ...                          \n",
              "0      14               14  ...               14       14\n",
              "1       2                2  ...                2        2\n",
              "\n",
              "[2 rows x 10 columns]"
            ]
          },
          "metadata": {
            "tags": []
          },
          "execution_count": 88
        }
      ]
    },
    {
      "cell_type": "code",
      "metadata": {
        "colab": {
          "base_uri": "https://localhost:8080/",
          "height": 141
        },
        "id": "EhEGOjGw9Tsz",
        "outputId": "ae646312-7fba-45d6-eba8-8c06baf0b3b6"
      },
      "source": [
        "BCW[~BCW.eq('?').any(1)].groupby('Class').count()"
      ],
      "execution_count": null,
      "outputs": [
        {
          "output_type": "execute_result",
          "data": {
            "text/html": [
              "<div>\n",
              "<style scoped>\n",
              "    .dataframe tbody tr th:only-of-type {\n",
              "        vertical-align: middle;\n",
              "    }\n",
              "\n",
              "    .dataframe tbody tr th {\n",
              "        vertical-align: top;\n",
              "    }\n",
              "\n",
              "    .dataframe thead th {\n",
              "        text-align: right;\n",
              "    }\n",
              "</style>\n",
              "<table border=\"1\" class=\"dataframe\">\n",
              "  <thead>\n",
              "    <tr style=\"text-align: right;\">\n",
              "      <th></th>\n",
              "      <th>id</th>\n",
              "      <th>Clump_Thickness</th>\n",
              "      <th>Uniformity_of_Cell_Size</th>\n",
              "      <th>Uniformity_of_Cell_Shape</th>\n",
              "      <th>Marginal_Adhesion</th>\n",
              "      <th>Single_Epithelial_Cell_Size</th>\n",
              "      <th>Bare_Nuclei</th>\n",
              "      <th>Bland_Chromatin</th>\n",
              "      <th>Normal_Nucleoli</th>\n",
              "      <th>Mitoses</th>\n",
              "    </tr>\n",
              "    <tr>\n",
              "      <th>Class</th>\n",
              "      <th></th>\n",
              "      <th></th>\n",
              "      <th></th>\n",
              "      <th></th>\n",
              "      <th></th>\n",
              "      <th></th>\n",
              "      <th></th>\n",
              "      <th></th>\n",
              "      <th></th>\n",
              "      <th></th>\n",
              "    </tr>\n",
              "  </thead>\n",
              "  <tbody>\n",
              "    <tr>\n",
              "      <th>0</th>\n",
              "      <td>444</td>\n",
              "      <td>444</td>\n",
              "      <td>444</td>\n",
              "      <td>444</td>\n",
              "      <td>444</td>\n",
              "      <td>444</td>\n",
              "      <td>444</td>\n",
              "      <td>444</td>\n",
              "      <td>444</td>\n",
              "      <td>444</td>\n",
              "    </tr>\n",
              "    <tr>\n",
              "      <th>1</th>\n",
              "      <td>239</td>\n",
              "      <td>239</td>\n",
              "      <td>239</td>\n",
              "      <td>239</td>\n",
              "      <td>239</td>\n",
              "      <td>239</td>\n",
              "      <td>239</td>\n",
              "      <td>239</td>\n",
              "      <td>239</td>\n",
              "      <td>239</td>\n",
              "    </tr>\n",
              "  </tbody>\n",
              "</table>\n",
              "</div>"
            ],
            "text/plain": [
              "        id  Clump_Thickness  ...  Normal_Nucleoli  Mitoses\n",
              "Class                        ...                          \n",
              "0      444              444  ...              444      444\n",
              "1      239              239  ...              239      239\n",
              "\n",
              "[2 rows x 10 columns]"
            ]
          },
          "metadata": {
            "tags": []
          },
          "execution_count": 89
        }
      ]
    },
    {
      "cell_type": "code",
      "metadata": {
        "id": "iFNsOdZ_9D9s"
      },
      "source": [
        ""
      ],
      "execution_count": null,
      "outputs": []
    },
    {
      "cell_type": "code",
      "metadata": {
        "colab": {
          "base_uri": "https://localhost:8080/",
          "height": 539
        },
        "id": "rLWBWDnz7_st",
        "outputId": "5784af90-748e-4533-bf8c-89a5c8fc6d8a"
      },
      "source": [
        "BCW[BCW.eq('?').any(1)]"
      ],
      "execution_count": null,
      "outputs": [
        {
          "output_type": "execute_result",
          "data": {
            "text/html": [
              "<div>\n",
              "<style scoped>\n",
              "    .dataframe tbody tr th:only-of-type {\n",
              "        vertical-align: middle;\n",
              "    }\n",
              "\n",
              "    .dataframe tbody tr th {\n",
              "        vertical-align: top;\n",
              "    }\n",
              "\n",
              "    .dataframe thead th {\n",
              "        text-align: right;\n",
              "    }\n",
              "</style>\n",
              "<table border=\"1\" class=\"dataframe\">\n",
              "  <thead>\n",
              "    <tr style=\"text-align: right;\">\n",
              "      <th></th>\n",
              "      <th>id</th>\n",
              "      <th>Clump_Thickness</th>\n",
              "      <th>Uniformity_of_Cell_Size</th>\n",
              "      <th>Uniformity_of_Cell_Shape</th>\n",
              "      <th>Marginal_Adhesion</th>\n",
              "      <th>Single_Epithelial_Cell_Size</th>\n",
              "      <th>Bare_Nuclei</th>\n",
              "      <th>Bland_Chromatin</th>\n",
              "      <th>Normal_Nucleoli</th>\n",
              "      <th>Mitoses</th>\n",
              "      <th>Class</th>\n",
              "    </tr>\n",
              "  </thead>\n",
              "  <tbody>\n",
              "    <tr>\n",
              "      <th>23</th>\n",
              "      <td>1057013</td>\n",
              "      <td>8</td>\n",
              "      <td>4</td>\n",
              "      <td>5</td>\n",
              "      <td>1</td>\n",
              "      <td>2</td>\n",
              "      <td>?</td>\n",
              "      <td>7</td>\n",
              "      <td>3</td>\n",
              "      <td>1</td>\n",
              "      <td>1</td>\n",
              "    </tr>\n",
              "    <tr>\n",
              "      <th>40</th>\n",
              "      <td>1096800</td>\n",
              "      <td>6</td>\n",
              "      <td>6</td>\n",
              "      <td>6</td>\n",
              "      <td>9</td>\n",
              "      <td>6</td>\n",
              "      <td>?</td>\n",
              "      <td>7</td>\n",
              "      <td>8</td>\n",
              "      <td>1</td>\n",
              "      <td>0</td>\n",
              "    </tr>\n",
              "    <tr>\n",
              "      <th>139</th>\n",
              "      <td>1183246</td>\n",
              "      <td>1</td>\n",
              "      <td>1</td>\n",
              "      <td>1</td>\n",
              "      <td>1</td>\n",
              "      <td>1</td>\n",
              "      <td>?</td>\n",
              "      <td>2</td>\n",
              "      <td>1</td>\n",
              "      <td>1</td>\n",
              "      <td>0</td>\n",
              "    </tr>\n",
              "    <tr>\n",
              "      <th>145</th>\n",
              "      <td>1184840</td>\n",
              "      <td>1</td>\n",
              "      <td>1</td>\n",
              "      <td>3</td>\n",
              "      <td>1</td>\n",
              "      <td>2</td>\n",
              "      <td>?</td>\n",
              "      <td>2</td>\n",
              "      <td>1</td>\n",
              "      <td>1</td>\n",
              "      <td>0</td>\n",
              "    </tr>\n",
              "    <tr>\n",
              "      <th>158</th>\n",
              "      <td>1193683</td>\n",
              "      <td>1</td>\n",
              "      <td>1</td>\n",
              "      <td>2</td>\n",
              "      <td>1</td>\n",
              "      <td>3</td>\n",
              "      <td>?</td>\n",
              "      <td>1</td>\n",
              "      <td>1</td>\n",
              "      <td>1</td>\n",
              "      <td>0</td>\n",
              "    </tr>\n",
              "    <tr>\n",
              "      <th>164</th>\n",
              "      <td>1197510</td>\n",
              "      <td>5</td>\n",
              "      <td>1</td>\n",
              "      <td>1</td>\n",
              "      <td>1</td>\n",
              "      <td>2</td>\n",
              "      <td>?</td>\n",
              "      <td>3</td>\n",
              "      <td>1</td>\n",
              "      <td>1</td>\n",
              "      <td>0</td>\n",
              "    </tr>\n",
              "    <tr>\n",
              "      <th>235</th>\n",
              "      <td>1241232</td>\n",
              "      <td>3</td>\n",
              "      <td>1</td>\n",
              "      <td>4</td>\n",
              "      <td>1</td>\n",
              "      <td>2</td>\n",
              "      <td>?</td>\n",
              "      <td>3</td>\n",
              "      <td>1</td>\n",
              "      <td>1</td>\n",
              "      <td>0</td>\n",
              "    </tr>\n",
              "    <tr>\n",
              "      <th>249</th>\n",
              "      <td>169356</td>\n",
              "      <td>3</td>\n",
              "      <td>1</td>\n",
              "      <td>1</td>\n",
              "      <td>1</td>\n",
              "      <td>2</td>\n",
              "      <td>?</td>\n",
              "      <td>3</td>\n",
              "      <td>1</td>\n",
              "      <td>1</td>\n",
              "      <td>0</td>\n",
              "    </tr>\n",
              "    <tr>\n",
              "      <th>275</th>\n",
              "      <td>432809</td>\n",
              "      <td>3</td>\n",
              "      <td>1</td>\n",
              "      <td>3</td>\n",
              "      <td>1</td>\n",
              "      <td>2</td>\n",
              "      <td>?</td>\n",
              "      <td>2</td>\n",
              "      <td>1</td>\n",
              "      <td>1</td>\n",
              "      <td>0</td>\n",
              "    </tr>\n",
              "    <tr>\n",
              "      <th>292</th>\n",
              "      <td>563649</td>\n",
              "      <td>8</td>\n",
              "      <td>8</td>\n",
              "      <td>8</td>\n",
              "      <td>1</td>\n",
              "      <td>2</td>\n",
              "      <td>?</td>\n",
              "      <td>6</td>\n",
              "      <td>10</td>\n",
              "      <td>1</td>\n",
              "      <td>1</td>\n",
              "    </tr>\n",
              "    <tr>\n",
              "      <th>294</th>\n",
              "      <td>606140</td>\n",
              "      <td>1</td>\n",
              "      <td>1</td>\n",
              "      <td>1</td>\n",
              "      <td>1</td>\n",
              "      <td>2</td>\n",
              "      <td>?</td>\n",
              "      <td>2</td>\n",
              "      <td>1</td>\n",
              "      <td>1</td>\n",
              "      <td>0</td>\n",
              "    </tr>\n",
              "    <tr>\n",
              "      <th>297</th>\n",
              "      <td>61634</td>\n",
              "      <td>5</td>\n",
              "      <td>4</td>\n",
              "      <td>3</td>\n",
              "      <td>1</td>\n",
              "      <td>2</td>\n",
              "      <td>?</td>\n",
              "      <td>2</td>\n",
              "      <td>3</td>\n",
              "      <td>1</td>\n",
              "      <td>0</td>\n",
              "    </tr>\n",
              "    <tr>\n",
              "      <th>315</th>\n",
              "      <td>704168</td>\n",
              "      <td>4</td>\n",
              "      <td>6</td>\n",
              "      <td>5</td>\n",
              "      <td>6</td>\n",
              "      <td>7</td>\n",
              "      <td>?</td>\n",
              "      <td>4</td>\n",
              "      <td>9</td>\n",
              "      <td>1</td>\n",
              "      <td>0</td>\n",
              "    </tr>\n",
              "    <tr>\n",
              "      <th>321</th>\n",
              "      <td>733639</td>\n",
              "      <td>3</td>\n",
              "      <td>1</td>\n",
              "      <td>1</td>\n",
              "      <td>1</td>\n",
              "      <td>2</td>\n",
              "      <td>?</td>\n",
              "      <td>3</td>\n",
              "      <td>1</td>\n",
              "      <td>1</td>\n",
              "      <td>0</td>\n",
              "    </tr>\n",
              "    <tr>\n",
              "      <th>411</th>\n",
              "      <td>1238464</td>\n",
              "      <td>1</td>\n",
              "      <td>1</td>\n",
              "      <td>1</td>\n",
              "      <td>1</td>\n",
              "      <td>1</td>\n",
              "      <td>?</td>\n",
              "      <td>2</td>\n",
              "      <td>1</td>\n",
              "      <td>1</td>\n",
              "      <td>0</td>\n",
              "    </tr>\n",
              "    <tr>\n",
              "      <th>617</th>\n",
              "      <td>1057067</td>\n",
              "      <td>1</td>\n",
              "      <td>1</td>\n",
              "      <td>1</td>\n",
              "      <td>1</td>\n",
              "      <td>1</td>\n",
              "      <td>?</td>\n",
              "      <td>1</td>\n",
              "      <td>1</td>\n",
              "      <td>1</td>\n",
              "      <td>0</td>\n",
              "    </tr>\n",
              "  </tbody>\n",
              "</table>\n",
              "</div>"
            ],
            "text/plain": [
              "          id  Clump_Thickness  ...  Mitoses  Class\n",
              "23   1057013                8  ...        1      1\n",
              "40   1096800                6  ...        1      0\n",
              "139  1183246                1  ...        1      0\n",
              "145  1184840                1  ...        1      0\n",
              "158  1193683                1  ...        1      0\n",
              "164  1197510                5  ...        1      0\n",
              "235  1241232                3  ...        1      0\n",
              "249   169356                3  ...        1      0\n",
              "275   432809                3  ...        1      0\n",
              "292   563649                8  ...        1      1\n",
              "294   606140                1  ...        1      0\n",
              "297    61634                5  ...        1      0\n",
              "315   704168                4  ...        1      0\n",
              "321   733639                3  ...        1      0\n",
              "411  1238464                1  ...        1      0\n",
              "617  1057067                1  ...        1      0\n",
              "\n",
              "[16 rows x 11 columns]"
            ]
          },
          "metadata": {
            "tags": []
          },
          "execution_count": 90
        }
      ]
    },
    {
      "cell_type": "code",
      "metadata": {
        "colab": {
          "base_uri": "https://localhost:8080/"
        },
        "id": "tigH7AHaLkVD",
        "outputId": "cf40652b-4fd4-4ccd-c3bb-481560fff53a"
      },
      "source": [
        "#print('Counts by class: ', BCW['Class'].value_counts() )\r\n",
        "nb_class_0, nb_class_1 = BCW['Class'].value_counts().iloc[0], BCW['Class'].value_counts().iloc[1]\r\n",
        "percent_class0, percent_class1 = BCW['Class'].value_counts(normalize=True).iloc[0]*100, BCW['Class'].value_counts(normalize=True).iloc[1]*100\r\n",
        "print(f'Nb Class 0 = {nb_class_0} [{percent_class0:.2f}%] \\nNb Class 1 = {nb_class_1} [{percent_class1:.2f}%]')\r\n"
      ],
      "execution_count": null,
      "outputs": [
        {
          "output_type": "stream",
          "text": [
            "Nb Class 0 = 458 [65.52%] \n",
            "Nb Class 1 = 241 [34.48%]\n"
          ],
          "name": "stdout"
        }
      ]
    },
    {
      "cell_type": "code",
      "metadata": {
        "colab": {
          "base_uri": "https://localhost:8080/",
          "height": 229
        },
        "id": "XV-dG8ZkOp_E",
        "outputId": "500a01c3-0f81-4bbc-989b-a37fe515f226"
      },
      "source": [
        "%matplotlib inline\r\n",
        "\r\n",
        "datachart = BCW.drop(['Class','id'],axis=1)\r\n",
        "#datachart['Bare Nuclei'] = pd.to_numeric(datachart['Bare_Nuclei'])\r\n",
        "datachart.boxplot(figsize=(20,3))"
      ],
      "execution_count": null,
      "outputs": [
        {
          "output_type": "execute_result",
          "data": {
            "text/plain": [
              "<matplotlib.axes._subplots.AxesSubplot at 0x7f613c6f95c0>"
            ]
          },
          "metadata": {
            "tags": []
          },
          "execution_count": 92
        },
        {
          "output_type": "display_data",
          "data": {
            "image/png": "[encoded data removed]",
            "text/plain": [
              "<Figure size 1440x216 with 1 Axes>"
            ]
          },
          "metadata": {
            "tags": [],
            "needs_background": "light"
          }
        }
      ]
    },
    {
      "cell_type": "code",
      "metadata": {
        "colab": {
          "base_uri": "https://localhost:8080/",
          "height": 833
        },
        "id": "rVPC3SrAQ9lx",
        "outputId": "4c6dc27b-73f4-4805-ec07-c59aa41f0451"
      },
      "source": [
        "#%matplotlib inline\r\n",
        "import warnings\r\n",
        "warnings.filterwarnings(\"ignore\")\r\n",
        "datachart1 = BCW.drop(['id'],axis=1)\r\n",
        "datachart1.boxplot(by='Class', figsize=(20,10))"
      ],
      "execution_count": null,
      "outputs": [
        {
          "output_type": "execute_result",
          "data": {
            "text/plain": [
              "array([[<matplotlib.axes._subplots.AxesSubplot object at 0x7f613d2501d0>,\n",
              "        <matplotlib.axes._subplots.AxesSubplot object at 0x7f613c5433c8>,\n",
              "        <matplotlib.axes._subplots.AxesSubplot object at 0x7f613c4f3400>],\n",
              "       [<matplotlib.axes._subplots.AxesSubplot object at 0x7f613c525470>,\n",
              "        <matplotlib.axes._subplots.AxesSubplot object at 0x7f613c4d64e0>,\n",
              "        <matplotlib.axes._subplots.AxesSubplot object at 0x7f613c488550>],\n",
              "       [<matplotlib.axes._subplots.AxesSubplot object at 0x7f613c4395c0>,\n",
              "        <matplotlib.axes._subplots.AxesSubplot object at 0x7f613c99d550>,\n",
              "        <matplotlib.axes._subplots.AxesSubplot object at 0x7f613c99d2b0>]],\n",
              "      dtype=object)"
            ]
          },
          "metadata": {
            "tags": []
          },
          "execution_count": 93
        },
        {
          "output_type": "display_data",
          "data": {
            "image/png": "[encoded data removed]",
            "text/plain": [
              "<Figure size 1440x720 with 9 Axes>"
            ]
          },
          "metadata": {
            "tags": [],
            "needs_background": "light"
          }
        }
      ]
    },
    {
      "cell_type": "code",
      "metadata": {
        "colab": {
          "base_uri": "https://localhost:8080/",
          "height": 325
        },
        "id": "SXMtYwW1QCvN",
        "outputId": "7e67838d-141f-474e-e720-d82bff55b16b"
      },
      "source": [
        "corrMatrix = BCW.drop(['id'],axis=1)[~BCW.eq('?').any(1)].corr()\r\n",
        "corrMatrix"
      ],
      "execution_count": null,
      "outputs": [
        {
          "output_type": "execute_result",
          "data": {
            "text/html": [
              "<div>\n",
              "<style scoped>\n",
              "    .dataframe tbody tr th:only-of-type {\n",
              "        vertical-align: middle;\n",
              "    }\n",
              "\n",
              "    .dataframe tbody tr th {\n",
              "        vertical-align: top;\n",
              "    }\n",
              "\n",
              "    .dataframe thead th {\n",
              "        text-align: right;\n",
              "    }\n",
              "</style>\n",
              "<table border=\"1\" class=\"dataframe\">\n",
              "  <thead>\n",
              "    <tr style=\"text-align: right;\">\n",
              "      <th></th>\n",
              "      <th>Clump_Thickness</th>\n",
              "      <th>Uniformity_of_Cell_Size</th>\n",
              "      <th>Uniformity_of_Cell_Shape</th>\n",
              "      <th>Marginal_Adhesion</th>\n",
              "      <th>Single_Epithelial_Cell_Size</th>\n",
              "      <th>Bland_Chromatin</th>\n",
              "      <th>Normal_Nucleoli</th>\n",
              "      <th>Mitoses</th>\n",
              "      <th>Class</th>\n",
              "    </tr>\n",
              "  </thead>\n",
              "  <tbody>\n",
              "    <tr>\n",
              "      <th>Clump_Thickness</th>\n",
              "      <td>1.000000</td>\n",
              "      <td>0.642481</td>\n",
              "      <td>0.653470</td>\n",
              "      <td>0.487829</td>\n",
              "      <td>0.523596</td>\n",
              "      <td>0.553742</td>\n",
              "      <td>0.534066</td>\n",
              "      <td>0.350957</td>\n",
              "      <td>0.714790</td>\n",
              "    </tr>\n",
              "    <tr>\n",
              "      <th>Uniformity_of_Cell_Size</th>\n",
              "      <td>0.642481</td>\n",
              "      <td>1.000000</td>\n",
              "      <td>0.907228</td>\n",
              "      <td>0.706977</td>\n",
              "      <td>0.753544</td>\n",
              "      <td>0.755559</td>\n",
              "      <td>0.719346</td>\n",
              "      <td>0.460755</td>\n",
              "      <td>0.820801</td>\n",
              "    </tr>\n",
              "    <tr>\n",
              "      <th>Uniformity_of_Cell_Shape</th>\n",
              "      <td>0.653470</td>\n",
              "      <td>0.907228</td>\n",
              "      <td>1.000000</td>\n",
              "      <td>0.685948</td>\n",
              "      <td>0.722462</td>\n",
              "      <td>0.735344</td>\n",
              "      <td>0.717963</td>\n",
              "      <td>0.441258</td>\n",
              "      <td>0.821891</td>\n",
              "    </tr>\n",
              "    <tr>\n",
              "      <th>Marginal_Adhesion</th>\n",
              "      <td>0.487829</td>\n",
              "      <td>0.706977</td>\n",
              "      <td>0.685948</td>\n",
              "      <td>1.000000</td>\n",
              "      <td>0.594548</td>\n",
              "      <td>0.668567</td>\n",
              "      <td>0.603121</td>\n",
              "      <td>0.418898</td>\n",
              "      <td>0.706294</td>\n",
              "    </tr>\n",
              "    <tr>\n",
              "      <th>Single_Epithelial_Cell_Size</th>\n",
              "      <td>0.523596</td>\n",
              "      <td>0.753544</td>\n",
              "      <td>0.722462</td>\n",
              "      <td>0.594548</td>\n",
              "      <td>1.000000</td>\n",
              "      <td>0.618128</td>\n",
              "      <td>0.628926</td>\n",
              "      <td>0.480583</td>\n",
              "      <td>0.690958</td>\n",
              "    </tr>\n",
              "    <tr>\n",
              "      <th>Bland_Chromatin</th>\n",
              "      <td>0.553742</td>\n",
              "      <td>0.755559</td>\n",
              "      <td>0.735344</td>\n",
              "      <td>0.668567</td>\n",
              "      <td>0.618128</td>\n",
              "      <td>1.000000</td>\n",
              "      <td>0.665602</td>\n",
              "      <td>0.346011</td>\n",
              "      <td>0.758228</td>\n",
              "    </tr>\n",
              "    <tr>\n",
              "      <th>Normal_Nucleoli</th>\n",
              "      <td>0.534066</td>\n",
              "      <td>0.719346</td>\n",
              "      <td>0.717963</td>\n",
              "      <td>0.603121</td>\n",
              "      <td>0.628926</td>\n",
              "      <td>0.665602</td>\n",
              "      <td>1.000000</td>\n",
              "      <td>0.433757</td>\n",
              "      <td>0.718677</td>\n",
              "    </tr>\n",
              "    <tr>\n",
              "      <th>Mitoses</th>\n",
              "      <td>0.350957</td>\n",
              "      <td>0.460755</td>\n",
              "      <td>0.441258</td>\n",
              "      <td>0.418898</td>\n",
              "      <td>0.480583</td>\n",
              "      <td>0.346011</td>\n",
              "      <td>0.433757</td>\n",
              "      <td>1.000000</td>\n",
              "      <td>0.423448</td>\n",
              "    </tr>\n",
              "    <tr>\n",
              "      <th>Class</th>\n",
              "      <td>0.714790</td>\n",
              "      <td>0.820801</td>\n",
              "      <td>0.821891</td>\n",
              "      <td>0.706294</td>\n",
              "      <td>0.690958</td>\n",
              "      <td>0.758228</td>\n",
              "      <td>0.718677</td>\n",
              "      <td>0.423448</td>\n",
              "      <td>1.000000</td>\n",
              "    </tr>\n",
              "  </tbody>\n",
              "</table>\n",
              "</div>"
            ],
            "text/plain": [
              "                             Clump_Thickness  ...     Class\n",
              "Clump_Thickness                     1.000000  ...  0.714790\n",
              "Uniformity_of_Cell_Size             0.642481  ...  0.820801\n",
              "Uniformity_of_Cell_Shape            0.653470  ...  0.821891\n",
              "Marginal_Adhesion                   0.487829  ...  0.706294\n",
              "Single_Epithelial_Cell_Size         0.523596  ...  0.690958\n",
              "Bland_Chromatin                     0.553742  ...  0.758228\n",
              "Normal_Nucleoli                     0.534066  ...  0.718677\n",
              "Mitoses                             0.350957  ...  0.423448\n",
              "Class                               0.714790  ...  1.000000\n",
              "\n",
              "[9 rows x 9 columns]"
            ]
          },
          "metadata": {
            "tags": []
          },
          "execution_count": 94
        }
      ]
    },
    {
      "cell_type": "code",
      "metadata": {
        "colab": {
          "base_uri": "https://localhost:8080/",
          "height": 391
        },
        "id": "hHgxYCPToOTI",
        "outputId": "7c32d897-e18a-4eba-eee9-fcd0521008e9"
      },
      "source": [
        "import seaborn as sn\r\n",
        "import matplotlib.pyplot as plt\r\n",
        "\r\n",
        "sn.heatmap(corrMatrix, annot=True)\r\n",
        "plt.show()"
      ],
      "execution_count": null,
      "outputs": [
        {
          "output_type": "display_data",
          "data": {
            "image/png": "[encoded data removed]",
            "text/plain": [
              "<Figure size 432x288 with 2 Axes>"
            ]
          },
          "metadata": {
            "tags": [],
            "needs_background": "light"
          }
        }
      ]
    },
    {
      "cell_type": "code",
      "metadata": {
        "colab": {
          "base_uri": "https://localhost:8080/"
        },
        "id": "klHFXMkeptZf",
        "outputId": "bb9ec34a-a368-4eee-ffda-effda530a152"
      },
      "source": [
        "#BCW['Clump_Thickness'].hist(by=BCW['Class'], bins=10)\r\n",
        "BCW.groupby('Class')['Clump_Thickness'].value_counts(sort=False)"
      ],
      "execution_count": null,
      "outputs": [
        {
          "output_type": "execute_result",
          "data": {
            "text/plain": [
              "Class  Clump_Thickness\n",
              "0      1                  142\n",
              "       2                   46\n",
              "       3                   96\n",
              "       4                   68\n",
              "       5                   85\n",
              "       6                   16\n",
              "       7                    1\n",
              "       8                    4\n",
              "1      1                    3\n",
              "       2                    4\n",
              "       3                   12\n",
              "       4                   12\n",
              "       5                   45\n",
              "       6                   18\n",
              "       7                   22\n",
              "       8                   42\n",
              "       9                   14\n",
              "       10                  69\n",
              "Name: Clump_Thickness, dtype: int64"
            ]
          },
          "metadata": {
            "tags": []
          },
          "execution_count": 96
        }
      ]
    },
    {
      "cell_type": "code",
      "metadata": {
        "colab": {
          "base_uri": "https://localhost:8080/",
          "height": 281
        },
        "id": "aTuOYYvmr54f",
        "outputId": "c53df5c1-e5f8-4ca9-b7fb-203df4f1f895"
      },
      "source": [
        "plt.hist(BCW[BCW['Class']==0]['Clump_Thickness'], bins=10, alpha=0.5, label='0', color='b')\r\n",
        "plt.hist(BCW[BCW['Class']==1]['Clump_Thickness'], bins=10, alpha=0.5, label='1', color='r')\r\n",
        "plt.legend(loc='upper right')\r\n",
        "plt.title('Uniformity_of_Cell_Size')\r\n",
        "plt.savefig('sample.png')"
      ],
      "execution_count": null,
      "outputs": [
        {
          "output_type": "display_data",
          "data": {
            "image/png": "[encoded data removed]",
            "text/plain": [
              "<Figure size 432x288 with 1 Axes>"
            ]
          },
          "metadata": {
            "tags": [],
            "needs_background": "light"
          }
        }
      ]
    },
    {
      "cell_type": "code",
      "metadata": {
        "colab": {
          "base_uri": "https://localhost:8080/",
          "height": 1000
        },
        "id": "qfwBXeJWLoHa",
        "outputId": "3171c619-b0de-49e1-e1ac-9322b31f8086"
      },
      "source": [
        "plt.rcParams[\"figure.figsize\"] = [14,18]\r\n",
        "for num, col in enumerate(BCW.columns):\r\n",
        "    if col == 'id':\r\n",
        "      continue\r\n",
        "    print(num, col)\r\n",
        "    plt.subplot(4,3, num)\r\n",
        "    plt.hist(BCW[BCW['Class']==0][col], bins=10, alpha=0.5, label='0', color='b')\r\n",
        "    plt.hist(BCW[BCW['Class']==1][col], bins=10, alpha=0.5, label='1', color='r')\r\n",
        "    plt.legend(loc='upper right')\r\n",
        "    plt.title(col)\r\n",
        "\r\n",
        "#plt.tight_layout(pad=0.4, w_pad=0.5, h_pad=1.0)"
      ],
      "execution_count": null,
      "outputs": [
        {
          "output_type": "stream",
          "text": [
            "1 Clump_Thickness\n",
            "2 Uniformity_of_Cell_Size\n",
            "3 Uniformity_of_Cell_Shape\n",
            "4 Marginal_Adhesion\n",
            "5 Single_Epithelial_Cell_Size\n",
            "6 Bare_Nuclei\n",
            "7 Bland_Chromatin\n",
            "8 Normal_Nucleoli\n",
            "9 Mitoses\n",
            "10 Class\n"
          ],
          "name": "stdout"
        },
        {
          "output_type": "display_data",
          "data": {
            "image/png": "[encoded data removed]",
            "text/plain": [
              "<Figure size 1008x1296 with 10 Axes>"
            ]
          },
          "metadata": {
            "tags": [],
            "needs_background": "light"
          }
        }
      ]
    },
    {
      "cell_type": "markdown",
      "metadata": {
        "id": "z_z4Qs8092UY"
      },
      "source": [
        "## Data structure\n",
        "We use a binary tree to assign information to the nodes of the decision tree. In particular, the instances associated with that node (`data_indices`) and the test that is used to further split that node, in the case non-leaf nodes (`split_feature, split_value`). Here, we assume each test involves a single feature, and all features are real-valued."
      ]
    },
    {
      "cell_type": "code",
      "metadata": {
        "id": "NEwmX3Xi92UY"
      },
      "source": [
        "class Node:\n",
        "    def __init__(self, data_indices, parent):\n",
        "        self.data_indices = data_indices                    #stores the data indices which are in the region defined by this node\n",
        "        self.left = None                                    #stores the left child of the node \n",
        "        self.right = None                                   #stores the right child of the node\n",
        "        self.split_feature = None                           #the feature for split at this node\n",
        "        self.split_value = None                             #the value of the feature for split at this node\n",
        "        if parent:\n",
        "            self.depth = parent.depth + 1                   #obtain the dept of the node by adding one to dept of the parent \n",
        "            self.num_classes = parent.num_classes           #copies the num classes from the parent \n",
        "            self.data = parent.data                         #copies the data from the parent\n",
        "            self.labels = parent.labels                     #copies the labels from the parent\n",
        "            class_prob = np.bincount(self.labels[data_indices], minlength=self.num_classes) #this is counting frequency of different labels in the region defined by this node\n",
        "            self.class_prob = class_prob / np.sum(class_prob)  #stores the class probability for the node\n",
        "            #note that we'll use the class probabilites of the leaf nodes for making predictions after the tree is built"
      ],
      "execution_count": null,
      "outputs": []
    },
    {
      "cell_type": "markdown",
      "metadata": {
        "id": "W-9QNkez92Ub"
      },
      "source": [
        "## Greedy spliting of a node\n",
        "Given a node, we consider all possible feature-value combinations for splitting the data. One such **test** that produces the lowest cost according to a supplied cost function (`cost_fn`) is returned."
      ]
    },
    {
      "cell_type": "code",
      "metadata": {
        "id": "fJclNLqw92Ub"
      },
      "source": [
        "def greedy_test(node, cost_fn):\n",
        "    #initialize the best parameter values\n",
        "    best_cost = np.inf\n",
        "    best_feature, best_value = None, None\n",
        "    num_instances, num_features = node.data.shape\n",
        "    #sort the features to get the test value candidates by taking the average of consecutive sorted feature values \n",
        "    data_sorted = np.sort(node.data[node.data_indices],axis=0)\n",
        "    test_candidates = (data_sorted[1:] + data_sorted[:-1]) / 2.\n",
        "    for f in range(num_features):\n",
        "        #stores the data corresponding to the f-th f  eature\n",
        "        data_f = node.data[node.data_indices, f]\n",
        "        for test in test_candidates[:,f]:\n",
        "            #Split the indices using the test value of f-th feature\n",
        "            left_indices = node.data_indices[data_f <= test]\n",
        "            right_indices = node.data_indices[data_f > test]\n",
        "            #we can't have a split where a child has zero element\n",
        "            #if this is true over all the test features and their test values  then the function returns the best cost as infinity\n",
        "            if len(left_indices) == 0 or len(right_indices) == 0:                \n",
        "                continue\n",
        "            #compute the left and right cost based on the current split                                                         \n",
        "            left_cost = cost_fn(node.labels[left_indices])\n",
        "            right_cost = cost_fn(node.labels[right_indices])\n",
        "            num_left, num_right = left_indices.shape[0], right_indices.shape[0]\n",
        "            #get the combined cost using the weighted sum of left and right cost\n",
        "            cost = (num_left * left_cost + num_right * right_cost)/num_instances\n",
        "            #update only when a lower cost is encountered\n",
        "            if cost < best_cost:\n",
        "                best_cost = cost\n",
        "                best_feature = f\n",
        "                best_value = test\n",
        "    return best_cost, best_feature, best_value"
      ],
      "execution_count": null,
      "outputs": []
    },
    {
      "cell_type": "markdown",
      "metadata": {
        "id": "-GjjJhkb92Ue"
      },
      "source": [
        "## Cost functions\n",
        "\n",
        "Below we implement two cost functions corresponding to misclassification rate and entropy."
      ]
    },
    {
      "cell_type": "code",
      "metadata": {
        "id": "_Fa_FkuK92Uf"
      },
      "source": [
        "#computes misclassification cost by subtracting the maximum probability of any class\n",
        "def cost_misclassification(labels):\n",
        "    counts = np.bincount(labels) \n",
        "    class_probs = counts / np.sum(counts)\n",
        "    #you could compress both the steps above by doing class_probs = np.bincount(labels) / len(labels)\n",
        "    return 1 - np.max(class_probs)\n",
        "\n",
        "#computes SUM weighted entropy of the labels by computing the class probabilities\n",
        "def cost_entropy(labels):\n",
        "    class_probs = np.bincount(labels) / len(labels)\n",
        "    class_probs = class_probs[class_probs > 0]              #this steps is remove 0 probabilities for removing numerical issues while computing log\n",
        "    return -np.sum(class_probs * np.log(class_probs))       #expression for entropy -\\sigma p(x)log[p(x)]\n",
        "\n",
        "#computes MAX weighted entropy of the labels by computing the class probabilities\n",
        "def cost_entropy_wmax(labels):\n",
        "    class_probs = np.bincount(labels) / len(labels)\n",
        "    class_probs = class_probs[class_probs > 0]              #this steps is remove 0 probabilities for removing numerical issues while computing log\n",
        "    return np.max(-class_probs * np.log(class_probs))       #expression for entropy -\\sigma p(x)log[p(x)]\n",
        "\n",
        "#computes SUM weighted the gini index cost\n",
        "def cost_gini_index(labels):\n",
        "    class_probs = np.bincount(labels) / len(labels)\n",
        "    return 1 - np.sum(np.square(class_probs))               #expression for gini index 1-\\sigma p(x)^2\n",
        "\n",
        "#computes MAX weighted the gini index cost\n",
        "def cost_gini_index_wmax(labels):\n",
        "    class_probs = np.bincount(labels) / len(labels)\n",
        "    return np.max(class_probs * (1-class_probs))       #expression for gini index 1-\\sigma p(x)^2"
      ],
      "execution_count": null,
      "outputs": []
    },
    {
      "cell_type": "markdown",
      "metadata": {
        "id": "PDlnrs8U92Uh"
      },
      "source": [
        "we are now ready to implement the classifier:\n",
        "\n",
        "when to stop splitting?\n",
        "1. if there are not enough points under the current node (`min_leaf_instances`)\n",
        "2. if reached maximum depth (`max_depth`)\n",
        "3. if the decrease in the cost is negligible (not implemented)\n",
        "Below is the template for the class, next we implement `fit` and `predict` methods."
      ]
    },
    {
      "cell_type": "code",
      "metadata": {
        "id": "kMx7Brw292Uh"
      },
      "source": [
        "class DecisionTree:\n",
        "    def __init__(self, num_classes=None, max_depth=3, cost_fn=cost_misclassification, min_leaf_instances=1):\n",
        "        self.max_depth = max_depth      #maximum dept for termination \n",
        "        self.root = None                #stores the root of the decision tree \n",
        "        self.cost_fn = cost_fn          #stores the cost function of the decision tree \n",
        "        self.num_classes = num_classes  #stores the total number of classes\n",
        "        self.min_leaf_instances = min_leaf_instances  #minimum number of instances in a leaf for termination\n",
        "        \n",
        "    def fit(self, data, labels):\n",
        "        pass                            #pass in python 3 means nothing happens and the method here is empty\n",
        "    \n",
        "    def predict(self, data_test):\n",
        "        pass\n",
        "    \n",
        "    def evaluate_acc(self, y_truth, y_pred):\n",
        "        pass"
      ],
      "execution_count": null,
      "outputs": []
    },
    {
      "cell_type": "markdown",
      "metadata": {
        "id": "Gbsp5yvB92Ul"
      },
      "source": [
        "## Fit\n",
        "To fit the tree to the data, we call the `_fit_tree` method on the `root_node` of the tree. In this method the _best_ test (split) for the current node is found, and the method is recursively called on the left and right child. If the `max_depth` is reached or the number of instances under the current node is below `min_leaf_instances` the node is not split anymore, resulting in a leaf node."
      ]
    },
    {
      "cell_type": "code",
      "metadata": {
        "id": "-NOsuJEc92Ul"
      },
      "source": [
        "def fit(self, data, labels):\n",
        "    self.data = data\n",
        "    self.labels = labels\n",
        "    if self.num_classes is None:\n",
        "        self.num_classes = np.max(labels) + 1\n",
        "    #below are initialization of the root of the decision tree\n",
        "    self.root = Node(np.arange(data.shape[0]), None)\n",
        "    self.root.data = data\n",
        "    self.root.labels = labels\n",
        "    self.root.num_classes = self.num_classes\n",
        "    self.root.depth = 0\n",
        "    #to recursively build the rest of the tree\n",
        "    self._fit_tree(self.root)\n",
        "    return self\n",
        "\n",
        "def _fit_tree(self, node):\n",
        "    #This gives the condition for termination of the recursion resulting in a leaf node\n",
        "    if node.depth == self.max_depth or len(node.data_indices) <= self.min_leaf_instances:\n",
        "        return\n",
        "    #greedily select the best test by minimizing the cost\n",
        "    cost, split_feature, split_value = greedy_test(node, self.cost_fn)\n",
        "    #if the cost returned is infinity it means that it is not possible to split the node and hence terminate\n",
        "    if np.isinf(cost):\n",
        "        return\n",
        "    #print(f'best feature: {split_feature}, value {split_value}, cost {cost}')\n",
        "    #to get a boolean array suggesting which data indices corresponding to this node are in the left of the split\n",
        "    test = node.data[node.data_indices,split_feature] <= split_value\n",
        "    #store the split feature and value of the node\n",
        "    node.split_feature = split_feature\n",
        "    node.split_value = split_value\n",
        "    #define new nodes which are going to be the left and right child of the present node\n",
        "    left = Node(node.data_indices[test], node)\n",
        "    right = Node(node.data_indices[np.logical_not(test)], node)\n",
        "    #recursive call to the _fit_tree()\n",
        "    self._fit_tree(left)\n",
        "    self._fit_tree(right)\n",
        "    #assign the left and right child to present child\n",
        "    node.left = left\n",
        "    node.right = right\n",
        "\n",
        "def evaluate_acc(self, y_truth, y_pred):\n",
        "    accuracy = np.sum(y_pred == y_truth)/y_truth.shape[0]\n",
        "    return accuracy\n",
        "\n",
        "DecisionTree.fit = fit\n",
        "DecisionTree._fit_tree = _fit_tree\n",
        "DecisionTree.evaluate_acc = evaluate_acc"
      ],
      "execution_count": null,
      "outputs": []
    },
    {
      "cell_type": "code",
      "metadata": {
        "id": "lGGikYwpLO77"
      },
      "source": [
        ""
      ],
      "execution_count": null,
      "outputs": []
    },
    {
      "cell_type": "markdown",
      "metadata": {
        "id": "bAZdSNN392Ut"
      },
      "source": [
        "## New predictions\n",
        "Given a new instance, starting from the `root` of the `DecisionTree` we check to see if the instance falls in the left or right split, and repeat the process with left or right node depending on the test, until we reach a leaf node. The class probabilities of the training data under the leaf is returned."
      ]
    },
    {
      "cell_type": "code",
      "metadata": {
        "id": "dLmilufw92Uu"
      },
      "source": [
        "def predict(self, data_test):\n",
        "    class_probs = np.zeros((data_test.shape[0], self.num_classes))\n",
        "    for n, x in enumerate(data_test):\n",
        "        node = self.root\n",
        "        #loop along the dept of the tree looking region where the present data sample fall in based on the split feature and value\n",
        "        while node.left:\n",
        "            #print('node split feature: ' , node.split_feature)\n",
        "            #print('node split value: ' , node.split_value)\n",
        "            if x[node.split_feature] <= node.split_value:\n",
        "                node = node.left\n",
        "            else:\n",
        "                node = node.right\n",
        "        #the loop terminates when you reach a leaf of the tree and the class probability of that node is taken for prediction\n",
        "        class_probs[n,:] = node.class_prob\n",
        "    return class_probs\n",
        "\n",
        "DecisionTree.predict = predict"
      ],
      "execution_count": null,
      "outputs": []
    },
    {
      "cell_type": "markdown",
      "metadata": {
        "id": "p1Eoy0VX92Ux"
      },
      "source": [
        "# Experiments\n",
        "For more information on visualizing the model's performace on the data and its decision boundry go through the experiment section of the KNN code or watch the coding tutorial on KNN. \n",
        "We conveniently load the dataset from the sklearn collection of datasets"
      ]
    },
    {
      "cell_type": "markdown",
      "metadata": {
        "id": "VYRiDo8bEKRs"
      },
      "source": [
        "##Preparation Extra Features FOR BCW"
      ]
    },
    {
      "cell_type": "code",
      "metadata": {
        "id": "brtyTsrGrjEE"
      },
      "source": [
        "BCW_TRAIN_DT = copy.copy(BCW_TRAINING.drop(['id'],axis=1)[~BCW_TRAINING.eq('?').any(1)])\r\n",
        "BCW_TRAIN_DT = BCW_TRAIN_DT.astype(np.int) \r\n",
        "BCW_TRAIN_DT['ClumpXBland'] = BCW_TRAIN_DT['Clump_Thickness']*BCW_TRAIN_DT['Bland_Chromatin']\r\n",
        "BCW_TRAIN_DT['NNXMito'] = BCW_TRAIN_DT['Normal_Nucleoli']*BCW_TRAIN_DT['Mitoses']\r\n",
        "BCW_TRAIN_DT['SUM'] = BCW_TRAIN_DT['Clump_Thickness']+BCW_TRAIN_DT['Uniformity_of_Cell_Shape']+BCW_TRAIN_DT['Marginal_Adhesion']+BCW_TRAIN_DT['Single_Epithelial_Cell_Size']+BCW_TRAIN_DT['Bare_Nuclei']"
      ],
      "execution_count": null,
      "outputs": []
    },
    {
      "cell_type": "code",
      "metadata": {
        "id": "zTA8Ofi3Nmb_"
      },
      "source": [
        "BCW_TEST_DT = copy.copy(BCW_TEST.drop(['id'],axis=1)[~BCW_TEST.eq('?').any(1)])\r\n",
        "BCW_TEST_DT = BCW_TEST_DT.astype(np.int) \r\n",
        "BCW_TEST_DT['ClumpXBland'] = BCW_TEST_DT['Clump_Thickness']*BCW_TEST_DT['Bland_Chromatin']\r\n",
        "BCW_TEST_DT['NNXMito'] = BCW_TEST_DT['Normal_Nucleoli']*BCW_TEST_DT['Mitoses']\r\n",
        "BCW_TEST_DT['SUM'] = BCW_TEST_DT['Clump_Thickness']+BCW_TEST_DT['Uniformity_of_Cell_Shape']+BCW_TEST_DT['Marginal_Adhesion']+BCW_TEST_DT['Single_Epithelial_Cell_Size']+BCW_TEST_DT['Bare_Nuclei']"
      ],
      "execution_count": null,
      "outputs": []
    },
    {
      "cell_type": "code",
      "metadata": {
        "id": "KiZg_CWfozd2"
      },
      "source": [
        "x_train, y_train  = BCW_TRAIN_DT.loc[:, BCW_TRAIN_DT.columns != 'Class'].to_numpy(), BCW_TRAIN_DT['Class'].to_numpy()\r\n",
        "x_test, y_test = BCW_TEST_DT.loc[:, BCW_TEST_DT.columns != 'Class'].to_numpy(), BCW_TEST_DT['Class'].to_numpy()"
      ],
      "execution_count": null,
      "outputs": []
    },
    {
      "cell_type": "code",
      "metadata": {
        "id": "prs_x8H0Vz4c"
      },
      "source": [
        "#define a function for the MSE loss\r\n",
        "loss1 = lambda y, yh: np.mean((y-yh)**2)\r\n",
        "#define a function for the Misclass loss\r\n",
        "loss = lambda y, yh: np.mean(y==yh)"
      ],
      "execution_count": null,
      "outputs": []
    },
    {
      "cell_type": "markdown",
      "metadata": {
        "id": "HxOoPmQxazLd"
      },
      "source": [
        "## Cross Validation for Decision Tree"
      ]
    },
    {
      "cell_type": "markdown",
      "metadata": {
        "id": "3aJbD0MD92U8"
      },
      "source": [
        "next we fit the tree to the training data and predict on the test data. "
      ]
    },
    {
      "cell_type": "code",
      "metadata": {
        "id": "zpzdRsap92U9",
        "colab": {
          "base_uri": "https://localhost:8080/",
          "height": 1000
        },
        "outputId": "7494b1c9-a196-448e-b690-116df97f2ca5"
      },
      "source": [
        "tree = DecisionTree(max_depth=4, cost_fn=cost_entropy, min_leaf_instances=1)\n",
        "probs_test = tree.fit(x_train, y_train).predict(x_test)\n",
        "y_pred = np.argmax(probs_test,1)\n",
        "accuracy = np.sum(y_pred == y_test)/y_test.shape[0]\n",
        "print(f'accuracy is {accuracy*100:.1f}.')\n",
        "#visualization\n",
        "correct = y_test == y_pred\n",
        "incorrect = np.logical_not(correct)\n",
        "plt.scatter(x_train[:,0], x_train[:,1], c=y_train, marker='o', alpha=.2, label='train')\n",
        "plt.scatter(x_test[correct,0], x_test[correct,1], marker='.', c=y_pred[correct], label='correct')\n",
        "plt.scatter(x_test[incorrect,0], x_test[incorrect,1], marker='x', c=y_test[incorrect], label='misclassified')\n",
        "plt.legend()\n",
        "plt.show()"
      ],
      "execution_count": null,
      "outputs": [
        {
          "output_type": "stream",
          "text": [
            "accuracy is 94.9.\n"
          ],
          "name": "stdout"
        },
        {
          "output_type": "display_data",
          "data": {
            "image/png": "[encoded data removed]",
            "text/plain": [
              "<Figure size 1008x1296 with 1 Axes>"
            ]
          },
          "metadata": {
            "tags": [],
            "needs_background": "light"
          }
        }
      ]
    },
    {
      "cell_type": "markdown",
      "metadata": {
        "id": "zZx26Ndk92VE"
      },
      "source": [
        "We then plot the *decision boundary*"
      ]
    },
    {
      "cell_type": "code",
      "metadata": {
        "id": "uNtWuiEZ92VF"
      },
      "source": [
        "x0v = np.linspace(np.min(x[:,0]), np.max(x[:,0]), 200)\n",
        "x1v = np.linspace(np.min(x[:,1]), np.max(x[:,1]), 200)\n",
        "x0,x1 = np.meshgrid(x0v, x1v)\n",
        "x_all = np.vstack((x0.ravel(), x1.ravel())).T\n",
        "\n",
        "model = DecisionTree(max_depth=200)\n",
        "y_train_prob = np.zeros((y_train.shape[0], num_classes))\n",
        "y_train_prob[np.arange(y_train.shape[0]), y_train] = 1\n",
        "print(y_train)\n",
        "print(y_train.shape)\n",
        "print(y_train_prob.shape)\n",
        "print(y_train_prob[0:10])\n",
        "print(x_train.shape)\n",
        "y_prob_all = model.fit(x_train, y_train).predict(x_all)\n",
        "plt.scatter(x_train[:,0], x_train[:,1], c=y_train_prob, marker='o', alpha=1)\n",
        "plt.scatter(x_all[:,0], x_all[:,1], c=y_prob_all, marker='.', alpha=.01)\n",
        "plt.ylabel('sepal length')\n",
        "plt.xlabel('sepal width')\n",
        "plt.show()"
      ],
      "execution_count": null,
      "outputs": []
    },
    {
      "cell_type": "code",
      "metadata": {
        "id": "Ue4y9Zda2WWX"
      },
      "source": [
        ""
      ],
      "execution_count": null,
      "outputs": []
    },
    {
      "cell_type": "code",
      "metadata": {
        "id": "zHwUQaNpALmh"
      },
      "source": [
        "# Clump_Thickness 1\r\n",
        "# Uniformity_of_Cell_Size 2\r\n",
        "# Bland_Chromatin 6\r\n",
        "\r\n",
        "BCW = BCW[~BCW.eq('?').any(1)]\r\n",
        "BCW = BCW.astype(np.int)\r\n",
        "\r\n",
        "num_classes = np.max(BCW['Class']) + 1\r\n",
        "\r\n",
        "x0v = np.linspace(np.min(BCW['Clump_Thickness']), np.max(BCW['Clump_Thickness']), 200)\r\n",
        "x1v = np.linspace(np.min(BCW['Bland_Chromatin']), np.max(BCW['Bland_Chromatin']), 200)\r\n",
        "\r\n",
        "#to features values as a mesh  \r\n",
        "x0, x1 = np.meshgrid(x0v, x1v)\r\n",
        "x_all = np.vstack((x0.ravel(),x1.ravel())).T\r\n",
        "\r\n",
        "for depth in [4, 20]:\r\n",
        "  model = DecisionTree(num_classes=None, max_depth=depth, cost_fn=cost_misclassification, min_leaf_instances=1)\r\n",
        "\r\n",
        "  y_train_prob = np.zeros((y_train.shape[0], num_classes))\r\n",
        "  y_train_prob[np.arange(y_train.shape[0]), y_train] = 1\r\n",
        "\r\n",
        "  #to get class probability of all the points in the 2D grid\r\n",
        "  y_prob_all = model.fit(x_train[:,[1,6]], y_train).predict(x_all)\r\n",
        "\r\n",
        "  y_pred_all = np.zeros_like(y_prob_all)\r\n",
        "  y_pred_all[np.arange(x_all.shape[0]), np.argmax(y_prob_all, axis=-1)] = 1\r\n",
        "\r\n",
        "  fig, ax = plt.subplots(figsize=(6, 6))\r\n",
        "  ax.scatter(x_train[:,1], x_train[:,6], c=y_train_prob[:,0], marker='o', alpha=0.5)\r\n",
        "  ax.scatter(x_all[:,0], x_all[:,1], c=y_pred_all[:,0], marker='.', alpha=0.01)\r\n",
        "  ax.set_ylabel('Bland_Chromatin', fontsize=15)\r\n",
        "  ax.set_xlabel('Clump_Thickness', fontsize=15)\r\n",
        "  ax.set_title(f\"Decision Tree (max_depth={depth})\", fontsize=18)\r\n",
        "  #ax.legend()\r\n",
        "  plt.show()"
      ],
      "execution_count": null,
      "outputs": []
    },
    {
      "cell_type": "code",
      "metadata": {
        "id": "G86ppYgy2XkI"
      },
      "source": [
        "def cross_validation(x_train, y_train, num_fold, cost_fn, depth_choices, leaf_instance_choices):\r\n",
        "    \r\n",
        "  size_validation_set = x_train.shape[0] // num_fold\r\n",
        "  print(\"Cross validation N-fold: \", num_fold, \" ,size validation set: \", size_validation_set)\r\n",
        "  #print(\"Using\", cost_fn.__name__, \"as cost function:\")\r\n",
        "  ##from collections import defaultdict\r\n",
        "  ##results_experiment = defaultdict(dict)\r\n",
        "  results_experiment = {}\r\n",
        "  for c, cost_fn in enumerate(cost_fn):\r\n",
        "    print(\"Using\", cost_fn.__name__, \"as cost function:\")\r\n",
        "    print(\"minimum_number_per_leaf, max_depth, mean_accuracy, mean_classification_rate\")    \r\n",
        "    for num_in_leaf in leaf_instance_choices:\r\n",
        "        for depth in depth_choices:\r\n",
        "             \r\n",
        "            tree = DecisionTree(num_classes=None, max_depth=depth, cost_fn=cost_fn, min_leaf_instances=num_in_leaf)\r\n",
        "            \r\n",
        "            accuracy_list = []\r\n",
        "            miss_class_list = []\r\n",
        "        \r\n",
        "            for i in range(num_fold):\r\n",
        "                feature_part_1, label_part_1 = x_train[:i*size_validation_set, :], y_train[:i*size_validation_set]\r\n",
        "                x_vali, y_vali = x_train[i*size_validation_set:(i+1)*size_validation_set, :], y_train[i*size_validation_set:(i+1)*size_validation_set]\r\n",
        "                feature_part_2, label_part_2 = x_train[(i+1)*size_validation_set:, :], y_train[(i+1)*size_validation_set:]\r\n",
        "                feature = np.concatenate((feature_part_1, feature_part_2), axis=0)\r\n",
        "                label = np.concatenate((label_part_1, label_part_2), axis=0)\r\n",
        "                \r\n",
        "                probs_test = tree.fit(feature, label).predict(x_vali)\r\n",
        "                y_pred = np.argmax(probs_test,1)\r\n",
        "                miss_classif = np.sum(y_pred != y_vali)/y_vali.shape[0]\r\n",
        "                accuracy = tree.evaluate_acc(y_vali, y_pred) \r\n",
        "                #accuracy = np.sum(y_pred == y_vali)/y_vali.shape[0]\r\n",
        "                \r\n",
        "                #print(num_in_leaf, depth, i, accuracy)\r\n",
        "                \r\n",
        "                accuracy_list.append(accuracy)\r\n",
        "                miss_class_list.append(miss_classif)\r\n",
        "            \r\n",
        "            mean_accuracy = sum(accuracy_list) / len(accuracy_list)\r\n",
        "            mean_miss_class = sum(miss_class_list) / len(miss_class_list)\r\n",
        "            print(f'{num_in_leaf},  {depth},  {mean_accuracy*100:.1f}, {mean_miss_class*100:.1f}')\r\n",
        "            #results_experiment[cost_fn.__name__] = {}\r\n",
        "            #results_experiment[cost_fn.__name__][num_in_leaf] = {}\r\n",
        "            #results_experiment[num_in_leaf][depth] = \r\n",
        "            results_experiment[cost_fn.__name__ + ' ' + str(num_in_leaf) + ' ' + str(depth)]= 100*round(mean_accuracy,4)\r\n",
        "  return results_experiment"
      ],
      "execution_count": null,
      "outputs": []
    },
    {
      "cell_type": "code",
      "metadata": {
        "id": "rX2Wl5Y12c5t"
      },
      "source": [
        "\r\n",
        "#cost_misclassification\r\n",
        "#cost_entropy\r\n",
        "#cost_gini_index\r\n",
        "#cost_entropy_wmax\r\n",
        "#cost_gini_index_wmax\r\n",
        "\r\n",
        "#cost_function = cost_misclassification\r\n",
        "depth_choices = [2, 3, 4, 5, 6, 8, 10, 15, 20, 50, 100, 200]\r\n",
        "#depth_choices = [6, 8]\r\n",
        "leaf_instance_choices = [1, 2, 5, 10, 15, 20, 25, 50]\r\n",
        "#leaf_instance_choices = [1]\r\n",
        "num_fold = 5\r\n",
        "\r\n",
        "cost_list = [cost_misclassification, cost_entropy, cost_gini_index,cost_entropy_wmax,cost_gini_index_wmax]\r\n",
        "#cost_list = [cost_entropy]\r\n",
        "results = cross_validation(x_train, y_train, num_fold, cost_list, depth_choices, leaf_instance_choices)"
      ],
      "execution_count": null,
      "outputs": []
    },
    {
      "cell_type": "code",
      "metadata": {
        "id": "Ax2vcogcfkgS"
      },
      "source": [
        "#type(results)\r\n",
        "pd.DataFrame(results.items())"
      ],
      "execution_count": null,
      "outputs": []
    },
    {
      "cell_type": "markdown",
      "metadata": {
        "id": "N_zM4X81Hl9o"
      },
      "source": [
        "## RUNNING DECISION TREE FOR HEPATITIS DATASET"
      ]
    },
    {
      "cell_type": "code",
      "metadata": {
        "id": "f1eZKf_V816f"
      },
      "source": [
        "pd.DataFrame(results.items()).to_excel(\"outputBCW_EXTRAfeatures20200203.xlsx\")  "
      ],
      "execution_count": null,
      "outputs": []
    },
    {
      "cell_type": "code",
      "metadata": {
        "id": "7tgLoDnEs5BO"
      },
      "source": [
        "HEP_prepro = pd.read_csv('drive//My Drive/hepatitis.csv') \r\n",
        "\r\n",
        "#Split into train and test\r\n",
        "num_instances_preprocessing_HEP = HEP_prepro.shape[0]\r\n",
        "\r\n",
        "test_prop = 0.15\r\n",
        "n_test = int(test_prop*num_instances_preprocessing_HEP) \r\n",
        "inds = np.random.permutation(num_instances_preprocessing_HEP)\r\n",
        "HEP_prepro_TEST = HEP_prepro.loc[inds[:n_test]]\r\n",
        "HEP_prepro_TRAINING = HEP_prepro.loc[inds[n_test:]]"
      ],
      "execution_count": null,
      "outputs": []
    },
    {
      "cell_type": "code",
      "metadata": {
        "id": "3vgfWxIkZvl_"
      },
      "source": [
        "#BCW_prepro.shape[0]\r\n",
        "np.savetxt(\"index_test_hep.csv\", inds[:n_test], delimiter=\",\")\r\n",
        "HEP_prepro_TEST.to_csv('HEP_prepro_TEST.csv')\r\n",
        "HEP_prepro_TRAINING.to_csv('HEP_prepro_TRAINING.csv')\r\n"
      ],
      "execution_count": null,
      "outputs": []
    },
    {
      "cell_type": "code",
      "metadata": {
        "id": "ByZ8dunhaTOO"
      },
      "source": [
        "HEP = pd.read_csv('drive//My Drive/hepatitis.csv') \r\n",
        "HEP_TEST = pd.read_csv('drive//My Drive/HEP_prepro_TEST.csv', index_col=0)\r\n",
        "HEP_TRAINING = pd.read_csv('drive//My Drive/HEP_prepro_TRAINING.csv', index_col=0)"
      ],
      "execution_count": null,
      "outputs": []
    },
    {
      "cell_type": "code",
      "metadata": {
        "id": "TVC5ZY37tKpd"
      },
      "source": [
        "\r\n",
        "HEP[HEP.eq('?').any(1)].groupby('Class').count()"
      ],
      "execution_count": null,
      "outputs": []
    },
    {
      "cell_type": "code",
      "metadata": {
        "id": "4rCjijRY0diF"
      },
      "source": [
        "#print('Counts by class: ', BCW['Class'].value_counts() )\r\n",
        "nb_class_0, nb_class_1 = HEP['Class'].value_counts().iloc[0], HEP['Class'].value_counts().iloc[1]\r\n",
        "percent_class0, percent_class1 = HEP['Class'].value_counts(normalize=True).iloc[0]*100, HEP['Class'].value_counts(normalize=True).iloc[1]*100\r\n",
        "print(f'Nb Class 2 = {nb_class_0} [{percent_class0:.2f}%] \\nNb Class 1 = {nb_class_1} [{percent_class1:.2f}%]')"
      ],
      "execution_count": null,
      "outputs": []
    },
    {
      "cell_type": "code",
      "metadata": {
        "id": "DjcCOnxT1Sob"
      },
      "source": [
        "HEP['Class'].value_counts()"
      ],
      "execution_count": null,
      "outputs": []
    },
    {
      "cell_type": "code",
      "metadata": {
        "id": "b8uZTXbWz5IY"
      },
      "source": [
        "HEP.mask(HEP.eq('?')).dropna()"
      ],
      "execution_count": null,
      "outputs": []
    },
    {
      "cell_type": "code",
      "metadata": {
        "id": "yT_8YzIluO2N"
      },
      "source": [
        "HEP = HEP.mask(HEP.eq('?')).dropna() #removes all \"?\"\r\n",
        "for i in range(20): #converts string columns to float\r\n",
        "  HEP.iloc[:,i] = pd.to_numeric(HEP.iloc[:,i]) \r\n",
        "#HEP = (HEP-HEP.min())/(HEP.max()-HEP.min()) #this normalizes all the data (categorical and continuous) to fit in the range [0,1]\r\n",
        "HEP.iloc[:,0] = HEP.iloc[:,0].astype(int) #converts the y column to int so that bincount works\r\n",
        "#HEP = HEP.to_numpy()\r\n",
        "HEP['BILIRUBIN'] = (HEP['BILIRUBIN']*10).astype(int)\r\n",
        "HEP['ALBUMIN'] = (HEP['ALBUMIN']*10).astype(int)\r\n",
        "\r\n",
        "\r\n",
        "HEP_TEST = HEP_TEST.mask(HEP_TEST.eq('?')).dropna() #removes all \"?\"\r\n",
        "for i in range(20): #converts string columns to float\r\n",
        "  HEP_TEST.iloc[:,i] = pd.to_numeric(HEP_TEST.iloc[:,i]) \r\n",
        "#HEP = (HEP-HEP.min())/(HEP.max()-HEP.min()) #this normalizes all the data (categorical and continuous) to fit in the range [0,1]\r\n",
        "HEP_TEST.iloc[:,0] = HEP_TEST.iloc[:,0].astype(int) #converts the y column to int so that bincount works\r\n",
        "#HEP = HEP.to_numpy()\r\n",
        "HEP_TEST['BILIRUBIN'] = (HEP_TEST['BILIRUBIN']*10).astype(int)\r\n",
        "HEP_TEST['ALBUMIN'] = (HEP_TEST['ALBUMIN']*10).astype(int)\r\n",
        "\r\n",
        "\r\n",
        "HEP_TRAINING = HEP_TRAINING.mask(HEP_TRAINING.eq('?')).dropna() #removes all \"?\"\r\n",
        "for i in range(20): #converts string columns to float\r\n",
        "  HEP_TRAINING.iloc[:,i] = pd.to_numeric(HEP_TRAINING.iloc[:,i]) \r\n",
        "#HEP = (HEP-HEP.min())/(HEP.max()-HEP.min()) #this normalizes all the data (categorical and continuous) to fit in the range [0,1]\r\n",
        "HEP_TRAINING.iloc[:,0] = HEP_TRAINING.iloc[:,0].astype(int) #converts the y column to int so that bincount works\r\n",
        "#HEP = HEP.to_numpy()\r\n",
        "HEP_TRAINING['BILIRUBIN'] = (HEP_TRAINING['BILIRUBIN']*10).astype(int)\r\n",
        "HEP_TRAINING['ALBUMIN'] = (HEP_TRAINING['ALBUMIN']*10).astype(int)"
      ],
      "execution_count": null,
      "outputs": []
    },
    {
      "cell_type": "code",
      "metadata": {
        "id": "X9jWQ-ED2Rr2"
      },
      "source": [
        "cleanup_target = {\"Class\":     {1: 0, 2: 1}, \"SEX\": {1: 0, 2: 1}, \"STEROID\": {1: 0, 2: 1}, \"ANTIVIRALS\": {1: 0, 2: 1}, \"FATIGUE\": {1: 0, 2: 1} \r\n",
        "                  , \"MALAISE\": {1: 0, 2: 1}, \"ANOREXIA\": {1: 0, 2: 1}, \"LIVER_BIG\": {1: 0, 2: 1}, \"LIVER_FIRM\": {1: 0, 2: 1}, \"SPLEEN_PALPABLE\": {1: 0, 2: 1}\r\n",
        "                  , \"SPIDERS\": {1: 0, 2: 1}, \"ASCITES\": {1: 0, 2: 1}, \"VARICES\": {1: 0, 2: 1}}\r\n",
        "HEP = HEP.replace(cleanup_target)\r\n",
        "HEP_TEST = HEP_TEST.replace(cleanup_target)\r\n",
        "HEP_TRAINING = HEP_TRAINING.replace(cleanup_target)\r\n"
      ],
      "execution_count": null,
      "outputs": []
    },
    {
      "cell_type": "code",
      "metadata": {
        "id": "E-KOxq0xuWSh"
      },
      "source": [
        "HEP_TEST"
      ],
      "execution_count": null,
      "outputs": []
    },
    {
      "cell_type": "code",
      "metadata": {
        "id": "OsyxRECxuh6e"
      },
      "source": [
        "corrMatrixHP = HEP.drop(['Class'],axis=1)[~HEP.eq('?').any(1)].corr()\r\n",
        "corrMatrixHP"
      ],
      "execution_count": null,
      "outputs": []
    },
    {
      "cell_type": "code",
      "metadata": {
        "id": "on5F320Ouht2"
      },
      "source": [
        "import seaborn as sn\r\n",
        "import matplotlib.pyplot as plt\r\n",
        "\r\n",
        "fig, ax = plt.subplots(figsize=(20,20))\r\n",
        "sn.heatmap(corrMatrixHP, annot=True,linewidths=.5, ax=ax)\r\n",
        "plt.show()"
      ],
      "execution_count": null,
      "outputs": []
    },
    {
      "cell_type": "code",
      "metadata": {
        "id": "MmL1pHKy1ujB"
      },
      "source": [
        "plt.rcParams[\"figure.figsize\"] = [14,18]\r\n",
        "for num, col in enumerate(HEP.columns):\r\n",
        "    if col == 'Class':\r\n",
        "      continue\r\n",
        "    print(num, col)\r\n",
        "    plt.subplot(5,4, num)\r\n",
        "    plt.hist(HEP[HEP['Class']==0][col], bins=10, alpha=0.5, label='0', color='b')\r\n",
        "    plt.hist(HEP[HEP['Class']==1][col], bins=10, alpha=0.5, label='1', color='r')\r\n",
        "    plt.legend(loc='upper right')\r\n",
        "    plt.title(col)\r\n"
      ],
      "execution_count": null,
      "outputs": []
    },
    {
      "cell_type": "code",
      "metadata": {
        "id": "N-Os8JUPD3Pa"
      },
      "source": [
        "#HEP['HISTCXSGOT'] = HEP['HISTOLOGY']*HEP['SGOT']\r\n",
        "#HEP['ALBXPROT'] = HEP['ALBUMIN']*HEP['PROTIME']\r\n",
        "#HEP['SUM'] = HEP['STEROID']+HEP['ANTIVIRALS']+(1-HEP['FATIGUE'])+ HEP['MALAISE'] + HEP['ANOREXIA'] + HEP['LIVER_BIG'] + HEP['LIVER_FIRM'] + HEP['SPLEEN_PALPABLE'] + HEP['SPIDERS'] + HEP['ASCITES'] + HEP['VARICES']\r\n",
        "\r\n",
        "HEP_TEST['HISTCXSGOT'] = HEP_TEST['HISTOLOGY']*HEP_TEST['SGOT']\r\n",
        "HEP_TEST['ALBXPROT'] = HEP_TEST['ALBUMIN']*HEP_TEST['PROTIME']\r\n",
        "HEP_TEST['SUM'] = HEP_TEST['STEROID']+HEP_TEST['ANTIVIRALS']+(HEP_TEST['FATIGUE'])+ HEP_TEST['MALAISE'] + HEP_TEST['ANOREXIA'] + HEP_TEST['LIVER_BIG'] + HEP_TEST['LIVER_FIRM'] + HEP_TEST['SPLEEN_PALPABLE'] + HEP_TEST['SPIDERS'] + HEP_TEST['ASCITES'] + HEP_TEST['VARICES']\r\n",
        "\r\n",
        "HEP_TRAINING['HISTCXSGOT'] = HEP_TRAINING['HISTOLOGY']*HEP_TRAINING['SGOT']\r\n",
        "HEP_TRAINING['ALBXPROT'] = HEP_TRAINING['ALBUMIN']*HEP_TRAINING['PROTIME']\r\n",
        "HEP_TRAINING['SUM'] = HEP_TRAINING['STEROID']+HEP_TRAINING['ANTIVIRALS']+(HEP_TRAINING['FATIGUE'])+ HEP_TRAINING['MALAISE'] + HEP_TRAINING['ANOREXIA'] + HEP_TRAINING['LIVER_BIG'] + HEP_TRAINING['LIVER_FIRM'] + HEP_TRAINING['SPLEEN_PALPABLE'] + HEP_TRAINING['SPIDERS'] + HEP_TRAINING['ASCITES'] + HEP_TRAINING['VARICES']\r\n",
        "\r\n"
      ],
      "execution_count": null,
      "outputs": []
    },
    {
      "cell_type": "code",
      "metadata": {
        "id": "zjPwEr6NcssK"
      },
      "source": [
        ""
      ],
      "execution_count": null,
      "outputs": []
    },
    {
      "cell_type": "code",
      "metadata": {
        "id": "kNrw5jXF4rD4"
      },
      "source": [
        "#THIS IS FOR THE HEPATITIS DATASET\r\n",
        "x_train2, y_train2 = HEP_TRAINING.iloc[:,1:].to_numpy(), HEP_TRAINING.iloc[:,0].to_numpy() #takes first column for y and all the other columns for x\r\n",
        "x_test2, y_test2 = HEP_TEST.iloc[:,1:].to_numpy(), HEP_TEST.iloc[:,0].to_numpy() \r\n",
        "\r\n"
      ],
      "execution_count": null,
      "outputs": []
    },
    {
      "cell_type": "code",
      "metadata": {
        "id": "rvx_t38J4aB1"
      },
      "source": [
        "x_test2.shape"
      ],
      "execution_count": null,
      "outputs": []
    },
    {
      "cell_type": "code",
      "metadata": {
        "id": "f2-fodE14q7P"
      },
      "source": [
        "#cost_misclassification\r\n",
        "#cost_entropy\r\n",
        "#cost_gini_index\r\n",
        "\r\n",
        "#cost_function = cost_misclassification\r\n",
        "depth_choices = [1,2,3,4, 5, 6, 8, 10, 15, 20]\r\n",
        "\r\n",
        "#depth_choices = [4]\r\n",
        "leaf_instance_choices = [1, 2, 5, 10, 15, 20]\r\n",
        "\r\n",
        "#leaf_instance_choices = [1]\r\n",
        "num_fold = 5\r\n",
        "\r\n",
        "\r\n",
        "cost_list = [cost_misclassification, cost_entropy, cost_gini_index, cost_entropy_wmax, cost_gini_index_wmax ]\r\n",
        "results_HEP =  cross_validation(x_train2, y_train2, num_fold, cost_list, depth_choices, leaf_instance_choices)"
      ],
      "execution_count": null,
      "outputs": []
    },
    {
      "cell_type": "code",
      "metadata": {
        "id": "zCYmKcu74qyy"
      },
      "source": [
        "pd.DataFrame(results_HEP.items()).to_excel(\"outputHEP_EXTRAfeatures_20200203.xlsx\")  "
      ],
      "execution_count": null,
      "outputs": []
    },
    {
      "cell_type": "markdown",
      "metadata": {
        "id": "1ocyATnZQSI1"
      },
      "source": [
        "# **KNN**"
      ]
    },
    {
      "cell_type": "markdown",
      "metadata": {
        "id": "VCS8n6qiQ5XT"
      },
      "source": [
        "## Data loading"
      ]
    },
    {
      "cell_type": "code",
      "metadata": {
        "id": "gksP_2jJQiHe"
      },
      "source": [
        "import pandas as pd\r\n",
        "import numpy as np\r\n",
        "\r\n",
        "from google.colab import drive\r\n",
        "drive.mount('/content/drive')\r\n",
        "BCW_TRAINING = pd.read_csv('drive//My Drive/BCW_prepro_TRAINING.csv', index_col=0)\r\n",
        "BCW_TEST = pd.read_csv('drive//My Drive/BCW_prepro_TEST.csv', index_col=0)\r\n",
        "HEP_TRAINING = pd.read_csv('drive//My Drive/HEP_prepro_TRAINING.csv', index_col=0)\r\n",
        "HEP_TEST = pd.read_csv('drive//My Drive/HEP_prepro_TEST.csv', index_col=0)\r\n",
        "\r\n",
        "#This chunk of code cleans the breast cancer training and test sets, then assigns the sets into relevant variables\r\n",
        "#This first part creates the training sets, with and without the extra features\r\n",
        "df = BCW_TRAINING.mask(BCW_TRAINING.eq('?')).dropna() #removes all \"?\"\r\n",
        "df.iloc[:,6] = pd.to_numeric(df.iloc[:,6]) #converts string column to float\r\n",
        "df.iloc[:,10] = (df.iloc[:,10] - 2)/2 #normalizes the y column so that all values are between 0 and 1\r\n",
        "BCW_DT = df\r\n",
        "BCW_DT['ClumpXBland'] = df['Clump_Thickness']*df['Bland_Chromatin']\r\n",
        "BCW_DT['NNXMito'] = BCW_DT['Normal_Nucleoli']*BCW_DT['Mitoses']\r\n",
        "BCW_DT['SUM'] = BCW_DT['Clump_Thickness']+BCW_DT['Uniformity_of_Cell_Shape']+BCW_DT['Marginal_Adhesion']+BCW_DT['Single_Epithelial_Cell_Size']+BCW_DT['Bare_Nuclei']\r\n",
        "BCW_DT = (BCW_DT-BCW_DT.min())/(BCW_DT.max()-BCW_DT.min()) #this normalizes the entire dataframe, so the new columns are not in a different scale\r\n",
        "BCW_DT = BCW_DT.drop(['Class'], axis=1) #this removes the \"class\" column so it's easier to make a testing set from\r\n",
        "BCW_DT = BCW_DT.to_numpy()\r\n",
        "df = df.to_numpy()\r\n",
        "x_train, y_train = df[:,1:10], df[:,10].astype(int) #takes first 9 (excluding id) columns for x and last column for y\r\n",
        "x_train_extra, y_train_extra = BCW_DT[:,1:13], df[:,10].astype(int) #creates training sets with the extra features\r\n",
        "\r\n",
        "#This second part creates the test sets, with and without the extra features\r\n",
        "df = BCW_TEST.mask(BCW_TEST.eq('?')).dropna() #removes all \"?\"\r\n",
        "df.iloc[:,6] = pd.to_numeric(df.iloc[:,6]) #converts string column to float\r\n",
        "df.iloc[:,10] = (df.iloc[:,10] - 2)/2 #normalizes the y column so that all values are between 0 and 1\r\n",
        "BCW_DT = df\r\n",
        "BCW_DT['ClumpXBland'] = df['Clump_Thickness']*df['Bland_Chromatin']\r\n",
        "BCW_DT['NNXMito'] = BCW_DT['Normal_Nucleoli']*BCW_DT['Mitoses']\r\n",
        "BCW_DT['SUM'] = BCW_DT['Clump_Thickness']+BCW_DT['Uniformity_of_Cell_Shape']+BCW_DT['Marginal_Adhesion']+BCW_DT['Single_Epithelial_Cell_Size']+BCW_DT['Bare_Nuclei']\r\n",
        "BCW_DT = (BCW_DT-BCW_DT.min())/(BCW_DT.max()-BCW_DT.min()) #this normalizes the entire dataframe, so the new columns are not in a different scale\r\n",
        "BCW_DT = BCW_DT.drop(['Class'], axis=1) #this removes the \"class\" column so it's easier to make a testing set from\r\n",
        "BCW_DT = BCW_DT.to_numpy()\r\n",
        "df = df.to_numpy()\r\n",
        "x_test, y_test = df[:,1:10], df[:,10].astype(int) #takes first 9 (excluding id) columns for x and last column for y\r\n",
        "x_test_extra, y_test_extra = BCW_DT[:,1:13], df[:,10].astype(int) #creates training sets with the extra features\r\n",
        "C = len(np.unique(y_train))\r\n",
        "\r\n",
        "#This chunk of code cleans the hepatitis training and test sets, then assigns the sets into relevant variables\r\n",
        "#This first part creates the training sets, with and without the extra features\r\n",
        "df2 = HEP_TRAINING.mask(HEP_TRAINING.eq('?')).dropna() #removes all \"?\"\r\n",
        "for i in range(20): #converts string columns to float\r\n",
        "  df2.iloc[:,i] = pd.to_numeric(df2.iloc[:,i]) \r\n",
        "df2 = (df2-df2.min())/(df2.max()-df2.min()) #this normalizes all the data (categorical and continuous) to fit in the range [0,1]\r\n",
        "HEP = df2\r\n",
        "HEP['HISTCXSGOT'] = HEP['HISTOLOGY']*HEP['SGOT']\r\n",
        "HEP['ALBXPROT'] = HEP['ALBUMIN']*HEP['PROTIME']\r\n",
        "HEP['SUM'] = HEP['STEROID']+HEP['ANTIVIRALS']+(HEP['FATIGUE'])+ HEP['MALAISE'] + HEP['ANOREXIA'] + HEP['LIVER_BIG'] + HEP['LIVER_FIRM'] + HEP['SPLEEN_PALPABLE'] + HEP['SPIDERS'] + HEP['ASCITES'] + HEP['VARICES']\r\n",
        "HEP = (HEP-HEP.min())/(HEP.max()-HEP.min()) #this normalizes the entire dataframe, so the new columns are not in a different scale\r\n",
        "HEP = HEP.to_numpy()\r\n",
        "df2 = df2.to_numpy()\r\n",
        "x_train2, y_train2 = df2[:,1:20], df2[:,0].astype(int)\r\n",
        "x_train2_extra, y_train2_extra = HEP[:,1:23], df2[:,0].astype(int)\r\n",
        "\r\n",
        "#This second part creates the test sets, with and without the extra features\r\n",
        "df2 = HEP_TEST.mask(HEP_TEST.eq('?')).dropna() #removes all \"?\"\r\n",
        "for i in range(20): #converts string columns to float\r\n",
        "  df2.iloc[:,i] = pd.to_numeric(df2.iloc[:,i])\r\n",
        "df2.iloc[0,7], df2.iloc[0,12] = df2.iloc[0,7]-0.1, df2.iloc[0,12]-0.1 #this and the code two lines after are so we don't divide by 0\r\n",
        "df2 = (df2-df2.min())/(df2.max()-df2.min()) #this normalizes all the data (categorical and continuous) to fit in the range [0,1]\r\n",
        "df2.iloc[0,7], df2.iloc[0,12] = df2.iloc[0,7]+1.0, df2.iloc[0,12]+1.0\r\n",
        "HEP = df2\r\n",
        "HEP['HISTCXSGOT'] = HEP['HISTOLOGY']*HEP['SGOT']\r\n",
        "HEP['ALBXPROT'] = HEP['ALBUMIN']*HEP['PROTIME']\r\n",
        "HEP['SUM'] = HEP['STEROID']+HEP['ANTIVIRALS']+(1-HEP['FATIGUE'])+ HEP['MALAISE'] + HEP['ANOREXIA'] + HEP['LIVER_BIG'] + HEP['LIVER_FIRM'] + HEP['SPLEEN_PALPABLE'] + HEP['SPIDERS'] + HEP['ASCITES'] + HEP['VARICES']\r\n",
        "df2.iloc[0,7], df2.iloc[0,12] = df2.iloc[0,7]-0.1, df2.iloc[0,12]-0.1 #this and the code two lines after are so we don't divide by 0\r\n",
        "HEP = (HEP-HEP.min())/(HEP.max()-HEP.min()) #this normalizes the entire dataframe, so the new columns are not in a different scale\r\n",
        "df2.iloc[0,7], df2.iloc[0,12] = df2.iloc[0,7]+1.0, df2.iloc[0,12]+1.0\r\n",
        "HEP = HEP.to_numpy()\r\n",
        "df2 = df2.to_numpy()\r\n",
        "x_test2, y_test2 = df2[:,1:20], df2[:,0].astype(int)\r\n",
        "x_test2_extra, y_test2_extra = HEP[:,1:23], df2[:,0].astype(int)\r\n",
        "C2 = len(np.unique(y_train2))"
      ],
      "execution_count": null,
      "outputs": []
    },
    {
      "cell_type": "markdown",
      "metadata": {
        "id": "zSyP3HkNSEOc"
      },
      "source": [
        "## KNN Class"
      ]
    },
    {
      "cell_type": "code",
      "metadata": {
        "id": "IAxT-f5YSQDx"
      },
      "source": [
        "euclidean = lambda x1, x2: np.sqrt(np.sum((x1 - x2)**2, axis=-1))\r\n",
        "manhattan = lambda x1, x2: np.sum(np.abs(x1 - x2), axis=-1) #NOTE: manhattan distance is the same as hamming distance if vectors are binary\r\n",
        "\r\n",
        "class KNN:\r\n",
        "\r\n",
        "    def __init__(self, K=1, dist_fn= euclidean):\r\n",
        "        self.dist_fn = dist_fn\r\n",
        "        self.K = K\r\n",
        "        return\r\n",
        "    \r\n",
        "    def fit(self, x, y):\r\n",
        "        ''' Store the training data using this method as it is a lazy learner'''\r\n",
        "        self.x = x\r\n",
        "        self.y = y\r\n",
        "        self.C = len(np.unique(y))+1\r\n",
        "        return self\r\n",
        "    \r\n",
        "    def predict(self, x_test, dist_mult):\r\n",
        "        ''' Makes a prediction using the stored training data and the test data given as argument'''\r\n",
        "        num_test = x_test.shape[0]\r\n",
        "        #calculate distance between the training & test samples and returns an array of shape [num_test, num_train]\r\n",
        "        if x_test.shape[1] > 16:\r\n",
        "          cont_train, cont_test = self.x[:,[0,13,14,15,16,17]], x_test[:,[0,13,14,15,16,17]]\r\n",
        "          cat_train, cat_test = self.x[:,[1,2,3,4,5,6,7,8,9,10,11,12,18]], x_test[:,[1,2,3,4,5,6,7,8,9,10,11,12,18]]\r\n",
        "          if x_test.shape[1] > 20:\r\n",
        "            cont_train, cont_test = np.append(cont_train, self.x[:,[19,20,21]], axis=1), np.append(cont_test, x_test[:,[19,20,21]], axis=1)\r\n",
        "          distances1 = self.dist_fn(cont_train[None,:,:], cont_test[:,None,:]) * dist_mult\r\n",
        "          distances2 = manhattan(cat_train[None,:,:], cat_test[:,None,:])\r\n",
        "          distances = distances1 + distances2\r\n",
        "        else:\r\n",
        "          distances = self.dist_fn(self.x[None,:,:], x_test[:,None,:])\r\n",
        "        #ith-row of knns stores the indices of k closest training samples to the ith-test sample \r\n",
        "        knns = np.zeros((num_test, self.K), dtype=int)\r\n",
        "        #ith-row of y_prob has the probability distribution over C classes\r\n",
        "        y_prob = np.zeros((num_test, self.C))\r\n",
        "        for i in range(num_test):\r\n",
        "            knns[i,:] = np.argsort(distances[i])[:self.K]\r\n",
        "            y_prob[i,:] = np.bincount(self.y[knns[i,:]], minlength=self.C) #counts the number of instances of each class in the K-closest training samples\r\n",
        "        #simply divide by K to get a probability distribution\r\n",
        "        y_prob /= self.K\r\n",
        "        return y_prob, knns\r\n",
        "\r\n",
        "    def evaluate_acc(self, true_y, target_y):\r\n",
        "      return np.sum(target_y == true_y)/true_y.shape[0]"
      ],
      "execution_count": null,
      "outputs": []
    },
    {
      "cell_type": "markdown",
      "metadata": {
        "id": "Fh6nfOhoSUPN"
      },
      "source": [
        "## Cross-validation Function"
      ]
    },
    {
      "cell_type": "code",
      "metadata": {
        "id": "NvBZXRfpSTgR"
      },
      "source": [
        "def cross_validation(x_train, y_train, num_fold, K_choices, dist_type, dist_mult):\r\n",
        "    \r\n",
        "    size_validation_set = x_train.shape[0] // num_fold\r\n",
        "    \r\n",
        "    print(\"K, mean_accuracy, dist_mult\")\r\n",
        "\r\n",
        "    for K in K_choices:\r\n",
        "          if dist_type == 0:\r\n",
        "            model = KNN(K, euclidean)\r\n",
        "          else:\r\n",
        "            model = KNN(K, manhattan)\r\n",
        "            \r\n",
        "          accuracy_list = []\r\n",
        "        \r\n",
        "          for i in range(num_fold): #separates the data into validation and training sets repeatedly to perform cross-validation for a given K\r\n",
        "              feature_part_1, label_part_1 = x_train[:i*size_validation_set, :], y_train[:i*size_validation_set]\r\n",
        "              x_vali, y_vali = x_train[i*size_validation_set:(i+1)*size_validation_set, :], y_train[i*size_validation_set:(i+1)*size_validation_set]\r\n",
        "              feature_part_2, label_part_2 = x_train[(i+1)*size_validation_set:, :], y_train[(i+1)*size_validation_set:]\r\n",
        "              feature = np.concatenate((feature_part_1, feature_part_2), axis=0)\r\n",
        "              label = np.concatenate((label_part_1, label_part_2), axis=0)\r\n",
        "        \r\n",
        "              y_prob, knns = model.fit(feature, label).predict(x_vali, dist_mult)\r\n",
        "              y_pred = np.argmax(y_prob,axis=-1)\r\n",
        "              accuracy = model.evaluate_acc(y_vali,y_pred)\r\n",
        "                \r\n",
        "              accuracy_list.append(accuracy)\r\n",
        "          \r\n",
        "          mean_accuracy = sum(accuracy_list) / len(accuracy_list)\r\n",
        "          print(f'{K},  {mean_accuracy*100:.1f}, {dist_mult}')"
      ],
      "execution_count": null,
      "outputs": []
    },
    {
      "cell_type": "markdown",
      "metadata": {
        "id": "bNwPdHznTjob"
      },
      "source": [
        "Running cross-validation to identify the best hyperparameters"
      ]
    },
    {
      "cell_type": "code",
      "metadata": {
        "id": "FWL8zoiDVzxN"
      },
      "source": [
        "K_choices = [1, 2, 3, 4, 5, 6, 7, 8, 9, 10, 15, 20, 50, 100, 200]\r\n",
        "K_choices2 = [1, 2, 3, 4, 5, 6, 7, 8, 9, 10, 15, 20, 50]\r\n",
        "num_fold = 5\r\n",
        "\r\n",
        "#the last two arguments are the distance function used (0 if euclidean and 1 if manhattan) and the distance multiplier for the distance function (only used for the hepatitis data, since there are two different distance functions being used)\r\n",
        "print(f'Breast cancer data (euclidean):')\r\n",
        "cross_validation(x_train, y_train, num_fold, K_choices, 0, 1)\r\n",
        "print(f'\\nBreast cancer data (euclidean, extra features):')\r\n",
        "cross_validation(x_train_extra, y_train_extra, num_fold, K_choices, 0, 1)\r\n",
        "print(f'\\nBreast cancer data (manhattan):')\r\n",
        "cross_validation(x_train, y_train, num_fold, K_choices, 1, 1)\r\n",
        "print(f'\\nBreast cancer data (manhattan, extra features):')\r\n",
        "cross_validation(x_train_extra, y_train_extra, num_fold, K_choices, 1, 1)\r\n",
        "print(f'\\nHepatitis data (euclidean):')\r\n",
        "cross_validation(x_train2, y_train2, num_fold, K_choices2, 0, 1)\r\n",
        "print(f'\\nHepatitis data (euclidean, extra features):')\r\n",
        "cross_validation(x_train2_extra, y_train2_extra, num_fold, K_choices2, 0, 1)\r\n",
        "print(f'\\nHepatitis data (manhattan):')\r\n",
        "cross_validation(x_train2, y_train2, num_fold, K_choices2, 1, 1)\r\n",
        "print(f'\\nHepatitis data (manhattan, extra features):')\r\n",
        "cross_validation(x_train2_extra, y_train2_extra, num_fold, K_choices2, 1, 1)\r\n",
        "\r\n",
        "#This uses cross-validation to test for the best mulitplier, given a distance metric\r\n",
        "print(f'\\nThis will test the cts variable multiplier')\r\n",
        "for i in np.arange(1, 100.5, 1):\r\n",
        "    cross_validation(x_train2, y_train2, num_fold, K_choices2, 1, i)"
      ],
      "execution_count": null,
      "outputs": []
    },
    {
      "cell_type": "markdown",
      "metadata": {
        "id": "iMH3ugLCV7Nn"
      },
      "source": [
        "## KNN Predictions"
      ]
    },
    {
      "cell_type": "code",
      "metadata": {
        "id": "xu2swW-pV_aX"
      },
      "source": [
        "#Final run on BCW using cross-validation results\r\n",
        "model = KNN(7, euclidean)\r\n",
        "\r\n",
        "y_prob, knns = model.fit(x_train_extra, y_train_extra).predict(x_test_extra,1)\r\n",
        "print('knns shape:', knns.shape)\r\n",
        "print('y_prob shape:', y_prob.shape)\r\n",
        "\r\n",
        "#To get hard predictions by choosing the class with the maximum probability\r\n",
        "y_pred = np.argmax(y_prob,axis=-1)\r\n",
        "accuracy = model.evaluate_acc(y_test_extra,y_pred)\r\n",
        "\r\n",
        "print(f'accuracy is {accuracy*100:.1f}.')\r\n",
        "\r\n",
        "#Final run on HEP using cross-validation results\r\n",
        "model = KNN(8, euclidean)\r\n",
        "\r\n",
        "y_prob, knns = model.fit(x_train2_extra, y_train2_extra).predict(x_test2_extra,11)\r\n",
        "print('knns shape:', knns.shape)\r\n",
        "print('y_prob shape:', y_prob.shape)\r\n",
        "\r\n",
        "#To get hard predictions by choosing the class with the maximum probability\r\n",
        "y_pred = np.argmax(y_prob,axis=-1)\r\n",
        "accuracy = model.evaluate_acc(y_test2_extra,y_pred)\r\n",
        "\r\n",
        "print(f'accuracy is {accuracy*100:.1f}.')\r\n",
        "\r\n",
        "#This chunk of code is used to quickly evaluate the average training and test accuracy of a distance metric over different kinds of datasets\r\n",
        "accuracy_list = []\r\n",
        "for i in K_choices:\r\n",
        "  model = KNN(i, manhattan)\r\n",
        "  y_prob, knns = model.fit(x_train, y_train).predict(x_test,1)\r\n",
        "  y_pred = np.argmax(y_prob,axis=-1)\r\n",
        "  accuracy = model.evaluate_acc(y_test,y_pred)\r\n",
        "  accuracy_list.append(accuracy)\r\n",
        "mean_accuracy, max_accuracy = sum(accuracy_list) / len(accuracy_list), max(accuracy_list)\r\n",
        "print(f'({mean_accuracy*100:.1f}) {max_accuracy*100:.1f} ', end =\" \")\r\n",
        "\r\n",
        "accuracy_list = []\r\n",
        "for i in K_choices:\r\n",
        "  model = KNN(i, manhattan)\r\n",
        "  y_prob, knns = model.fit(x_train_extra, y_train_extra).predict(x_test_extra,1)\r\n",
        "  y_pred = np.argmax(y_prob,axis=-1)\r\n",
        "  accuracy = model.evaluate_acc(y_test_extra,y_pred)\r\n",
        "  accuracy_list.append(accuracy)\r\n",
        "mean_accuracy, max_accuracy = sum(accuracy_list) / len(accuracy_list), max(accuracy_list)\r\n",
        "print(f'({mean_accuracy*100:.1f}) {max_accuracy*100:.1f} ', end =\" \")"
      ],
      "execution_count": null,
      "outputs": []
    },
    {
      "cell_type": "markdown",
      "metadata": {
        "id": "RcEn8qdefjj_"
      },
      "source": [
        "## Decision Boundary"
      ]
    },
    {
      "cell_type": "code",
      "metadata": {
        "id": "NNiE6xRla7ri",
        "colab": {
          "base_uri": "https://localhost:8080/",
          "height": 811
        },
        "outputId": "0ea5a094-92b8-4870-d268-268c2ca9f32f"
      },
      "source": [
        "#This code can be used to produce decision boundaries\r\n",
        "\r\n",
        "x0v = np.linspace(np.min(x_test[:,0]), np.max(x_test[:,0]), 200)\r\n",
        "x1v = np.linspace(np.min(x_test[:,1]), np.max(x_test[:,1]), 200)\r\n",
        "\r\n",
        "#to features values as a mesh  \r\n",
        "x0, x1 = np.meshgrid(x0v, x1v)\r\n",
        "x_all = np.vstack((x0.ravel(),x1.ravel())).T\r\n",
        "\r\n",
        "for k in [1, 5]:\r\n",
        "  model = KNN(k, euclidean)\r\n",
        "\r\n",
        "  y_train_prob = np.zeros((y_train.shape[0], 200))\r\n",
        "  y_train_prob[np.arange(y_train.shape[0]), y_train] = 1\r\n",
        "\r\n",
        "  #to get class probability of all the points in the 2D grid\r\n",
        "  y_prob_all, _ = model.fit(x_train[:,[1,6]], y_train).predict(x_all, 1)\r\n",
        "\r\n",
        "  y_pred_all = np.zeros_like(y_prob_all)\r\n",
        "  y_pred_all[np.arange(x_all.shape[0]), np.argmax(y_prob_all, axis=-1)] = 1\r\n",
        "\r\n",
        "  fig, ax = plt.subplots(figsize=(6, 6))\r\n",
        "  ax.scatter(x_train[:,1], x_train[:,6], c=y_train_prob[:,0], marker='o', alpha=0.5)\r\n",
        "  ax.scatter(x_all[:,0], x_all[:,1], c=y_pred_all[:,0], marker='.', alpha=0.01)\r\n",
        "  ax.set_ylabel('Bland_Chromatin', fontsize=15)\r\n",
        "  ax.set_xlabel('Clump_Thickness', fontsize=15)\r\n",
        "  ax.set_title(f\"K-NN (k={k})\", fontsize=18)\r\n",
        "  #ax.legend()\r\n",
        "  plt.show()"
      ],
      "execution_count": null,
      "outputs": [
        {
          "output_type": "display_data",
          "data": {
            "image/png": "[encoded data removed]",
            "text/plain": [
              "<Figure size 432x432 with 1 Axes>"
            ]
          },
          "metadata": {
            "tags": [],
            "needs_background": "light"
          }
        },
        {
          "output_type": "display_data",
          "data": {
            "image/png": "[encoded data removed]",
            "text/plain": [
              "<Figure size 432x432 with 1 Axes>"
            ]
          },
          "metadata": {
            "tags": [],
            "needs_background": "light"
          }
        }
      ]
    }
  ]
}