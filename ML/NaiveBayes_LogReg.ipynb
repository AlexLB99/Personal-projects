{
  "nbformat": 4,
  "nbformat_minor": 0,
  "metadata": {
    "colab": {
      "name": "MP2_load_data.ipynb",
      "provenance": [],
      "collapsed_sections": [],
      "toc_visible": true,
      "machine_shape": "hm"
    },
    "kernelspec": {
      "display_name": "Python 3",
      "name": "python3"
    }
  },
  "cells": [
    {
      "cell_type": "code",
      "metadata": {
        "colab": {
          "base_uri": "https://localhost:8080/"
        },
        "id": "DXT4KxbhJlCd",
        "outputId": "66588f10-1ca5-4fa6-f8e7-de1e42610b04"
      },
      "source": [
        "import pandas as pd\r\n",
        "import numpy as np\r\n",
        "import scipy\r\n",
        "import itertools\r\n",
        "%matplotlib inline\r\n",
        "import matplotlib.pyplot as plt\r\n",
        "#from sklearn import datasets\r\n",
        "np.random.seed(1234)\r\n",
        "import random\r\n",
        "\r\n",
        "import time\r\n",
        "\r\n",
        "import os\r\n",
        "import nltk\r\n",
        "nltk.download('punkt')\r\n",
        "nltk.download('wordnet')\r\n",
        "nltk.download('stopwords')\r\n",
        "nltk.download('averaged_perceptron_tagger')\r\n",
        "from sklearn.feature_extraction.text import CountVectorizer\r\n",
        "from sklearn.datasets import fetch_20newsgroups\r\n",
        "from nltk.tokenize import TweetTokenizer\r\n",
        "from collections import defaultdict\r\n",
        "from nltk.corpus import wordnet as wn\r\n",
        "import string\r\n",
        "from sklearn.feature_extraction.text import TfidfTransformer\r\n",
        "from sklearn.feature_selection import SelectKBest, chi2, f_regression"
      ],
      "execution_count": null,
      "outputs": [
        {
          "output_type": "stream",
          "text": [
            "[nltk_data] Downloading package punkt to /root/nltk_data...\n",
            "[nltk_data]   Unzipping tokenizers/punkt.zip.\n",
            "[nltk_data] Downloading package wordnet to /root/nltk_data...\n",
            "[nltk_data]   Unzipping corpora/wordnet.zip.\n",
            "[nltk_data] Downloading package stopwords to /root/nltk_data...\n",
            "[nltk_data]   Unzipping corpora/stopwords.zip.\n",
            "[nltk_data] Downloading package averaged_perceptron_tagger to\n",
            "[nltk_data]     /root/nltk_data...\n",
            "[nltk_data]   Unzipping taggers/averaged_perceptron_tagger.zip.\n"
          ],
          "name": "stdout"
        }
      ]
    },
    {
      "cell_type": "markdown",
      "metadata": {
        "id": "IQBkdPxMKK-l"
      },
      "source": [
        "# Dataloading"
      ]
    },
    {
      "cell_type": "markdown",
      "metadata": {
        "id": "t9nrcl0pJpb5"
      },
      "source": [
        "Define function to load imbd dataset:"
      ]
    },
    {
      "cell_type": "code",
      "metadata": {
        "id": "gE1WG-9jJmWz"
      },
      "source": [
        "def load_imdb(data_path, label_type='binary'):\r\n",
        "    \"\"\"\r\n",
        "    :param data_path: path where aclImdb folder is stored\r\n",
        "    :param label_type: 'binary' if want binary 1 (positive review) and 0 (negative review), or 'score' if want the actual score (0-9 corresponding to 1-10/10)\r\n",
        "    :return: train and test corpus and labels\r\n",
        "    \"\"\"\r\n",
        "    imdb_data_path = os.path.join(data_path, 'aclImdb')\r\n",
        "\r\n",
        "    out = {key: {'data': [], 'target': []} for key in ['train', 'test']}\r\n",
        "\r\n",
        "    for key, val in out.items():\r\n",
        "        for category in ['pos', 'neg']:\r\n",
        "            train_path = os.path.join(imdb_data_path, key, category)\r\n",
        "\r\n",
        "            for filename in sorted(os.listdir(train_path)):\r\n",
        "\r\n",
        "                if filename.endswith('.txt'):\r\n",
        "                    with open(os.path.join(train_path, filename), encoding='utf8') as f:\r\n",
        "                        val['data'].append(f.read())\r\n",
        "                    if label_type == 'binary':\r\n",
        "                        # Label is a 1 if positive review and 0 if negative review\r\n",
        "                        val['target'].append(0 if category == 'neg' else 1)\r\n",
        "                    elif label_type == 'score':\r\n",
        "                        # Label is the index of the score of the review 0-9 corresponding to a score of 1-10/10\r\n",
        "                        val['target'].append(int(filename.split('_')[1].split('.')[0]) - 1)\r\n",
        "                    else:\r\n",
        "                        raise ValueError\r\n",
        "\r\n",
        "    return out['train'], out['test']\r\n",
        "\r\n",
        "\r\n",
        "def review_to_url(corpus, data_path):\r\n",
        "    \"\"\"\r\n",
        "    Concatenates reviews if they are for the same movie. Requires that the reviews be kept in the same order as in the url txt file.\r\n",
        "    Note that this operation does not preserve the order of the original corpus.\r\n",
        "    \"\"\"\r\n",
        "\r\n",
        "    # Extract url for each document\r\n",
        "    urls = []\r\n",
        "    for filename in ('urls_pos.txt', 'urls_neg.txt'):\r\n",
        "        with open(os.path.join(data_path, 'aclImdb', 'train', filename), encoding='utf8') as f:\r\n",
        "            urls += f.read().split('\\n')  # Split the URL string by newline\r\n",
        "            # Last one is an empty string so remove it\r\n",
        "            if urls[-1] == '':\r\n",
        "                urls = urls[:-1]\r\n",
        "\r\n",
        "    # Concatenate each document with the same url\r\n",
        "    unique_urls = list(set(urls))\r\n",
        "    url_corpus = ['' for _ in range(len(unique_urls))]\r\n",
        "    for i, u in enumerate(urls):\r\n",
        "        i_unique = unique_urls.index(u)\r\n",
        "        if len(url_corpus[i_unique]) == 0:\r\n",
        "            url_corpus[i_unique] += corpus[i]\r\n",
        "        else:\r\n",
        "            url_corpus[i_unique] += ' ' + corpus[i]  # Concatenate with a space to avoid merging two words\r\n",
        "\r\n",
        "    return url_corpus"
      ],
      "execution_count": null,
      "outputs": []
    },
    {
      "cell_type": "markdown",
      "metadata": {
        "id": "oLMsd1PXJ9pa"
      },
      "source": [
        "Define preprocessing and vectorizing classes for textual data:"
      ]
    },
    {
      "cell_type": "code",
      "metadata": {
        "id": "CFlOpgVzJx39"
      },
      "source": [
        "class CorpusPreproc():\r\n",
        "    def __init__(self, lemmatizer=False, remove_stopwords=False, remove_punc=False):\r\n",
        "\r\n",
        "        self.lemmatizer = lemmatizer\r\n",
        "        self.remove_stopwords = remove_stopwords\r\n",
        "        self.remove_punc = remove_punc\r\n",
        "\r\n",
        "    def preproc(self, data):\r\n",
        "        \"\"\"Basic preprocessing of text data\"\"\"\r\n",
        "\r\n",
        "        # Split text into tokens\r\n",
        "        tweet = TweetTokenizer()\r\n",
        "        out = [tweet.tokenize(sentence) for sentence in data]\r\n",
        "\r\n",
        "        if self.lemmatizer:\r\n",
        "            tag_map = defaultdict(lambda: wn.NOUN)\r\n",
        "            tag_map['J'] = wn.ADJ\r\n",
        "            tag_map['V'] = wn.VERB\r\n",
        "            tag_map['R'] = wn.ADV\r\n",
        "\r\n",
        "            out = [\r\n",
        "                [nltk.stem.WordNetLemmatizer().lemmatize(token, tag_map[tag[0]]) for token, tag in nltk.pos_tag(sent)]\r\n",
        "                for sent in out]\r\n",
        "\r\n",
        "        if self.remove_stopwords:\r\n",
        "            stop_words = set(nltk.corpus.stopwords.words('english'))\r\n",
        "            out = [[word for word in sentence if not word in stop_words] for sentence in out]\r\n",
        "\r\n",
        "        if self.remove_punc:\r\n",
        "            punc = string.punctuation\r\n",
        "            out = [[word for word in sentence if word not in punc] for sentence in out]\r\n",
        "\r\n",
        "        # Rejoin tokens\r\n",
        "        out = [' '.join(sentence) for sentence in out]\r\n",
        "\r\n",
        "        return out\r\n",
        "\r\n",
        "\r\n",
        "class Vectorizer():\r\n",
        "    def __init__(self, params, stop_words=None):\r\n",
        "        self.tf = params['tf']\r\n",
        "        self.min_df = params['min_df']\r\n",
        "        self.max_df = params['max_df']\r\n",
        "        self.ngram_range = params['ngram_range']\r\n",
        "        self.use_idf = params['use_idf']\r\n",
        "        self.stop_words = stop_words\r\n",
        "        self.vectorizer = CountVectorizer(min_df=self.min_df, max_df=self.max_df, ngram_range=self.ngram_range, stop_words=self.stop_words)\r\n",
        "\r\n",
        "        if self.tf:\r\n",
        "            self.tfidf = TfidfTransformer(use_idf=self.use_idf)\r\n",
        "        else:\r\n",
        "            self.tfidf = None\r\n",
        "\r\n",
        "    def fit_transform(self, data):\r\n",
        "        \"\"\"Fit vectorizer and transform data\"\"\"\r\n",
        "\r\n",
        "        # Vectorize\r\n",
        "        out = self.vectorizer.fit_transform(data)\r\n",
        "\r\n",
        "        # TF\r\n",
        "        if self.tfidf is not None:\r\n",
        "            out = self.tfidf.fit_transform(out)\r\n",
        "\r\n",
        "        return out\r\n",
        "\r\n",
        "    def transform(self, data):\r\n",
        "        \"\"\"Transform data using already fitted vectorizer\"\"\"\r\n",
        "\r\n",
        "        # Vectorize\r\n",
        "        out = self.vectorizer.transform(data)\r\n",
        "\r\n",
        "        # TF\r\n",
        "        if self.tfidf is not None:\r\n",
        "            out = self.tfidf.transform(out)\r\n",
        "\r\n",
        "        return out\r\n",
        "\r\n",
        "\r\n",
        "    def get_feature_names(self):\r\n",
        "        return self.vectorizer.get_feature_names()"
      ],
      "execution_count": null,
      "outputs": []
    },
    {
      "cell_type": "markdown",
      "metadata": {
        "id": "wvoHqK_vk2Jv"
      },
      "source": [
        "# Models"
      ]
    },
    {
      "cell_type": "markdown",
      "metadata": {
        "id": "ke467a2Vi5Mz"
      },
      "source": [
        "Naive Bayes Model"
      ]
    },
    {
      "cell_type": "code",
      "metadata": {
        "id": "U2ieKA79i97T"
      },
      "source": [
        "class NaiveBayes:\r\n",
        "    \r\n",
        "    def __init__(self, config, n_classes=None):\r\n",
        "        self.prob_w1 = None\r\n",
        "        self.log_prob_w1 = None\r\n",
        "        self.pi = None\r\n",
        "        self.alpha = config['alpha']\r\n",
        "        self.n_classes = n_classes       \r\n",
        "    \r\n",
        "    def fit(self, x, y):\r\n",
        "        N, D = x.shape\r\n",
        "        if self.n_classes is None:\r\n",
        "          self.n_classes = np.max(y) + 1\r\n",
        "        cnt_wi = np.zeros((self.n_classes,D))\r\n",
        "        prob_wi = np.zeros((self.n_classes,D))\r\n",
        "        log_prob_wi = np.zeros((self.n_classes,D))\r\n",
        "        Nc = np.zeros(self.n_classes) # number of instances in class c\r\n",
        "        # for each class get the MLE for the mean and std\r\n",
        "        for c in range(self.n_classes):\r\n",
        "            x_c = x[y == c]                         #slice all the elements from class c\r\n",
        "            Nc[c] = x_c.shape[0]                      #get number of elements of class c\r\n",
        "            #cnt_Ny[c] = \r\n",
        "            cnt_wi[c,:] = np.sum(x_c,0) + self.alpha\r\n",
        "            prob_wi[c,:] = cnt_wi[c,:]/(x_c.sum().sum() + self.alpha*D)     \r\n",
        "            \r\n",
        "        self.prob_wi = prob_wi                                 # C x D                          # C x D\r\n",
        "        self.log_prob_wi = np.ma.log(self.prob_wi).filled(0)\r\n",
        "        self.pi = (Nc+self.alpha)/(N +self.alpha*self.n_classes)                        #Laplace smoothing (using alpha_c=1 for all c) you can derive using Dirichlet's distribution\r\n",
        "        return self"
      ],
      "execution_count": null,
      "outputs": []
    },
    {
      "cell_type": "code",
      "metadata": {
        "id": "hh9ktCWnjTOi"
      },
      "source": [
        "\r\n",
        "def predict(self, xt):\r\n",
        "    Nt, D = xt.shape\r\n",
        "    pred = []\r\n",
        "    # for numerical stability we work in the log domain\r\n",
        "    log_prior = np.log(self.pi)\r\n",
        "    #print(type(xt))\r\n",
        "    for index, row in xt.iterrows():\r\n",
        "      #print(index)\r\n",
        "      log_likelihood = np.sum( np.multiply(np.array(row).reshape(1, -1), self.log_prob_wi ), 1    )\r\n",
        "      ypred = np.argmax( log_prior + log_likelihood )\r\n",
        "      #print(ypred)\r\n",
        "      pred.append(ypred)\r\n",
        "    return np.array(pred)\r\n",
        "\r\n",
        "def evaluate_acc(self, true_y, target_y):\r\n",
        "    return np.sum(target_y == true_y)/true_y.shape[0]\r\n",
        "\r\n",
        "NaiveBayes.predict = predict\r\n",
        "NaiveBayes.evaluate_acc = evaluate_acc  "
      ],
      "execution_count": null,
      "outputs": []
    },
    {
      "cell_type": "markdown",
      "metadata": {
        "id": "kHU5iywdVO8A"
      },
      "source": [
        "Softmax Regression"
      ]
    },
    {
      "cell_type": "code",
      "metadata": {
        "id": "z8gYAN2UVRCJ"
      },
      "source": [
        "def softmax(x, axis=None):\r\n",
        "    x = x - x.max(axis=1, keepdims=True)\r\n",
        "    y = np.exp(x)\r\n",
        "    return y / y.sum(axis=1, keepdims=True)\r\n",
        "\r\n",
        "class LogisticRegression:\r\n",
        "    \r\n",
        "    def __init__(self, params,n_classes=None):\r\n",
        "        self.learning_rate = params[\"learning_rate\"]\r\n",
        "        self.max_iters = int(params[\"max_iters\"])   #maximum number of iteration of gradient descent\r\n",
        "        self.weights = []\r\n",
        "        self.b = []\r\n",
        "        self.n_classes = n_classes\r\n",
        "        self.regul_type = params[\"regularization\"]\r\n",
        "        self.regul_const = params[\"reg_constant\"]\r\n",
        "\r\n",
        "    def fit(self,x,y):\r\n",
        "      x = scipy.sparse.hstack((scipy.sparse.csr_matrix(np.ones((x.shape[0], 1))), x)) #adds a column of ones at the beginning of x to allow for a bias term\r\n",
        "      classes = np.unique(y)\r\n",
        "      self.weights = np.zeros((x.shape[1],len(classes)))\r\n",
        "      y_c = np.zeros((len(y), len(classes)))\r\n",
        "      for i, j in enumerate(y): #This performs one-hot encoding\r\n",
        "        y_c[i, int(j)] = 1\r\n",
        "      for epoch in range(self.max_iters):\r\n",
        "          soft = softmax(x @ self.weights)\r\n",
        "          y_diff = soft - y_c\r\n",
        "          grad = (x.T @ y_diff)\r\n",
        "          if self.regul_type == \"l2\":\r\n",
        "            self.weights -= (self.learning_rate * (grad+self.regul_const*self.weights)) #apply L2 regularization\r\n",
        "          else:\r\n",
        "            self.weights -= (self.learning_rate * (grad+self.regul_const*np.sign(self.weights))) #apply L1 regularization\r\n",
        "      self.weights = self.weights.T\r\n",
        "\r\n",
        "    def predict(self, x):\r\n",
        "      classes = np.arange(self.n_classes)\r\n",
        "      x = scipy.sparse.hstack((scipy.sparse.csr_matrix(np.ones((x.shape[0], 1))), x))\r\n",
        "      preds = [np.argmax(np.array([(xi @ weight) for weight in self.weights])) for xi in x.toarray()]\r\n",
        "      return [classes[p] for p in preds]\r\n",
        "\r\n",
        "    def evaluate_acc(self, true_y, target_y):\r\n",
        "      return np.sum(target_y == true_y)/true_y.shape[0]"
      ],
      "execution_count": null,
      "outputs": []
    },
    {
      "cell_type": "markdown",
      "metadata": {
        "id": "fyqfQlfDLQRl"
      },
      "source": [
        "# Training"
      ]
    },
    {
      "cell_type": "markdown",
      "metadata": {
        "id": "kbLKWsq3VcvZ"
      },
      "source": [
        "Define CV-related functions:"
      ]
    },
    {
      "cell_type": "code",
      "metadata": {
        "id": "fLmlrCJnVaLs"
      },
      "source": [
        "def random_search(hyperparameters, n_samples, RAND=None):\r\n",
        "    keys_to_permut = []\r\n",
        "    vals_to_permut = []\r\n",
        "    for key, val in hyperparameters.items():\r\n",
        "        keys_to_permut.append(key)\r\n",
        "        vals_to_permut.append(val)\r\n",
        "\r\n",
        "    vals_permut = itertools.product(*vals_to_permut)\r\n",
        "    random.seed(RAND)\r\n",
        "    samples = random.sample(list(vals_permut), n_samples)\r\n",
        "\r\n",
        "    return samples, keys_to_permut\r\n",
        "\r\n",
        "\r\n",
        "def cross_validation_split(X, y, stratify=None, K=5):\r\n",
        "\r\n",
        "    if stratify is not None:\r\n",
        "        # Get classes for stratified sampling\r\n",
        "        classes = np.unique(stratify)\r\n",
        "        # Get index for each class\r\n",
        "        i_targets = []\r\n",
        "        class_test_size = []\r\n",
        "        for c in classes:\r\n",
        "            i_c = np.asarray(stratify == c).nonzero()[0]\r\n",
        "            i_targets.append(i_c)\r\n",
        "            class_test_size.append(round(len(i_c) / K))\r\n",
        "    else:\r\n",
        "        classes = [0]  # No stratification by class, assume all the same\r\n",
        "        class_test_size = len(stratify)\r\n",
        "        i_targets = np.arange(len(stratify))\r\n",
        "\r\n",
        "    # Prepare K-folds output\r\n",
        "    splits = [{'train': {'X': [], 'y': []},\r\n",
        "               'val': {'X': [], 'y': []}} for _ in range(K)]\r\n",
        "\r\n",
        "    # Loop through each class and sample proportionally from each\r\n",
        "    for i_fold in range(K):\r\n",
        "        all_val_i = np.array([])\r\n",
        "        # Otherwise sample proportionally from each class to create a test set\r\n",
        "        for i_class in range(len(classes)):\r\n",
        "            if i_fold == K - 1:\r\n",
        "                # If last fold whatever is left in the index bank is what is used as the last test set\r\n",
        "                val_i = random.sample(range(0, len(i_targets[i_class])), len(i_targets[i_class]))\r\n",
        "            else:\r\n",
        "                val_i = random.sample(range(0, len(i_targets[i_class])), class_test_size[i_class])\r\n",
        "            # Add test samples from this class to all samples for this test fold\r\n",
        "            if len(all_val_i) == 0:\r\n",
        "                all_val_i = i_targets[i_class][val_i]\r\n",
        "            else:\r\n",
        "                all_val_i = np.concatenate((all_val_i, i_targets[i_class][val_i]), axis=0)\r\n",
        "            # Remove these samples so that the next test fold is sampled without replacement\r\n",
        "            i_targets[i_class] = np.delete(i_targets[i_class], val_i)\r\n",
        "\r\n",
        "        # Save validation split\r\n",
        "        random.shuffle(all_val_i)  # Need to random shuffle\r\n",
        "        splits[i_fold]['val']['X'] = [X[i] for i in all_val_i]\r\n",
        "        splits[i_fold]['val']['y'] = y[all_val_i]\r\n",
        "        # Save training split\r\n",
        "        all_train_i = np.arange(y.shape[0])\r\n",
        "        all_train_i = np.delete(all_train_i, all_val_i)\r\n",
        "        random.shuffle(all_train_i) # Need to random shuffle\r\n",
        "        splits[i_fold]['train']['X'] = [X[i] for i in all_train_i]\r\n",
        "        splits[i_fold]['train']['y'] = y[all_train_i]\r\n",
        "\r\n",
        "    return splits\r\n",
        "\r\n",
        "def kfoldCV(splits, model):\r\n",
        "    all_metrics = []\r\n",
        "    for split in splits:\r\n",
        "\r\n",
        "        model.fit(split['train']['X'], split['train']['y'])\r\n",
        "        y_pred = model.predict(split['val']['X'])\r\n",
        "        all_metrics.append(model.evaluate_acc(split['val']['y'], y_pred))\r\n",
        "\r\n",
        "    avg_metric = np.average(all_metrics)\r\n",
        "\r\n",
        "    return avg_metric\r\n",
        "\r\n",
        "\r\n",
        "def tuning_loop(splits, samples, keys, model_type='NaiveBayes', n_classes=None, stop_words=None, verbose=False):\r\n",
        "\r\n",
        "    all_metrics = []\r\n",
        "    results_experiment = {}\r\n",
        "    # Loop through each set of hyperparameters\r\n",
        "    for params in samples:\r\n",
        "        # Recreate a dict format for parameters\r\n",
        "        hyperparameters = {key: val for key, val in zip(keys, params)}\r\n",
        "\r\n",
        "        # Vectorize data\r\n",
        "        if hyperparameters['use_idf']:\r\n",
        "            # If use_idf is true tf needs to be true\r\n",
        "            hyperparameters['tf'] = True\r\n",
        "\r\n",
        "        v = Vectorizer(hyperparameters, stop_words=stop_words)\r\n",
        "\r\n",
        "        # Create a split copy that you will further preprocess\r\n",
        "        splits_tune = []\r\n",
        "        for split in splits:\r\n",
        "            # Vectorize each split\r\n",
        "            splits_tune.append({'train': {'X': v.fit_transform(split['train']['X']).copy(),\r\n",
        "                                          'y': split['train']['y']},\r\n",
        "                                'val': {'X': v.transform(split['val']['X']).copy(),\r\n",
        "                                        'y': split['val']['y']}})\r\n",
        "            # Prepare data for input into model\r\n",
        "            if model_type is \"NaiveBayes\":\r\n",
        "                # Convert input into pandas sparse dataframe\r\n",
        "                splits_tune[-1]['train']['X'] = pd.DataFrame.sparse.from_spmatrix(splits_tune[-1]['train']['X'])\r\n",
        "                splits_tune[-1]['val']['X'] = pd.DataFrame.sparse.from_spmatrix(splits_tune[-1]['val']['X'])\r\n",
        "            elif model_type is \"LogisticRegression\":\r\n",
        "                # Convert input into pandas sparse dataframe\r\n",
        "                splits_tune[-1]['train']['X'] = pd.DataFrame.sparse.from_spmatrix(splits_tune[-1]['train']['X'])\r\n",
        "                splits_tune[-1]['val']['X'] = pd.DataFrame.sparse.from_spmatrix(splits_tune[-1]['val']['X'])\r\n",
        "            else:\r\n",
        "                raise NotImplementedError\r\n",
        "\r\n",
        "        # initialize model\r\n",
        "        start = time.time()\r\n",
        "        model = eval(model_type)(hyperparameters, n_classes=n_classes)\r\n",
        "\r\n",
        "        all_metrics.append(kfoldCV(splits_tune, model))\r\n",
        "\r\n",
        "        # Print metric\r\n",
        "        if verbose:\r\n",
        "          print(\"\\nHyperparameters:\")\r\n",
        "          print(hyperparameters)\r\n",
        "          print(\"Accuracy: \" + str(all_metrics[-1]) + \"\\n\")\r\n",
        "          results_experiment[\", \".join(\"=\".join((str(k),str(v))) for k,v in hyperparameters.items())]= all_metrics[-1]\r\n",
        "\r\n",
        "    best_samples = samples[np.argmax(all_metrics)]\r\n",
        "    # Recreate a dict format for parameters\r\n",
        "    best_params = {key: val for key, val in zip(keys, best_samples)}\r\n",
        "    best_metric = np.max(all_metrics)\r\n",
        "\r\n",
        "    if verbose:\r\n",
        "      pd.DataFrame(results_experiment.items()).to_excel(\"output_\"+model_type+\".xlsx\")\r\n",
        "    print('Best hyperparameters ' + model_type + ':')\r\n",
        "    print(best_params)\r\n",
        "    print('Best average validation metric ' + model_type + ': ' + str(best_metric))\r\n",
        "\r\n",
        "    return best_params, best_metric"
      ],
      "execution_count": null,
      "outputs": []
    },
    {
      "cell_type": "markdown",
      "metadata": {
        "id": "HAZVwThpl7m9"
      },
      "source": [
        "Set random seed for reproduceability"
      ]
    },
    {
      "cell_type": "code",
      "metadata": {
        "id": "5B0nKFcYl7VV"
      },
      "source": [
        "# Set random seed\r\n",
        "RAND = 0\r\n",
        "random.seed(RAND)"
      ],
      "execution_count": null,
      "outputs": []
    },
    {
      "cell_type": "markdown",
      "metadata": {
        "id": "xnF_RzGcNVE6"
      },
      "source": [
        "# Experiment 1: Optimizing both models on both datasets using RandomSearch and comparing best performance"
      ]
    },
    {
      "cell_type": "code",
      "metadata": {
        "id": "VIFpvpO2O-GG"
      },
      "source": [
        "# Load hyperparameters for logistic regression\r\n",
        "hyperparameters_lr = {\r\n",
        "    'max_df': (0.2, 0.35, 0.5, 0.75),\r\n",
        "    'min_df': (2, 5, 7, 10),\r\n",
        "    'use_idf': (False,True),\r\n",
        "    'ngram_range': ((1, 1),),\r\n",
        "    'tf': (False,True),\r\n",
        "    \"max_iters\": (100,),\r\n",
        "    \"learning_rate\": (0.1, 0.01, 0.001, 0.0001),\r\n",
        "    \"regularization\": (\"l1\",\"l2\"),\r\n",
        "    \"reg_constant\": (0,0.1,0.5,0.9)\r\n",
        "}\r\n",
        "\r\n",
        " # Load hyperparameters for NaiveBayes\r\n",
        "hyperparameters_nb = {\r\n",
        "    'max_df': (0.2, 0.35, 0.5, 0.75),\r\n",
        "    'min_df': (2, 5, 7, 10),\r\n",
        "    'use_idf': (False,True),\r\n",
        "    'ngram_range': ((1, 1),),\r\n",
        "    'tf': (False,True),\r\n",
        "    'alpha': (0, 0.15, 0.5, 0.75, 0.9, 1)\r\n",
        " }\r\n",
        "\r\n",
        "# Use the following format if you just want to run the one set of hyperparameters for each model:\r\n",
        "#hyperparameters_nb = {'max_df': (0.2,), 'min_df': (2,), 'use_idf': (True,), 'ngram_range': ((2, 2),), 'tf': (True,), 'alpha': (0.5,)}\r\n",
        "#hyperparameters_lr = {'max_df': (0.2,), 'min_df': (10,), 'use_idf': (False,), 'ngram_range': ((1, 1),), 'tf': (False,), 'max_iters': (100,), 'learning_rate': (0.1,), 'regularization': ('l2',), 'reg_constant': (0,)}"
      ],
      "execution_count": null,
      "outputs": []
    },
    {
      "cell_type": "markdown",
      "metadata": {
        "id": "YQv52lUZmGB1"
      },
      "source": [
        "Train on 20news group dataset:"
      ]
    },
    {
      "cell_type": "code",
      "metadata": {
        "id": "QNLJZez_opVT",
        "colab": {
          "base_uri": "https://localhost:8080/"
        },
        "outputId": "86fe498d-54c0-4a57-d046-41e77953f615"
      },
      "source": [
        "# 20newsgroup dataset\r\n",
        "\r\n",
        "# Load 20newsgroups\r\n",
        "train_news = fetch_20newsgroups(subset='train', remove=(['headers', 'footers', 'quotes']))\r\n",
        "test_news = fetch_20newsgroups(subset='test', remove=(['headers', 'footers', 'quotes']))\r\n",
        "\r\n",
        "cp_news = CorpusPreproc(lemmatizer=True,\r\n",
        "                        remove_stopwords=True,\r\n",
        "                        remove_punc=True)\r\n",
        "\r\n",
        "# Preprocess train set\r\n",
        "X_news_train = cp_news.preproc(train_news.data)\r\n",
        "y_news_train = np.array(train_news.target)\r\n",
        "n_classes = np.unique(y_news_train).shape[0]\r\n",
        "\r\n",
        "# Load K-fold splits\r\n",
        "news_splits = cross_validation_split(X_news_train, y_news_train, stratify=y_news_train, K=5)\r\n",
        "\r\n",
        "# ---- Tune for hyperparameters NAIVE BAYES ----\r\n",
        "print(\"Tuning NAIVE BAYES on 20NEWSGROUP:\")\r\n",
        "samples, keys = random_search(hyperparameters_nb, n_samples=50, RAND=RAND)\r\n",
        "best_params, best_metric = tuning_loop(news_splits, samples, keys, model_type='NaiveBayes', n_classes=n_classes, verbose=True)\r\n",
        "\r\n",
        "# Final test set using best hyperparameters\r\n",
        "# Preprocess test set\r\n",
        "X_news_test = cp_news.preproc(test_news.data)\r\n",
        "y_news_test = np.array(test_news.target)\r\n",
        "\r\n",
        "# Vectorize data\r\n",
        "if best_params['use_idf']:\r\n",
        "    # If use_idf is true tf needs to be true\r\n",
        "    best_params['tf'] = True\r\n",
        "\r\n",
        "v = Vectorizer(best_params)\r\n",
        "X_news_train = pd.DataFrame.sparse.from_spmatrix(v.fit_transform(X_news_train))\r\n",
        "X_news_test = pd.DataFrame.sparse.from_spmatrix(v.transform(X_news_test))\r\n",
        "\r\n",
        "# initialize model\r\n",
        "model = NaiveBayes(best_params, n_classes=n_classes)\r\n",
        "\r\n",
        "# Train and test\r\n",
        "model.fit(X_news_train, y_news_train)\r\n",
        "y_pred = model.predict(X_news_test)\r\n",
        "test_acc = model.evaluate_acc(y_news_test, y_pred)\r\n",
        "print('Test accuracy using best hyperparameters NAIVE BAYES on 20NEWSGROUP: ' + str(test_acc))\r\n",
        "\r\n"
      ],
      "execution_count": null,
      "outputs": [
        {
          "output_type": "stream",
          "text": [
            "Tuning NAIVE BAYES on 20NEWSGROUP:\n",
            "<class 'pandas.core.frame.DataFrame'>\n",
            "<class 'pandas.core.frame.DataFrame'>\n",
            "<class 'pandas.core.frame.DataFrame'>\n",
            "\n",
            "Hyperparameters:\n",
            "{'max_df': 0.5, 'min_df': 2, 'use_idf': False, 'ngram_range': (1, 1), 'tf': False, 'alpha': 1}\n",
            "Accuracy: 0.6758891302957336\n",
            "\n",
            "<class 'pandas.core.frame.DataFrame'>\n",
            "<class 'pandas.core.frame.DataFrame'>\n",
            "<class 'pandas.core.frame.DataFrame'>\n",
            "\n",
            "Hyperparameters:\n",
            "{'max_df': 0.5, 'min_df': 2, 'use_idf': True, 'ngram_range': (1, 1), 'tf': True, 'alpha': 1}\n",
            "Accuracy: 0.702670002845487\n",
            "\n",
            "Best hyperparameters NaiveBayes:\n",
            "{'max_df': 0.5, 'min_df': 2, 'use_idf': True, 'ngram_range': (1, 1), 'tf': True, 'alpha': 1}\n",
            "Best average validation metric NaiveBayes: 0.702670002845487\n",
            "<class 'pandas.core.frame.DataFrame'>\n",
            "Test accuracy using best hyperparameters NAIVE BAYES on 20NEWSGROUP: 0.6688794476898566\n"
          ],
          "name": "stdout"
        }
      ]
    },
    {
      "cell_type": "code",
      "metadata": {
        "colab": {
          "base_uri": "https://localhost:8080/"
        },
        "id": "Jm71a6_HmreW",
        "outputId": "488f9a1e-096c-41d6-c468-33490af7827b"
      },
      "source": [
        "# ---- Tune for hyperparameters LOGISTIC REGRESSION ----\r\n",
        "print(\"Tuning LOGISTIC REGRESSION on 20NEWSGROUP:\")\r\n",
        "samples, keys = random_search(hyperparameters_lr, n_samples=40, RAND=RAND)\r\n",
        "best_params, best_metric = tuning_loop(news_splits, samples, keys, model_type='LogisticRegression', n_classes=n_classes, verbose=True)\r\n",
        "\r\n",
        "# Final test set using best hyperparameters\r\n",
        "# initialize model\r\n",
        "model = LogisticRegression(best_params, n_classes=n_classes)\r\n",
        "\r\n",
        "# Train and test\r\n",
        "model.fit(X_news_train, y_news_train)\r\n",
        "y_pred = model.predict(X_news_test)\r\n",
        "test_acc = model.evaluate_acc(y_news_test, y_pred)\r\n",
        "print('Test accuracy using best hyperparameters LOGISTIC REGRESSION on 20NEWSGROUP: ' + str(test_acc))"
      ],
      "execution_count": null,
      "outputs": [
        {
          "output_type": "stream",
          "text": [
            "Tuning LOGISTIC REGRESSION on 20NEWSGROUP:\n",
            "\n",
            "Hyperparameters:\n",
            "{'max_df': 0.75, 'min_df': 2, 'use_idf': False, 'ngram_range': (1, 1), 'tf': True, 'max_iters': 100, 'learning_rate': 0.01, 'regularization': 'l1', 'reg_constant': 0.1}\n",
            "Accuracy: 0.4733203701421562\n",
            "\n",
            "\n",
            "Hyperparameters:\n",
            "{'max_df': 0.75, 'min_df': 5, 'use_idf': False, 'ngram_range': (1, 1), 'tf': True, 'max_iters': 100, 'learning_rate': 0.0001, 'regularization': 'l1', 'reg_constant': 0.5}\n",
            "Accuracy: 0.4478518073344539\n",
            "\n",
            "Best hyperparameters LogisticRegression:\n",
            "{'max_df': 0.75, 'min_df': 2, 'use_idf': False, 'ngram_range': (1, 1), 'tf': True, 'max_iters': 100, 'learning_rate': 0.01, 'regularization': 'l1', 'reg_constant': 0.1}\n",
            "Best average validation metric LogisticRegression: 0.4733203701421562\n",
            "Test accuracy using best hyperparameters LOGISTIC REGRESSION on 20NEWSGROUP: 0.3903345724907063\n"
          ],
          "name": "stdout"
        }
      ]
    },
    {
      "cell_type": "code",
      "metadata": {
        "colab": {
          "base_uri": "https://localhost:8080/"
        },
        "id": "BLUTFr1b3L4z",
        "outputId": "7996e4a3-ba06-4e7d-bec8-5da82a4e9227"
      },
      "source": [
        "import tarfile\r\n",
        "# Uncompress the tar.gz dataset\r\n",
        "tar = tarfile.open('aclImdb_v1.tar.gz', \"r:gz\")\r\n",
        "tar.extractall()\r\n",
        "tar.close()\r\n",
        "\r\n",
        "# Imdb sentiment dataset\r\n",
        "\r\n",
        "# Load imdb dataset\r\n",
        "train_imdb, test_imdb = load_imdb(data_path='', label_type='binary')\r\n",
        "\r\n",
        "cp_imdb = CorpusPreproc(lemmatizer=True,\r\n",
        "                        remove_stopwords=True,\r\n",
        "                        remove_punc=True)\r\n",
        "\r\n",
        "# Preprocess train set\r\n",
        "X_imdb_train = cp_imdb.preproc(train_imdb['data'])\r\n",
        "y_imdb_train = np.array(train_imdb['target'])\r\n",
        "n_classes = np.unique(y_imdb_train).shape[0]\r\n",
        "\r\n",
        "# Load K-fold splits\r\n",
        "imdb_splits = cross_validation_split(X_imdb_train, y_imdb_train, stratify=y_imdb_train, K=5)\r\n",
        "\r\n",
        "# ---- Tune for hyperparameters NAIVE BAYES ----\r\n",
        "print(\"Tuning NAIVE BAYES on IMDB:\")\r\n",
        "samples, keys = random_search(hyperparameters_nb, n_samples=3, RAND=RAND)\r\n",
        "best_params, best_metric = tuning_loop(imdb_splits, samples, keys, model_type='NaiveBayes', n_classes=n_classes, verbose=True)\r\n",
        "\r\n",
        "# Final test set using best hyperparameters\r\n",
        "\r\n",
        "# Preprocess test set\r\n",
        "X_imdb_test = cp_imdb.preproc(test_imdb['data'])\r\n",
        "y_imdb_test = np.array(test_imdb['target'])\r\n",
        "\r\n",
        "# Vectorize data\r\n",
        "if best_params['use_idf']:\r\n",
        "    # If use_idf is true tf needs to be true\r\n",
        "    best_params['tf'] = True\r\n",
        "\r\n",
        "v = Vectorizer(best_params)\r\n",
        "X_imdb_train = pd.DataFrame.sparse.from_spmatrix(v.fit_transform(X_imdb_train))\r\n",
        "X_imdb_test = pd.DataFrame.sparse.from_spmatrix(v.transform(X_imdb_test))\r\n",
        "\r\n",
        "# initialize model\r\n",
        "model = NaiveBayes(best_params, n_classes=n_classes)\r\n",
        "\r\n",
        "# Train and test\r\n",
        "model.fit(X_imdb_train, y_imdb_train)\r\n",
        "y_pred = model.predict(X_imdb_test)\r\n",
        "test_acc = model.evaluate_acc(y_imdb_test, y_pred)\r\n",
        "print('Test accuracy using best hyperparameters NAIVE BAYES on IMDB: ' + str(test_acc))\r\n"
      ],
      "execution_count": null,
      "outputs": [
        {
          "output_type": "stream",
          "text": [
            "Tuning NAIVE BAYES on IMDB:\n",
            "\n",
            "Hyperparameters:\n",
            "{'max_df': 0.5, 'min_df': 2, 'use_idf': False, 'ngram_range': (1, 1), 'tf': False, 'alpha': 1}\n",
            "Accuracy: 0.857319950169709\n",
            "\n",
            "\n",
            "Hyperparameters:\n",
            "{'max_df': 0.5, 'min_df': 2, 'use_idf': True, 'ngram_range': (1, 1), 'tf': True, 'alpha': 1}\n",
            "Accuracy: 0.8618798926234725\n",
            "\n",
            "\n",
            "Hyperparameters:\n",
            "{'max_df': 0.2, 'min_df': 2, 'use_idf': True, 'ngram_range': (1, 1), 'tf': True, 'alpha': 0.5}\n",
            "Accuracy: 0.860279790194797\n",
            "\n",
            "Best hyperparameters NaiveBayes:\n",
            "{'max_df': 0.5, 'min_df': 2, 'use_idf': True, 'ngram_range': (1, 1), 'tf': True, 'alpha': 1}\n",
            "Best average validation metric NaiveBayes: 0.8618798926234725\n",
            "Test accuracy using best hyperparameters NAIVE BAYES on IMDB: 0.82616\n"
          ],
          "name": "stdout"
        }
      ]
    },
    {
      "cell_type": "code",
      "metadata": {
        "colab": {
          "base_uri": "https://localhost:8080/"
        },
        "id": "AAM2dFhT6pQb",
        "outputId": "9683593c-b6dc-4700-87f5-c57bf420dab7"
      },
      "source": [
        "\r\n",
        "# ---- Tune for hyperparameters LOGISTIC REGRESSION ----\r\n",
        "print(\"Tuning LOGISTIC REGRESSION:\")\r\n",
        "samples, keys = random_search(hyperparameters_lr, n_samples=40, RAND=RAND)\r\n",
        "best_params, best_metric = tuning_loop(imdb_splits, samples, keys, model_type='LogisticRegression', n_classes=n_classes, verbose=True)\r\n",
        "\r\n",
        "# Final test set using best hyperparameters\r\n",
        "# initialize model\r\n",
        "model = LogisticRegression(best_params, n_classes=n_classes)\r\n",
        "\r\n",
        "# Train and test\r\n",
        "model.fit(X_imdb_train, y_imdb_train)\r\n",
        "y_pred = model.predict(X_imdb_test)\r\n",
        "test_acc = model.evaluate_acc(y_imdb_test, y_pred)\r\n",
        "print('Test accuracy using best hyperparameters LOGISTIC REGRESSION on IMDB: ' + str(test_acc))"
      ],
      "execution_count": null,
      "outputs": [
        {
          "output_type": "stream",
          "text": [
            "Tuning LOGISTIC REGRESSION:\n",
            "\n",
            "Hyperparameters:\n",
            "{'max_df': 0.75, 'min_df': 2, 'use_idf': False, 'ngram_range': (1, 1), 'tf': True, 'max_iters': 100, 'learning_rate': 0.01, 'regularization': 'l1', 'reg_constant': 0.1}\n",
            "Accuracy: 0.569360096895561\n",
            "\n",
            "\n",
            "Hyperparameters:\n",
            "{'max_df': 0.75, 'min_df': 5, 'use_idf': False, 'ngram_range': (1, 1), 'tf': True, 'max_iters': 100, 'learning_rate': 0.0001, 'regularization': 'l1', 'reg_constant': 0.5}\n",
            "Accuracy: 0.7740399203013352\n",
            "\n",
            "Best hyperparameters LogisticRegression:\n",
            "{'max_df': 0.75, 'min_df': 5, 'use_idf': False, 'ngram_range': (1, 1), 'tf': True, 'max_iters': 100, 'learning_rate': 0.0001, 'regularization': 'l1', 'reg_constant': 0.5}\n",
            "Best average validation metric LogisticRegression: 0.7740399203013352\n",
            "Test accuracy using best hyperparameters LOGISTIC REGRESSION on IMDB: 0.82844\n"
          ],
          "name": "stdout"
        }
      ]
    },
    {
      "cell_type": "markdown",
      "metadata": {
        "id": "TTPpA9OhYIJk"
      },
      "source": [
        "### SelectKBest **example**"
      ]
    },
    {
      "cell_type": "code",
      "metadata": {
        "id": "fxeGH8iBYHi6"
      },
      "source": [
        "'''\r\n",
        "# 20newsgroup dataset\r\n",
        "\r\n",
        "# Load 20newsgroups\r\n",
        "train_news = fetch_20newsgroups(subset='train', remove=(['headers', 'footers', 'quotes']))\r\n",
        "test_news = fetch_20newsgroups(subset='test', remove=(['headers', 'footers', 'quotes']))\r\n",
        "\r\n",
        "cp_news = CorpusPreproc(lemmatizer=True,\r\n",
        "                        remove_stopwords=True,\r\n",
        "                        remove_punc=True)\r\n",
        "\r\n",
        "# Preprocess train set\r\n",
        "X_news_train = cp_news.preproc(train_news.data)\r\n",
        "y_news_train = np.array(train_news.target)\r\n",
        "n_classes = np.unique(y_news_train).shape[0]\r\n",
        "\r\n",
        "# Load K-fold splits\r\n",
        "news_splits = cross_validation_split(X_news_train, y_news_train, stratify=y_news_train, K=5)\r\n",
        "\r\n",
        "# ---- Tune for hyperparameters NAIVE BAYES ----\r\n",
        "print(\"Tuning NAIVE BAYES on 20NEWSGROUP:\")\r\n",
        "print(\"k: \", 20000)\r\n",
        "from sklearn.feature_selection import SelectKBest, chi2, f_regression\r\n",
        "selector=SelectKBest(score_func=chi2,k=15000)\r\n",
        "samples, keys = random_search(hyperparameters_nb, n_samples=1, RAND=RAND)\r\n",
        "best_params, best_metric, selector = tuning_loop(news_splits, samples, keys, selector, model_type='NaiveBayes', n_classes=n_classes, verbose=True)\r\n",
        "\r\n",
        "# Final test set using best hyperparameters\r\n",
        "# Preprocess test set\r\n",
        "X_news_test = cp_news.preproc(test_news.data)\r\n",
        "y_news_test = np.array(test_news.target)\r\n",
        "\r\n",
        "# Vectorize data\r\n",
        "if best_params['use_idf']:\r\n",
        "    # If use_idf is true tf needs to be true\r\n",
        "    best_params['tf'] = True\r\n",
        "\r\n",
        "v = Vectorizer(best_params)\r\n",
        "X_news_train = pd.DataFrame.sparse.from_spmatrix(v.fit_transform(X_news_train))\r\n",
        "X_news_test = pd.DataFrame.sparse.from_spmatrix(v.transform(X_news_test))\r\n",
        "print(X_news_train.shape)\r\n",
        "X_news_train=pd.DataFrame( selector.fit_transform(X_news_train,y_news_train) )\r\n",
        "X_news_test=pd.DataFrame( selector.transform(X_news_test) )\r\n",
        "\r\n",
        "# initialize model\r\n",
        "model = NaiveBayes(best_params, n_classes=n_classes)\r\n",
        "\r\n",
        "# Train and test\r\n",
        "model.fit(X_news_train, y_news_train)\r\n",
        "y_pred = model.predict(X_news_test)\r\n",
        "test_acc = model.evaluate_acc(y_news_test, y_pred)\r\n",
        "print('Test accuracy using best hyperparameters NAIVE BAYES on 20NEWSGROUP: ' + str(test_acc))'''"
      ],
      "execution_count": null,
      "outputs": []
    },
    {
      "cell_type": "markdown",
      "metadata": {
        "id": "D2wskRqLH-OE"
      },
      "source": [
        "## **Experiment 2: Train dataset size versus accuracy**"
      ]
    },
    {
      "cell_type": "code",
      "metadata": {
        "colab": {
          "base_uri": "https://localhost:8080/"
        },
        "id": "ucNSMyFBGtw8",
        "outputId": "6769a70d-6b94-4e56-b54d-9ae65c327d81"
      },
      "source": [
        " # Load 20newsgroups\r\n",
        "\r\n",
        "train_news = fetch_20newsgroups(subset='train', remove=(['headers', 'footers', 'quotes']))\r\n",
        "test_news = fetch_20newsgroups(subset='test', remove=(['headers', 'footers', 'quotes']))\r\n",
        "\r\n",
        "cp_news = CorpusPreproc(lemmatizer=True,\r\n",
        "                        remove_stopwords=True,\r\n",
        "                        remove_punc=True)\r\n",
        "\r\n",
        "# Preprocess train set\r\n",
        "X_train = cp_news.preproc(train_news.data)\r\n",
        "y_train = np.array(train_news.target)\r\n",
        "n_classes = np.unique(y_train).shape[0]\r\n",
        "\r\n",
        "# Preprocess test set\r\n",
        "X_test = cp_news.preproc(test_news.data)\r\n",
        "y_test = np.array(test_news.target)\r\n",
        "\r\n",
        "dataset = '20newsgroups'\r\n",
        "\r\n",
        "v = Vectorizer({\"max_df\":0.2, \"min_df\":5, \"use_idf\":True, \"ngram_range\":(1, 1), \"tf\":True})\r\n",
        "X_train1 = pd.DataFrame.sparse.from_spmatrix(v.fit_transform(X_train))\r\n",
        "X_test1 = pd.DataFrame.sparse.from_spmatrix(v.transform(X_test))\r\n",
        "\r\n",
        "model = NaiveBayes({\"alpha\": 0.15}, n_classes=n_classes)\r\n",
        "\r\n",
        "# Train and test\r\n",
        "print('training fit:')\r\n",
        "model.fit(X_train1, y_train)\r\n",
        "y_pred = model.predict(X_train1)\r\n",
        "train_acc = model.evaluate_acc(y_train, y_pred)\r\n",
        "print('Train accuracy using best hyperparameters NAIVE BAYES on '+dataset+\": \" + str(train_acc))\r\n",
        "y_pred = model.predict(X_test1)\r\n",
        "test_acc = model.evaluate_acc(y_test, y_pred)\r\n",
        "print('Test accuracy using best hyperparameters NAIVE BAYES on  '+dataset+\": \" + str(test_acc))"
      ],
      "execution_count": null,
      "outputs": [
        {
          "output_type": "stream",
          "text": [
            "training fit:\n",
            "Train accuracy using best hyperparameters NAIVE BAYES on 20newsgroups: 0.9063991514937246\n",
            "Test accuracy using best hyperparameters NAIVE BAYES on  20newsgroups: 0.695432819968136\n"
          ],
          "name": "stdout"
        }
      ]
    },
    {
      "cell_type": "code",
      "metadata": {
        "colab": {
          "base_uri": "https://localhost:8080/"
        },
        "id": "o_UOh5P7HABC",
        "outputId": "56eb9c10-d7df-434c-bab0-f06c92902fa3"
      },
      "source": [
        "list_prop = [0.2,0.4,0.6,0.8,1]\r\n",
        "for prop in list_prop:\r\n",
        "  # Get classes for stratified sampling\r\n",
        "  classes = np.unique(y_train)\r\n",
        "  # Get index for each class\r\n",
        "  i_targets = []\r\n",
        "  indexes = []\r\n",
        "  i =0\r\n",
        "  x_temp = []\r\n",
        "  y_temp = [] \r\n",
        "  for c in classes:\r\n",
        "    i_c = np.asarray(y_train == c).nonzero()[0]\r\n",
        "    i_targets.append(i_c)\r\n",
        "    val_i = random.sample(range(0, len(i_targets[c])), int(prop*len(i_targets[c])))\r\n",
        "    x_temp.append(X_train1[y_train == c].iloc[val_i])\r\n",
        "    y_temp.append(y_train[y_train == c][val_i])\r\n",
        "\r\n",
        "  X_train_prop = pd.DataFrame(np.concatenate(x_temp))\r\n",
        "  y_train_prop = np.concatenate(y_temp)\r\n",
        "  print(X_train_prop.shape)\r\n",
        "  print(y_train_prop.shape)\r\n",
        "  # initialize model\r\n",
        "  model = NaiveBayes({\"alpha\": 0.15}, n_classes=n_classes)\r\n",
        "\r\n",
        "  # Train and test\r\n",
        "  print('training fit:')\r\n",
        "  model.fit(X_train_prop, y_train_prop)\r\n",
        "  y_pred = model.predict(X_train_prop)\r\n",
        "  train_acc = model.evaluate_acc(y_train_prop, y_pred)\r\n",
        "  print('Train accuracy using best hyperparameters NAIVE BAYES on '+dataset+\" \"+ str(prop)+\" \"+str(train_acc))\r\n",
        "  y_pred = model.predict(X_test1)\r\n",
        "  test_acc = model.evaluate_acc(y_test, y_pred)\r\n",
        "  print('Test accuracy using best hyperparameters NAIVE BAYES on  '+dataset+\" \"+ str(prop)+\" \"+str(test_acc))"
      ],
      "execution_count": null,
      "outputs": [
        {
          "output_type": "stream",
          "text": [
            "(2255, 15542)\n",
            "(2255,)\n",
            "training fit:\n",
            "Train accuracy using best hyperparameters NAIVE BAYES on 20newsgroups 0.2 0.9569844789356985\n",
            "Test accuracy using best hyperparameters NAIVE BAYES on  20newsgroups 0.2 0.6236059479553904\n",
            "(4519, 15542)\n",
            "(4519,)\n",
            "training fit:\n",
            "Train accuracy using best hyperparameters NAIVE BAYES on 20newsgroups 0.4 0.9349413587076787\n",
            "Test accuracy using best hyperparameters NAIVE BAYES on  20newsgroups 0.4 0.6668879447689856\n",
            "(6781, 15542)\n",
            "(6781,)\n",
            "training fit:\n",
            "Train accuracy using best hyperparameters NAIVE BAYES on 20newsgroups 0.6 0.9286240967408936\n",
            "Test accuracy using best hyperparameters NAIVE BAYES on  20newsgroups 0.6 0.6789697291556027\n",
            "(9045, 15542)\n",
            "(9045,)\n",
            "training fit:\n",
            "Train accuracy using best hyperparameters NAIVE BAYES on 20newsgroups 0.8 0.9156440022111664\n",
            "Test accuracy using best hyperparameters NAIVE BAYES on  20newsgroups 0.8 0.693441317047265\n",
            "(11314, 15542)\n",
            "(11314,)\n",
            "training fit:\n",
            "Train accuracy using best hyperparameters NAIVE BAYES on 20newsgroups 1 0.9063991514937246\n",
            "Test accuracy using best hyperparameters NAIVE BAYES on  20newsgroups 1 0.695432819968136\n"
          ],
          "name": "stdout"
        }
      ]
    },
    {
      "cell_type": "code",
      "metadata": {
        "colab": {
          "base_uri": "https://localhost:8080/"
        },
        "id": "g7BRUp9dG_yc",
        "outputId": "7be77994-a322-48d9-bc7d-9e020de256e3"
      },
      "source": [
        "# Load IMDB\r\n",
        "import tarfile\r\n",
        "print(\"start\")\r\n",
        "# Uncompress the tar.gz dataset\r\n",
        "tar = tarfile.open('aclImdb_v1.tar.gz', \"r:gz\")\r\n",
        "tar.extractall()\r\n",
        "tar.close()\r\n",
        "\r\n",
        "# Imdb sentiment dataset\r\n",
        "# Load imdb dataset\r\n",
        "train_imdb, test_imdb = load_imdb(data_path='', label_type='binary')\r\n",
        "\r\n",
        "cp_imdb = CorpusPreproc(lemmatizer=True,\r\n",
        "                        remove_stopwords=True,\r\n",
        "                        remove_punc=True)\r\n",
        "# Preprocess train set\r\n",
        "X_train = cp_imdb.preproc(train_imdb['data'])\r\n",
        "y_train = np.array(train_imdb['target'])\r\n",
        "n_classes = np.unique(y_train).shape[0]\r\n",
        "# Preprocess test set\r\n",
        "X_test = cp_imdb.preproc(test_imdb['data'])\r\n",
        "y_test = np.array(test_imdb['target'])\r\n",
        "print(\"end\")\r\n"
      ],
      "execution_count": null,
      "outputs": [
        {
          "output_type": "stream",
          "text": [
            "start\n",
            "end\n"
          ],
          "name": "stdout"
        }
      ]
    },
    {
      "cell_type": "code",
      "metadata": {
        "colab": {
          "base_uri": "https://localhost:8080/"
        },
        "id": "Rv_lRr9pK0ZE",
        "outputId": "a3edaef7-b9e4-4a9b-c4c9-859ae9096655"
      },
      "source": [
        "dataset = 'IMDB'\r\n",
        "\r\n",
        "v = Vectorizer({\"max_df\":0.35, \"min_df\":2, \"use_idf\":False, \"ngram_range\":(1, 1), \"tf\":True})\r\n",
        "X_train1 = pd.DataFrame.sparse.from_spmatrix(v.fit_transform(X_train))\r\n",
        "X_test1 = pd.DataFrame.sparse.from_spmatrix(v.transform(X_test))\r\n",
        "\r\n",
        "\r\n",
        "model = NaiveBayes({\"alpha\": 0.5}, n_classes=n_classes)\r\n",
        "\r\n",
        "  # Train and test\r\n",
        "print('training fit:')\r\n",
        "model.fit(X_train1, y_train)\r\n",
        "y_pred = model.predict(X_train1)\r\n",
        "train_acc = model.evaluate_acc(y_train, y_pred)\r\n",
        "print('Train accuracy using best hyperparameters NAIVE BAYES on '+dataset+\": \" + str(train_acc))\r\n",
        "y_pred = model.predict(X_test1)\r\n",
        "test_acc = model.evaluate_acc(y_test, y_pred)\r\n",
        "print('Test accuracy using best hyperparameters NAIVE BAYES on  '+dataset+\": \" + str(test_acc))"
      ],
      "execution_count": null,
      "outputs": [
        {
          "output_type": "stream",
          "text": [
            "training fit:\n",
            "Train accuracy using best hyperparameters NAIVE BAYES on IMDB: 0.89552\n",
            "Test accuracy using best hyperparameters NAIVE BAYES on  IMDB: 0.84236\n"
          ],
          "name": "stdout"
        }
      ]
    },
    {
      "cell_type": "code",
      "metadata": {
        "colab": {
          "base_uri": "https://localhost:8080/"
        },
        "id": "xenUgKx6K0V9",
        "outputId": "5c741ba9-2331-4c7d-fe56-87d2cba7e6ea"
      },
      "source": [
        "list_prop = [0.2,0.4,0.6,0.8,1]\r\n",
        "for prop in list_prop:\r\n",
        "  # Get classes for stratified sampling\r\n",
        "  classes = np.unique(y_train)\r\n",
        "  # Get index for each class\r\n",
        "  i_targets = []\r\n",
        "  indexes = []\r\n",
        "  i =0\r\n",
        "  x_temp = []\r\n",
        "  y_temp = [] \r\n",
        "  for c in classes:\r\n",
        "    i_c = np.asarray(y_train == c).nonzero()[0]\r\n",
        "    i_targets.append(i_c)\r\n",
        "    val_i = random.sample(range(0, len(i_targets[c])), int(prop*len(i_targets[c])))\r\n",
        "    x_temp.append(X_train1[y_train == c].iloc[val_i])\r\n",
        "    y_temp.append(y_train[y_train == c][val_i])\r\n",
        "\r\n",
        "  X_train_prop = pd.DataFrame(np.concatenate(x_temp))\r\n",
        "  y_train_prop = np.concatenate(y_temp)\r\n",
        "  print(X_train_prop.shape)\r\n",
        "  print(y_train_prop.shape)\r\n",
        "  # initialize model\r\n",
        "  model = NaiveBayes({\"alpha\": 0.5}, n_classes=n_classes)\r\n",
        "\r\n",
        "  # Train and test\r\n",
        "  print('training fit:')\r\n",
        "  model.fit(X_train_prop, y_train_prop)\r\n",
        "  y_pred = model.predict(X_train_prop)\r\n",
        "  train_acc = model.evaluate_acc(y_train_prop, y_pred)\r\n",
        "  print('Train accuracy using best hyperparameters NAIVE BAYES on '+dataset+\" \"+ str(prop)+\" \"+str(train_acc))\r\n",
        "  y_pred = model.predict(X_test1)\r\n",
        "  test_acc = model.evaluate_acc(y_test, y_pred)\r\n",
        "  print('Test accuracy using best hyperparameters NAIVE BAYES on  '+dataset+\" \"+ str(prop)+\" \"+str(test_acc))"
      ],
      "execution_count": null,
      "outputs": [
        {
          "output_type": "stream",
          "text": [
            "(5000, 38490)\n",
            "(5000,)\n",
            "training fit:\n",
            "Train accuracy using best hyperparameters NAIVE BAYES on IMDB 0.2 0.9282\n",
            "Test accuracy using best hyperparameters NAIVE BAYES on  IMDB 0.2 0.84164\n",
            "(10000, 38490)\n",
            "(10000,)\n",
            "training fit:\n",
            "Train accuracy using best hyperparameters NAIVE BAYES on IMDB 0.4 0.9135\n",
            "Test accuracy using best hyperparameters NAIVE BAYES on  IMDB 0.4 0.83892\n",
            "(15000, 38490)\n",
            "(15000,)\n",
            "training fit:\n",
            "Train accuracy using best hyperparameters NAIVE BAYES on IMDB 0.6 0.9060666666666667\n",
            "Test accuracy using best hyperparameters NAIVE BAYES on  IMDB 0.6 0.84192\n",
            "(20000, 38490)\n",
            "(20000,)\n",
            "training fit:\n",
            "Train accuracy using best hyperparameters NAIVE BAYES on IMDB 0.8 0.8992\n",
            "Test accuracy using best hyperparameters NAIVE BAYES on  IMDB 0.8 0.84248\n",
            "(25000, 38490)\n",
            "(25000,)\n",
            "training fit:\n",
            "Train accuracy using best hyperparameters NAIVE BAYES on IMDB 1 0.89552\n",
            "Test accuracy using best hyperparameters NAIVE BAYES on  IMDB 1 0.84236\n"
          ],
          "name": "stdout"
        }
      ]
    },
    {
      "cell_type": "code",
      "metadata": {
        "id": "usNgymzkK0Sf"
      },
      "source": [
        "# Load 20newsgroups\r\n",
        "\r\n",
        "#dataset = '20newsgroups'\r\n",
        "#if dataset == '20newsgroups':\r\n",
        "train_news = fetch_20newsgroups(subset='train', remove=(['headers', 'footers', 'quotes']))\r\n",
        "test_news = fetch_20newsgroups(subset='test', remove=(['headers', 'footers', 'quotes']))\r\n",
        "\r\n",
        "cp_news = CorpusPreproc(lemmatizer=True,\r\n",
        "                        remove_stopwords=True,\r\n",
        "                        remove_punc=True)\r\n",
        "\r\n",
        "# Preprocess train set\r\n",
        "X_train = cp_news.preproc(train_news.data)\r\n",
        "y_train = np.array(train_news.target)\r\n",
        "n_classes = np.unique(y_train).shape[0]\r\n",
        "\r\n",
        "# Preprocess test set\r\n",
        "X_test = cp_news.preproc(test_news.data)\r\n",
        "y_test = np.array(test_news.target)"
      ],
      "execution_count": null,
      "outputs": []
    },
    {
      "cell_type": "code",
      "metadata": {
        "id": "v-sq5AB0K0Jf"
      },
      "source": [
        "dataset = '20newsgroups'\r\n",
        "\r\n",
        "v = Vectorizer({\"max_df\":0.75, \"min_df\":7, \"use_idf\":False, \"ngram_range\":(1, 1), \"tf\":False})\r\n",
        "X_train1 = pd.DataFrame.sparse.from_spmatrix(v.fit_transform(X_train))\r\n",
        "X_test1 = pd.DataFrame.sparse.from_spmatrix(v.transform(X_test))\r\n",
        "\r\n",
        "#from sklearn.feature_selection import SelectKBest, chi2, f_regression\r\n",
        "#selector=SelectKBest(score_func=chi2,k=100)\r\n",
        "#X_train=pd.DataFrame( selector.fit_transform(X_train,y_train) )\r\n",
        "#X_test=pd.DataFrame( selector.transform(X_test) )\r\n",
        "\r\n",
        "model =  LogisticRegression({\"max_iters\":100, \"learning_rate\":0.001, \"regularization\":'l2', 'reg_constant':0.1 }, n_classes=n_classes)\r\n",
        "\r\n",
        "  # Train and test\r\n",
        "print('training fit:')\r\n",
        "model.fit(X_train1, y_train)\r\n",
        "y_pred = model.predict(X_train1)\r\n",
        "train_acc = model.evaluate_acc(y_train, y_pred)\r\n",
        "print('Train accuracy using best hyperparameters logistic regression on '+dataset+\": \" + str(train_acc))\r\n",
        "y_pred = model.predict(X_test1)\r\n",
        "test_acc = model.evaluate_acc(y_test, y_pred)\r\n",
        "print('Test accuracy using best hyperparameters logistic regression on  '+dataset+\": \" + str(test_acc))"
      ],
      "execution_count": null,
      "outputs": []
    },
    {
      "cell_type": "code",
      "metadata": {
        "id": "zkR0vhnwMuIZ"
      },
      "source": [
        "list_prop = [0.2,0.4,0.6,0.8,1]\r\n",
        "for prop in list_prop:\r\n",
        "  # Get classes for stratified sampling\r\n",
        "  classes = np.unique(y_train)\r\n",
        "  # Get index for each class\r\n",
        "  i_targets = []\r\n",
        "  indexes = []\r\n",
        "  i =0\r\n",
        "  x_temp = []\r\n",
        "  y_temp = [] \r\n",
        "  for c in classes:\r\n",
        "    i_c = np.asarray(y_train == c).nonzero()[0]\r\n",
        "    i_targets.append(i_c)\r\n",
        "    val_i = random.sample(range(0, len(i_targets[c])), int(prop*len(i_targets[c])))\r\n",
        "    x_temp.append(X_train1[y_train == c].iloc[val_i])\r\n",
        "    y_temp.append(y_train[y_train == c][val_i])\r\n",
        "\r\n",
        "  X_train_prop = pd.DataFrame(np.concatenate(x_temp))\r\n",
        "  y_train_prop = np.concatenate(y_temp)\r\n",
        "  print(X_train_prop.shape)\r\n",
        "  print(y_train_prop.shape)\r\n",
        "  # initialize model\r\n",
        "  model = LogisticRegression({\"max_iters\":100, \"learning_rate\":0.001, \"regularization\":'l2', 'reg_constant':0.1 }, n_classes=n_classes)\r\n",
        "\r\n",
        "  # Train and test\r\n",
        "  print('training fit:')\r\n",
        "  model.fit(X_train_prop, y_train_prop)\r\n",
        "  y_pred = model.predict(X_train_prop)\r\n",
        "  train_acc = model.evaluate_acc(y_train_prop, y_pred)\r\n",
        "  print('Train accuracy using best hyperparameters Logistic regression on '+dataset+\" \"+ str(prop)+\" \"+str(train_acc))\r\n",
        "  y_pred = model.predict(X_test1)\r\n",
        "  test_acc = model.evaluate_acc(y_test, y_pred)\r\n",
        "  print('Test accuracy using best hyperparameters Logistic regression on  '+dataset+\" \"+ str(prop)+\" \"+str(test_acc))"
      ],
      "execution_count": null,
      "outputs": []
    },
    {
      "cell_type": "code",
      "metadata": {
        "colab": {
          "base_uri": "https://localhost:8080/",
          "height": 400
        },
        "id": "0OKxLwc9MyV1",
        "outputId": "882d8f40-7da4-4835-e097-b26ab27f5823"
      },
      "source": [
        "import numpy as np\r\n",
        "import matplotlib.pyplot as plt\r\n",
        "from matplotlib import style\r\n",
        "style.use('seaborn')\r\n",
        "\r\n",
        "x = [0.2,0.4,0.6,0.8]\r\n",
        "y1 = [0.6230, 0.6662, 0.6769, 0.6901 ]\r\n",
        "y2 = [0.8362, 0.8392, 0.8385, 0.8422 ]\r\n",
        "y3 =  [0.5311, 0.5817, 0.6065, 0.6221]\r\n",
        "y4 = [0.8346, 0.8419, 0.7919, 0.8567 ]\r\n",
        "fig, (ax1, ax2) = plt.subplots(1, 2)\r\n",
        "fig.suptitle('Test Accuracy vs Training Set Size',  fontsize=14)\r\n",
        "#plt.xlabel('Proportion of training used', fontsize=11) \r\n",
        "ax1.set_xlabel('Proportion of training set used', fontsize=10)\r\n",
        "ax2.set_xlabel('Proportion of training set used', fontsize=10)\r\n",
        "ax1.plot(x,y1,'bo-', label='20newsgroup', markersize=5, linewidth=0.6)\r\n",
        "ax1.plot(x,y2,'ko-', label='IMDB', markersize=5, linewidth=0.6)\r\n",
        "ax1.legend()\r\n",
        "ax1.set_title('Multinomial Naive Bayes')\r\n",
        "ax2.plot(x,y3,'bo-', label='20newsgroup', markersize=5, linewidth=0.6)\r\n",
        "ax2.plot(x,y4,'ko-', label='IMDB', markersize=5, linewidth=0.6)\r\n",
        "ax2.legend()\r\n",
        "ax2.set_title('Logistic Regression')\r\n",
        "plt.show()"
      ],
      "execution_count": null,
      "outputs": [
        {
          "output_type": "display_data",
          "data": {
            "image/png": "[encoded data removed]",
            "text/plain": [
              "<Figure size 576x396 with 2 Axes>"
            ]
          },
          "metadata": {
            "tags": []
          }
        }
      ]
    },
    {
      "cell_type": "markdown",
      "metadata": {
        "id": "OJSS9U4bosAx"
      },
      "source": [
        "### **Train on IMDb dataset with stopwords**"
      ]
    },
    {
      "cell_type": "code",
      "metadata": {
        "id": "iGNMJoUVViVb",
        "colab": {
          "base_uri": "https://localhost:8080/"
        },
        "outputId": "74b9e836-5da4-4fd6-f619-faec9876d8f3"
      },
      "source": [
        "# Use best hyperparameters for this experiment\r\n",
        "hyperparameters_nb = {'max_df': (0.35,), 'min_df': (2,), 'use_idf': (False,), 'ngram_range': ((1, 1),), 'tf': (True,), 'alpha': (0.5,)}\r\n",
        "hyperparameters_lr = {'max_df': (0.2,), 'min_df': (10,), 'use_idf': (False,), 'ngram_range': ((1, 1),), 'tf': (False,), 'max_iters': (100,), 'learning_rate': (0.1,), 'regularization': ('l2',), 'reg_constant': (0,)}\r\n",
        "\r\n",
        "import tarfile\r\n",
        "# Uncompress the tar.gz dataset\r\n",
        "tar = tarfile.open('aclImdb_v1.tar.gz', \"r:gz\")\r\n",
        "tar.extractall()\r\n",
        "tar.close()\r\n",
        "\r\n",
        "# Imdb sentiment dataset\r\n",
        "\r\n",
        "# Load imdb dataset\r\n",
        "train_imdb, test_imdb = load_imdb(data_path='', label_type='binary')\r\n",
        "\r\n",
        "cp_imdb = CorpusPreproc(lemmatizer=True,\r\n",
        "                        remove_stopwords=True,\r\n",
        "                        remove_punc=True)\r\n",
        "\r\n",
        "# Preprocess train set\r\n",
        "X_imdb_train = cp_imdb.preproc(train_imdb['data'])\r\n",
        "y_imdb_train = np.array(train_imdb['target'])\r\n",
        "n_classes = np.unique(y_imdb_train).shape[0]\r\n",
        "\r\n",
        "# Vectorize in url space so that you get counts for each url/movie rather than counts per review\r\n",
        "url_train = review_to_url(X_imdb_train, data_path='')\r\n",
        "# Identify the words that come up in only one url/movie\r\n",
        "v = Vectorizer({'max_df': 1, # This is the max number of movies in which a word has to be found to be called a stop_word\r\n",
        "                'min_df': 0.0,\r\n",
        "                'use_idf': False,\r\n",
        "                'ngram_range': (1, 1),\r\n",
        "                'tf': False})\r\n",
        "url_train = v.fit_transform(url_train)\r\n",
        "stop_words = v.get_feature_names() # Remove these from future vectorization by calling them stop-words\r\n",
        "\r\n",
        "# Load K-fold splits\r\n",
        "imdb_splits = cross_validation_split(X_imdb_train, y_imdb_train, stratify=y_imdb_train, K=5)\r\n",
        "\r\n",
        "# ---- Tune for hyperparameters NAIVE BAYES ----\r\n",
        "print(\"Tuning NAIVE BAYES on IMDB:\")\r\n",
        "samples, keys = random_search(hyperparameters_nb, n_samples=1, RAND=RAND)\r\n",
        "best_params, best_metric = tuning_loop(imdb_splits, samples, keys, model_type='NaiveBayes', n_classes=n_classes, stop_words=stop_words, verbose=True)\r\n",
        "\r\n",
        "# Final test set using best hyperparameters\r\n",
        "\r\n",
        "# Preprocess test set\r\n",
        "X_imdb_test = cp_imdb.preproc(test_imdb['data'])\r\n",
        "y_imdb_test = np.array(test_imdb['target'])\r\n",
        "\r\n",
        "# Vectorize data\r\n",
        "if best_params['use_idf']:\r\n",
        "    # If use_idf is true tf needs to be true\r\n",
        "    best_params['tf'] = True\r\n",
        "\r\n",
        "v = Vectorizer(best_params, stop_words=stop_words)\r\n",
        "X_imdb_train_tmp = pd.DataFrame.sparse.from_spmatrix(v.fit_transform(X_imdb_train))\r\n",
        "X_imdb_test = pd.DataFrame.sparse.from_spmatrix(v.transform(X_imdb_test))\r\n",
        "\r\n",
        "# initialize model\r\n",
        "model = NaiveBayes(best_params, n_classes=n_classes)\r\n",
        "\r\n",
        "# Train and test\r\n",
        "model.fit(X_imdb_train_tmp, y_imdb_train)\r\n",
        "y_pred = model.predict(X_imdb_test)\r\n",
        "test_acc = model.evaluate_acc(y_imdb_test, y_pred)\r\n",
        "print('Test accuracy using best hyperparameters NAIVE BAYES on IMDB: ' + str(test_acc))"
      ],
      "execution_count": null,
      "outputs": [
        {
          "output_type": "stream",
          "text": [
            "Tuning NAIVE BAYES on IMDB:\n",
            "\n",
            "Hyperparameters:\n",
            "{'max_df': 0.35, 'min_df': 2, 'use_idf': False, 'ngram_range': (1, 1), 'tf': True, 'alpha': 0.5}\n",
            "Accuracy: 0.867\n",
            "\n",
            "Best hyperparameters NaiveBayes:\n",
            "{'max_df': 0.35, 'min_df': 2, 'use_idf': False, 'ngram_range': (1, 1), 'tf': True, 'alpha': 0.5}\n",
            "Best average validation metric NaiveBayes: 0.867\n",
            "Test accuracy using best hyperparameters NAIVE BAYES on IMDB: 0.84328\n"
          ],
          "name": "stdout"
        }
      ]
    },
    {
      "cell_type": "code",
      "metadata": {
        "colab": {
          "base_uri": "https://localhost:8080/"
        },
        "id": "LcfuEKdqtJxN",
        "outputId": "68fabcef-cca8-48f0-83a6-910eed4de1cb"
      },
      "source": [
        "# ---- Tune for hyperparameters LOGISTIC REGRESSION ----\r\n",
        "print(\"Tuning LOGISTIC REGRESSION:\")\r\n",
        "samples, keys = random_search(hyperparameters_lr, n_samples=1, RAND=RAND)\r\n",
        "best_params, best_metric = tuning_loop(imdb_splits, samples, keys, model_type='LogisticRegression', n_classes=n_classes, verbose=True)\r\n",
        "\r\n",
        "# Preprocess test set\r\n",
        "X_imdb_test = cp_imdb.preproc(test_imdb['data'])\r\n",
        "y_imdb_test = np.array(test_imdb['target'])\r\n",
        "\r\n",
        "# Vectorize data\r\n",
        "if best_params['use_idf']:\r\n",
        "    # If use_idf is true tf needs to be true\r\n",
        "    best_params['tf'] = True\r\n",
        "\r\n",
        "v = Vectorizer(best_params, stop_words=stop_words)\r\n",
        "X_imdb_train_tmp = pd.DataFrame.sparse.from_spmatrix(v.fit_transform(X_imdb_train))\r\n",
        "X_imdb_test = pd.DataFrame.sparse.from_spmatrix(v.transform(X_imdb_test))\r\n",
        "\r\n",
        "# initialize model\r\n",
        "model = LogisticRegression(best_params, n_classes=n_classes)\r\n",
        "\r\n",
        "# Train and test\r\n",
        "model.fit(X_imdb_train_tmp, y_imdb_train)\r\n",
        "y_pred = model.predict(X_imdb_test)\r\n",
        "test_acc = model.evaluate_acc(y_imdb_test, y_pred)\r\n",
        "print('Test accuracy using best hyperparameters LOGISTIC REGRESSION on IMDB: ' + str(test_acc))"
      ],
      "execution_count": null,
      "outputs": [
        {
          "output_type": "stream",
          "text": [
            "Tuning LOGISTIC REGRESSION:\n",
            "\n",
            "Hyperparameters:\n",
            "{'max_df': 0.2, 'min_df': 10, 'use_idf': False, 'ngram_range': (1, 1), 'tf': False, 'max_iters': 100, 'learning_rate': 0.1, 'regularization': 'l2', 'reg_constant': 0}\n",
            "Accuracy: 0.8703999999999998\n",
            "\n",
            "Best hyperparameters LogisticRegression:\n",
            "{'max_df': 0.2, 'min_df': 10, 'use_idf': False, 'ngram_range': (1, 1), 'tf': False, 'max_iters': 100, 'learning_rate': 0.1, 'regularization': 'l2', 'reg_constant': 0}\n",
            "Best average validation metric LogisticRegression: 0.8703999999999998\n",
            "Test accuracy using best hyperparameters LOGISTIC REGRESSION on IMDB: 0.86376\n"
          ],
          "name": "stdout"
        }
      ]
    },
    {
      "cell_type": "markdown",
      "metadata": {
        "id": "lkLCILmDeLdJ"
      },
      "source": [
        "# Accuracy vs Epoch plot for Softmax Regression"
      ]
    },
    {
      "cell_type": "markdown",
      "metadata": {
        "id": "3SErMwWyfNT-"
      },
      "source": [
        "Redefine the fit function of LogisticRegression to take in the validation set to calculate validation accuracy at each epoch. Modify the KFoldCV for same purpose."
      ]
    },
    {
      "cell_type": "code",
      "metadata": {
        "id": "CtIFyOiiVi3r"
      },
      "source": [
        "def fit(self, x, y, x_val, y_val):\r\n",
        "    x = scipy.sparse.hstack((scipy.sparse.csr_matrix(np.ones((x.shape[0], 1))), x))\r\n",
        "    x_val = scipy.sparse.hstack((scipy.sparse.csr_matrix(np.ones((x_val.shape[0], 1))), x_val))\r\n",
        "    classes = np.unique(y)\r\n",
        "    self.weights = np.zeros((x.shape[1], len(classes)))\r\n",
        "    y_c = np.zeros((len(y), len(classes)))\r\n",
        "    for i, val in enumerate(y):\r\n",
        "        y_c[i, int(val)] = 1\r\n",
        "\r\n",
        "    train_acc = []\r\n",
        "    val_acc = []\r\n",
        "    for epoch in range(self.max_iters):\r\n",
        "\r\n",
        "        softm = softmax(x @ self.weights)\r\n",
        "        softm_val = softmax(x_val @ self.weights)\r\n",
        "\r\n",
        "        train_acc.append(self.evaluate_acc(y, np.argmax(softm, axis=1)))\r\n",
        "        val_acc.append(self.evaluate_acc(y_val, np.argmax(softm_val, axis=1)))\r\n",
        "\r\n",
        "        diff = softm - y_c\r\n",
        "        grad = (x.T @ diff)\r\n",
        "        if self.regul_type == \"l2\":\r\n",
        "            self.weights -= (self.learning_rate * (grad + self.regul_const * self.weights))\r\n",
        "        else:\r\n",
        "            self.weights -= (self.learning_rate * (grad + self.regul_const * np.sign(self.weights)))\r\n",
        "\r\n",
        "    self.weights = self.weights.T\r\n",
        "    return classes, train_acc, val_acc\r\n",
        "\r\n",
        "LogisticRegression.fit = fit\r\n",
        "\r\n",
        "\r\n",
        "def plot_accuracy(split, model):\r\n",
        "    _, train_acc, val_acc = model.fit(split['train']['X'], split['train']['y'], split['val']['X'], split['val']['y'])\r\n",
        "    plt.plot(train_acc, label='Training Accuracy')\r\n",
        "    plt.plot(val_acc, label='Validation Accuracy')\r\n",
        "    plt.ylabel('Accuracy (%)')\r\n",
        "    plt.xlabel('Epoch #')\r\n",
        "    plt.legend()\r\n",
        "    plt.show()"
      ],
      "execution_count": null,
      "outputs": []
    },
    {
      "cell_type": "markdown",
      "metadata": {
        "id": "nQCUGPdHEJ3_"
      },
      "source": [
        "Generate plot for IMDb"
      ]
    },
    {
      "cell_type": "code",
      "metadata": {
        "id": "covTZ9q7Vi7v",
        "colab": {
          "base_uri": "https://localhost:8080/",
          "height": 296
        },
        "outputId": "205be74d-47a3-4e60-f867-b75aaeb10514"
      },
      "source": [
        "# Use best hyperparameters for this experiment\r\n",
        "hyperparameters_lr = {'max_df': 0.2, 'min_df': 10, 'use_idf': False, 'ngram_range': (1, 1), 'tf': False, 'max_iters': 100, 'learning_rate': 0.1, 'regularization': 'l2', 'reg_constant': 0}\r\n",
        "\r\n",
        "import tarfile\r\n",
        "# Uncompress the tar.gz dataset\r\n",
        "tar = tarfile.open('aclImdb_v1.tar.gz', \"r:gz\")\r\n",
        "tar.extractall()\r\n",
        "tar.close()\r\n",
        "\r\n",
        "# Imdb sentiment dataset\r\n",
        "\r\n",
        "# Load imdb dataset\r\n",
        "train_imdb, test_imdb = load_imdb(data_path='', label_type='binary')\r\n",
        "\r\n",
        "cp_imdb = CorpusPreproc(lemmatizer=True,\r\n",
        "                        remove_stopwords=True,\r\n",
        "                        remove_punc=True)\r\n",
        "\r\n",
        "# Preprocess train set\r\n",
        "X_imdb_train = cp_imdb.preproc(train_imdb['data'])\r\n",
        "y_imdb_train = np.array(train_imdb['target'])\r\n",
        "n_classes = np.unique(y_imdb_train).shape[0]\r\n",
        "\r\n",
        "# Load K-fold splits\r\n",
        "imdb_splits = cross_validation_split(X_imdb_train, y_imdb_train, stratify=y_imdb_train, K=5)\r\n",
        "\r\n",
        "# Vectorize the first split (only doing this analysis on the first)\r\n",
        "v = Vectorizer(hyperparameters_lr)\r\n",
        "\r\n",
        "split_tune = {'train': {'X': v.fit_transform(imdb_splits[0]['train']['X']).copy(),\r\n",
        "                        'y': imdb_splits[0]['train']['y']},\r\n",
        "              'val': {'X': v.transform(imdb_splits[0]['val']['X']).copy(),\r\n",
        "                      'y': imdb_splits[0]['val']['y']}}\r\n",
        "# initialize model\r\n",
        "model = LogisticRegression(hyperparameters_lr, n_classes=n_classes)\r\n",
        "# ---- Tune for hyperparameters NAIVE BAYES ----\r\n",
        "print(\"Plot Accuracy vs. Epoch for Logistic regression on IMDB using LR 0.1:\")\r\n",
        "plot_accuracy(split_tune, model)\r\n"
      ],
      "execution_count": null,
      "outputs": [
        {
          "output_type": "stream",
          "text": [
            "Plot Accuracy vs. Epoch for Logistic regression on IMDB using LR 0.1:\n"
          ],
          "name": "stdout"
        },
        {
          "output_type": "display_data",
          "data": {
            "image/png": "[encoded data removed]",
            "text/plain": [
              "<Figure size 432x288 with 1 Axes>"
            ]
          },
          "metadata": {
            "tags": [],
            "needs_background": "light"
          }
        }
      ]
    },
    {
      "cell_type": "markdown",
      "metadata": {
        "id": "5Yi6Z_7sENwH"
      },
      "source": [
        "Generate plot for 20 newsgroups"
      ]
    },
    {
      "cell_type": "code",
      "metadata": {
        "id": "PoC5_TvqViz2",
        "colab": {
          "base_uri": "https://localhost:8080/",
          "height": 296
        },
        "outputId": "3e8f1143-0d9b-4170-d965-d56dfa44d35a"
      },
      "source": [
        "# Recreate same plot with LR 0.0001\r\n",
        "hyperparameters_lr['learning_rate'] = 0.0001\r\n",
        "\r\n",
        "# Vectorize the first split (only doing this analysis on the first)\r\n",
        "v = Vectorizer(hyperparameters_lr)\r\n",
        "\r\n",
        "split_tune = {'train': {'X': v.fit_transform(imdb_splits[0]['train']['X']).copy(),\r\n",
        "                        'y': imdb_splits[0]['train']['y']},\r\n",
        "              'val': {'X': v.transform(imdb_splits[0]['val']['X']).copy(),\r\n",
        "                      'y': imdb_splits[0]['val']['y']}}\r\n",
        "# initialize model\r\n",
        "model = LogisticRegression(hyperparameters_lr, n_classes=n_classes)\r\n",
        "# ---- Tune for hyperparameters NAIVE BAYES ----\r\n",
        "print(\"Plot Accuracy vs. Epoch for Logistic regression on IMDB using LR 0.0001:\")\r\n",
        "plot_accuracy(split_tune, model)"
      ],
      "execution_count": null,
      "outputs": [
        {
          "output_type": "stream",
          "text": [
            "Plot Accuracy vs. Epoch for Logistic regression on IMDB using LR 0.0001:\n"
          ],
          "name": "stdout"
        },
        {
          "output_type": "display_data",
          "data": {
            "image/png": "[encoded data removed]",
            "text/plain": [
              "<Figure size 432x288 with 1 Axes>"
            ]
          },
          "metadata": {
            "tags": [],
            "needs_background": "light"
          }
        }
      ]
    }
  ]
}